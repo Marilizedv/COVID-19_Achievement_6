{
 "cells": [
  {
   "cell_type": "markdown",
   "id": "91e42f63",
   "metadata": {},
   "source": [
    "# 6.4. Supervised Machine Learning: Regression"
   ]
  },
  {
   "cell_type": "markdown",
   "id": "f11cbad9",
   "metadata": {},
   "source": [
    "## This script contains:\n",
    "### 1. Importing libraries and data\n",
    "### 2. Data Cleaning\n",
    "### 3. Data prep for regression analysis & Regression Analysis"
   ]
  },
  {
   "cell_type": "markdown",
   "id": "4d9b9eb2",
   "metadata": {},
   "source": [
    "# 1. Importing Libraries & Data"
   ]
  },
  {
   "cell_type": "markdown",
   "id": "252a1a5b",
   "metadata": {},
   "source": [
    "## Libraries"
   ]
  },
  {
   "cell_type": "code",
   "execution_count": 1,
   "id": "3b116eec",
   "metadata": {},
   "outputs": [],
   "source": [
    "# import libraries\n",
    "import pandas as pd\n",
    "import numpy as np\n",
    "import seaborn as sns\n",
    "import matplotlib\n",
    "import matplotlib.pyplot as plt\n",
    "import os\n",
    "import sklearn\n",
    "from sklearn.model_selection import train_test_split \n",
    "from sklearn.linear_model import LinearRegression\n",
    "from sklearn.metrics import mean_squared_error, r2_score"
   ]
  },
  {
   "cell_type": "markdown",
   "id": "847fcfa4",
   "metadata": {},
   "source": [
    "## Data"
   ]
  },
  {
   "cell_type": "code",
   "execution_count": 2,
   "id": "80e1a5bb",
   "metadata": {},
   "outputs": [],
   "source": [
    "# create path\n",
    "path = r'C:\\Users\\M de Villiers\\Desktop\\Data Analytics\\Achievement 6\\02_Data\\Prepared_Data'"
   ]
  },
  {
   "cell_type": "code",
   "execution_count": 3,
   "id": "34613e12",
   "metadata": {},
   "outputs": [],
   "source": [
    "# Import data\n",
    "df= pd.read_csv(os.path.join(path, 'FINAL_COVID_19_DATA.csv'), index_col = False)"
   ]
  },
  {
   "cell_type": "code",
   "execution_count": 4,
   "id": "1ac1c642",
   "metadata": {},
   "outputs": [
    {
     "data": {
      "text/html": [
       "<div>\n",
       "<style scoped>\n",
       "    .dataframe tbody tr th:only-of-type {\n",
       "        vertical-align: middle;\n",
       "    }\n",
       "\n",
       "    .dataframe tbody tr th {\n",
       "        vertical-align: top;\n",
       "    }\n",
       "\n",
       "    .dataframe thead th {\n",
       "        text-align: right;\n",
       "    }\n",
       "</style>\n",
       "<table border=\"1\" class=\"dataframe\">\n",
       "  <thead>\n",
       "    <tr style=\"text-align: right;\">\n",
       "      <th></th>\n",
       "      <th>country</th>\n",
       "      <th>iso_code</th>\n",
       "      <th>month_year</th>\n",
       "      <th>vaccines</th>\n",
       "      <th>total_vaccinations</th>\n",
       "      <th>people_vaccinated</th>\n",
       "      <th>people_fully_vaccinated</th>\n",
       "      <th>monthly_vaccinations_raw</th>\n",
       "      <th>monthly_vaccinations</th>\n",
       "      <th>total_vaccinations_per_hundred</th>\n",
       "      <th>...</th>\n",
       "      <th>people_fully_vaccinated_per_hundred</th>\n",
       "      <th>monthly_vaccinations_per_million</th>\n",
       "      <th>continent</th>\n",
       "      <th>population</th>\n",
       "      <th>new_cases</th>\n",
       "      <th>total_cases</th>\n",
       "      <th>new_deaths</th>\n",
       "      <th>total_deaths</th>\n",
       "      <th>%deaths</th>\n",
       "      <th>%cases</th>\n",
       "    </tr>\n",
       "  </thead>\n",
       "  <tbody>\n",
       "    <tr>\n",
       "      <th>0</th>\n",
       "      <td>Afghanistan</td>\n",
       "      <td>AFG</td>\n",
       "      <td>2021-02</td>\n",
       "      <td>Johnson&amp;Johnson, Oxford/AstraZeneca, Pfizer/Bi...</td>\n",
       "      <td>8200.0</td>\n",
       "      <td>8200.0</td>\n",
       "      <td>0.0</td>\n",
       "      <td>0.0</td>\n",
       "      <td>8202.0</td>\n",
       "      <td>0.02</td>\n",
       "      <td>...</td>\n",
       "      <td>0.00</td>\n",
       "      <td>204.0</td>\n",
       "      <td>Asia</td>\n",
       "      <td>39835428.0</td>\n",
       "      <td>691.0</td>\n",
       "      <td>55714.0</td>\n",
       "      <td>43.0</td>\n",
       "      <td>2443.0</td>\n",
       "      <td>0.006133</td>\n",
       "      <td>0.139860</td>\n",
       "    </tr>\n",
       "    <tr>\n",
       "      <th>1</th>\n",
       "      <td>Afghanistan</td>\n",
       "      <td>AFG</td>\n",
       "      <td>2021-03</td>\n",
       "      <td>Johnson&amp;Johnson, Oxford/AstraZeneca, Pfizer/Bi...</td>\n",
       "      <td>54000.0</td>\n",
       "      <td>54000.0</td>\n",
       "      <td>0.0</td>\n",
       "      <td>0.0</td>\n",
       "      <td>85894.0</td>\n",
       "      <td>0.14</td>\n",
       "      <td>...</td>\n",
       "      <td>0.00</td>\n",
       "      <td>2154.0</td>\n",
       "      <td>Asia</td>\n",
       "      <td>39835428.0</td>\n",
       "      <td>740.0</td>\n",
       "      <td>56454.0</td>\n",
       "      <td>41.0</td>\n",
       "      <td>2484.0</td>\n",
       "      <td>0.006236</td>\n",
       "      <td>0.141718</td>\n",
       "    </tr>\n",
       "    <tr>\n",
       "      <th>2</th>\n",
       "      <td>Afghanistan</td>\n",
       "      <td>AFG</td>\n",
       "      <td>2021-04</td>\n",
       "      <td>Johnson&amp;Johnson, Oxford/AstraZeneca, Pfizer/Bi...</td>\n",
       "      <td>240000.0</td>\n",
       "      <td>240000.0</td>\n",
       "      <td>0.0</td>\n",
       "      <td>0.0</td>\n",
       "      <td>219606.0</td>\n",
       "      <td>0.60</td>\n",
       "      <td>...</td>\n",
       "      <td>0.00</td>\n",
       "      <td>5511.0</td>\n",
       "      <td>Asia</td>\n",
       "      <td>39835428.0</td>\n",
       "      <td>3291.0</td>\n",
       "      <td>59745.0</td>\n",
       "      <td>141.0</td>\n",
       "      <td>2625.0</td>\n",
       "      <td>0.006590</td>\n",
       "      <td>0.149980</td>\n",
       "    </tr>\n",
       "    <tr>\n",
       "      <th>3</th>\n",
       "      <td>Afghanistan</td>\n",
       "      <td>AFG</td>\n",
       "      <td>2021-05</td>\n",
       "      <td>Johnson&amp;Johnson, Oxford/AstraZeneca, Pfizer/Bi...</td>\n",
       "      <td>600152.0</td>\n",
       "      <td>480226.0</td>\n",
       "      <td>119926.0</td>\n",
       "      <td>2859.0</td>\n",
       "      <td>285838.0</td>\n",
       "      <td>1.51</td>\n",
       "      <td>...</td>\n",
       "      <td>0.30</td>\n",
       "      <td>7171.0</td>\n",
       "      <td>Asia</td>\n",
       "      <td>39835428.0</td>\n",
       "      <td>12093.0</td>\n",
       "      <td>71838.0</td>\n",
       "      <td>319.0</td>\n",
       "      <td>2944.0</td>\n",
       "      <td>0.007390</td>\n",
       "      <td>0.180337</td>\n",
       "    </tr>\n",
       "    <tr>\n",
       "      <th>4</th>\n",
       "      <td>Afghanistan</td>\n",
       "      <td>AFG</td>\n",
       "      <td>2021-06</td>\n",
       "      <td>Johnson&amp;Johnson, Oxford/AstraZeneca, Pfizer/Bi...</td>\n",
       "      <td>886854.0</td>\n",
       "      <td>699200.0</td>\n",
       "      <td>187654.0</td>\n",
       "      <td>4015.0</td>\n",
       "      <td>242899.0</td>\n",
       "      <td>2.23</td>\n",
       "      <td>...</td>\n",
       "      <td>0.47</td>\n",
       "      <td>6097.0</td>\n",
       "      <td>Asia</td>\n",
       "      <td>39835428.0</td>\n",
       "      <td>46821.0</td>\n",
       "      <td>118659.0</td>\n",
       "      <td>1927.0</td>\n",
       "      <td>4871.0</td>\n",
       "      <td>0.012228</td>\n",
       "      <td>0.297873</td>\n",
       "    </tr>\n",
       "  </tbody>\n",
       "</table>\n",
       "<p>5 rows × 21 columns</p>\n",
       "</div>"
      ],
      "text/plain": [
       "       country iso_code month_year  \\\n",
       "0  Afghanistan      AFG    2021-02   \n",
       "1  Afghanistan      AFG    2021-03   \n",
       "2  Afghanistan      AFG    2021-04   \n",
       "3  Afghanistan      AFG    2021-05   \n",
       "4  Afghanistan      AFG    2021-06   \n",
       "\n",
       "                                            vaccines  total_vaccinations  \\\n",
       "0  Johnson&Johnson, Oxford/AstraZeneca, Pfizer/Bi...              8200.0   \n",
       "1  Johnson&Johnson, Oxford/AstraZeneca, Pfizer/Bi...             54000.0   \n",
       "2  Johnson&Johnson, Oxford/AstraZeneca, Pfizer/Bi...            240000.0   \n",
       "3  Johnson&Johnson, Oxford/AstraZeneca, Pfizer/Bi...            600152.0   \n",
       "4  Johnson&Johnson, Oxford/AstraZeneca, Pfizer/Bi...            886854.0   \n",
       "\n",
       "   people_vaccinated  people_fully_vaccinated  monthly_vaccinations_raw  \\\n",
       "0             8200.0                      0.0                       0.0   \n",
       "1            54000.0                      0.0                       0.0   \n",
       "2           240000.0                      0.0                       0.0   \n",
       "3           480226.0                 119926.0                    2859.0   \n",
       "4           699200.0                 187654.0                    4015.0   \n",
       "\n",
       "   monthly_vaccinations  total_vaccinations_per_hundred  ...  \\\n",
       "0                8202.0                            0.02  ...   \n",
       "1               85894.0                            0.14  ...   \n",
       "2              219606.0                            0.60  ...   \n",
       "3              285838.0                            1.51  ...   \n",
       "4              242899.0                            2.23  ...   \n",
       "\n",
       "   people_fully_vaccinated_per_hundred  monthly_vaccinations_per_million  \\\n",
       "0                                 0.00                             204.0   \n",
       "1                                 0.00                            2154.0   \n",
       "2                                 0.00                            5511.0   \n",
       "3                                 0.30                            7171.0   \n",
       "4                                 0.47                            6097.0   \n",
       "\n",
       "   continent  population  new_cases  total_cases  new_deaths  total_deaths  \\\n",
       "0       Asia  39835428.0      691.0      55714.0        43.0        2443.0   \n",
       "1       Asia  39835428.0      740.0      56454.0        41.0        2484.0   \n",
       "2       Asia  39835428.0     3291.0      59745.0       141.0        2625.0   \n",
       "3       Asia  39835428.0    12093.0      71838.0       319.0        2944.0   \n",
       "4       Asia  39835428.0    46821.0     118659.0      1927.0        4871.0   \n",
       "\n",
       "    %deaths    %cases  \n",
       "0  0.006133  0.139860  \n",
       "1  0.006236  0.141718  \n",
       "2  0.006590  0.149980  \n",
       "3  0.007390  0.180337  \n",
       "4  0.012228  0.297873  \n",
       "\n",
       "[5 rows x 21 columns]"
      ]
     },
     "execution_count": 4,
     "metadata": {},
     "output_type": "execute_result"
    }
   ],
   "source": [
    "df.head()"
   ]
  },
  {
   "cell_type": "code",
   "execution_count": 5,
   "id": "b6c6acf9",
   "metadata": {
    "scrolled": true
   },
   "outputs": [
    {
     "data": {
      "text/html": [
       "<div>\n",
       "<style scoped>\n",
       "    .dataframe tbody tr th:only-of-type {\n",
       "        vertical-align: middle;\n",
       "    }\n",
       "\n",
       "    .dataframe tbody tr th {\n",
       "        vertical-align: top;\n",
       "    }\n",
       "\n",
       "    .dataframe thead th {\n",
       "        text-align: right;\n",
       "    }\n",
       "</style>\n",
       "<table border=\"1\" class=\"dataframe\">\n",
       "  <thead>\n",
       "    <tr style=\"text-align: right;\">\n",
       "      <th></th>\n",
       "      <th>country</th>\n",
       "      <th>iso_code</th>\n",
       "      <th>month_year</th>\n",
       "      <th>vaccines</th>\n",
       "      <th>total_vaccinations</th>\n",
       "      <th>people_vaccinated</th>\n",
       "      <th>people_fully_vaccinated</th>\n",
       "      <th>monthly_vaccinations_raw</th>\n",
       "      <th>monthly_vaccinations</th>\n",
       "      <th>total_vaccinations_per_hundred</th>\n",
       "      <th>...</th>\n",
       "      <th>people_fully_vaccinated_per_hundred</th>\n",
       "      <th>monthly_vaccinations_per_million</th>\n",
       "      <th>continent</th>\n",
       "      <th>population</th>\n",
       "      <th>new_cases</th>\n",
       "      <th>total_cases</th>\n",
       "      <th>new_deaths</th>\n",
       "      <th>total_deaths</th>\n",
       "      <th>%deaths</th>\n",
       "      <th>%cases</th>\n",
       "    </tr>\n",
       "  </thead>\n",
       "  <tbody>\n",
       "    <tr>\n",
       "      <th>5463</th>\n",
       "      <td>Zimbabwe</td>\n",
       "      <td>ZWE</td>\n",
       "      <td>2020-09</td>\n",
       "      <td>0</td>\n",
       "      <td>0.0</td>\n",
       "      <td>0.0</td>\n",
       "      <td>0.0</td>\n",
       "      <td>0.0</td>\n",
       "      <td>0.0</td>\n",
       "      <td>0.0</td>\n",
       "      <td>...</td>\n",
       "      <td>0.0</td>\n",
       "      <td>0.0</td>\n",
       "      <td>Africa</td>\n",
       "      <td>15092171.0</td>\n",
       "      <td>1341.0</td>\n",
       "      <td>7838.0</td>\n",
       "      <td>26.0</td>\n",
       "      <td>228.0</td>\n",
       "      <td>0.001511</td>\n",
       "      <td>0.051934</td>\n",
       "    </tr>\n",
       "    <tr>\n",
       "      <th>5464</th>\n",
       "      <td>Zimbabwe</td>\n",
       "      <td>ZWE</td>\n",
       "      <td>2020-10</td>\n",
       "      <td>0</td>\n",
       "      <td>0.0</td>\n",
       "      <td>0.0</td>\n",
       "      <td>0.0</td>\n",
       "      <td>0.0</td>\n",
       "      <td>0.0</td>\n",
       "      <td>0.0</td>\n",
       "      <td>...</td>\n",
       "      <td>0.0</td>\n",
       "      <td>0.0</td>\n",
       "      <td>Africa</td>\n",
       "      <td>15092171.0</td>\n",
       "      <td>529.0</td>\n",
       "      <td>8367.0</td>\n",
       "      <td>15.0</td>\n",
       "      <td>243.0</td>\n",
       "      <td>0.001610</td>\n",
       "      <td>0.055439</td>\n",
       "    </tr>\n",
       "    <tr>\n",
       "      <th>5465</th>\n",
       "      <td>Zimbabwe</td>\n",
       "      <td>ZWE</td>\n",
       "      <td>2020-11</td>\n",
       "      <td>0</td>\n",
       "      <td>0.0</td>\n",
       "      <td>0.0</td>\n",
       "      <td>0.0</td>\n",
       "      <td>0.0</td>\n",
       "      <td>0.0</td>\n",
       "      <td>0.0</td>\n",
       "      <td>...</td>\n",
       "      <td>0.0</td>\n",
       "      <td>0.0</td>\n",
       "      <td>Africa</td>\n",
       "      <td>15092171.0</td>\n",
       "      <td>1583.0</td>\n",
       "      <td>9950.0</td>\n",
       "      <td>33.0</td>\n",
       "      <td>276.0</td>\n",
       "      <td>0.001829</td>\n",
       "      <td>0.065928</td>\n",
       "    </tr>\n",
       "    <tr>\n",
       "      <th>5466</th>\n",
       "      <td>Zimbabwe</td>\n",
       "      <td>ZWE</td>\n",
       "      <td>2020-12</td>\n",
       "      <td>0</td>\n",
       "      <td>0.0</td>\n",
       "      <td>0.0</td>\n",
       "      <td>0.0</td>\n",
       "      <td>0.0</td>\n",
       "      <td>0.0</td>\n",
       "      <td>0.0</td>\n",
       "      <td>...</td>\n",
       "      <td>0.0</td>\n",
       "      <td>0.0</td>\n",
       "      <td>Africa</td>\n",
       "      <td>15092171.0</td>\n",
       "      <td>3917.0</td>\n",
       "      <td>13867.0</td>\n",
       "      <td>87.0</td>\n",
       "      <td>363.0</td>\n",
       "      <td>0.002405</td>\n",
       "      <td>0.091882</td>\n",
       "    </tr>\n",
       "    <tr>\n",
       "      <th>5467</th>\n",
       "      <td>Zimbabwe</td>\n",
       "      <td>ZWE</td>\n",
       "      <td>2021-01</td>\n",
       "      <td>0</td>\n",
       "      <td>0.0</td>\n",
       "      <td>0.0</td>\n",
       "      <td>0.0</td>\n",
       "      <td>0.0</td>\n",
       "      <td>0.0</td>\n",
       "      <td>0.0</td>\n",
       "      <td>...</td>\n",
       "      <td>0.0</td>\n",
       "      <td>0.0</td>\n",
       "      <td>Africa</td>\n",
       "      <td>15092171.0</td>\n",
       "      <td>19521.0</td>\n",
       "      <td>33388.0</td>\n",
       "      <td>854.0</td>\n",
       "      <td>1217.0</td>\n",
       "      <td>0.008064</td>\n",
       "      <td>0.221227</td>\n",
       "    </tr>\n",
       "  </tbody>\n",
       "</table>\n",
       "<p>5 rows × 21 columns</p>\n",
       "</div>"
      ],
      "text/plain": [
       "       country iso_code month_year vaccines  total_vaccinations  \\\n",
       "5463  Zimbabwe      ZWE    2020-09        0                 0.0   \n",
       "5464  Zimbabwe      ZWE    2020-10        0                 0.0   \n",
       "5465  Zimbabwe      ZWE    2020-11        0                 0.0   \n",
       "5466  Zimbabwe      ZWE    2020-12        0                 0.0   \n",
       "5467  Zimbabwe      ZWE    2021-01        0                 0.0   \n",
       "\n",
       "      people_vaccinated  people_fully_vaccinated  monthly_vaccinations_raw  \\\n",
       "5463                0.0                      0.0                       0.0   \n",
       "5464                0.0                      0.0                       0.0   \n",
       "5465                0.0                      0.0                       0.0   \n",
       "5466                0.0                      0.0                       0.0   \n",
       "5467                0.0                      0.0                       0.0   \n",
       "\n",
       "      monthly_vaccinations  total_vaccinations_per_hundred  ...  \\\n",
       "5463                   0.0                             0.0  ...   \n",
       "5464                   0.0                             0.0  ...   \n",
       "5465                   0.0                             0.0  ...   \n",
       "5466                   0.0                             0.0  ...   \n",
       "5467                   0.0                             0.0  ...   \n",
       "\n",
       "      people_fully_vaccinated_per_hundred  monthly_vaccinations_per_million  \\\n",
       "5463                                  0.0                               0.0   \n",
       "5464                                  0.0                               0.0   \n",
       "5465                                  0.0                               0.0   \n",
       "5466                                  0.0                               0.0   \n",
       "5467                                  0.0                               0.0   \n",
       "\n",
       "      continent  population  new_cases  total_cases  new_deaths  total_deaths  \\\n",
       "5463     Africa  15092171.0     1341.0       7838.0        26.0         228.0   \n",
       "5464     Africa  15092171.0      529.0       8367.0        15.0         243.0   \n",
       "5465     Africa  15092171.0     1583.0       9950.0        33.0         276.0   \n",
       "5466     Africa  15092171.0     3917.0      13867.0        87.0         363.0   \n",
       "5467     Africa  15092171.0    19521.0      33388.0       854.0        1217.0   \n",
       "\n",
       "       %deaths    %cases  \n",
       "5463  0.001511  0.051934  \n",
       "5464  0.001610  0.055439  \n",
       "5465  0.001829  0.065928  \n",
       "5466  0.002405  0.091882  \n",
       "5467  0.008064  0.221227  \n",
       "\n",
       "[5 rows x 21 columns]"
      ]
     },
     "execution_count": 5,
     "metadata": {},
     "output_type": "execute_result"
    }
   ],
   "source": [
    "df.tail()"
   ]
  },
  {
   "cell_type": "code",
   "execution_count": 6,
   "id": "403943d4",
   "metadata": {},
   "outputs": [
    {
     "data": {
      "text/plain": [
       "(5468, 21)"
      ]
     },
     "execution_count": 6,
     "metadata": {},
     "output_type": "execute_result"
    }
   ],
   "source": [
    "df.shape"
   ]
  },
  {
   "cell_type": "markdown",
   "id": "15119be8",
   "metadata": {},
   "source": [
    "# 2. Data Cleaining\n"
   ]
  },
  {
   "cell_type": "markdown",
   "id": "5b192b2f",
   "metadata": {},
   "source": [
    "### Changeing datatype and dropping columns for potential regression analysis\n",
    "I wanted delete rows that would only have data on covid cases and deaths and not vaccinations. I think it would make sense to only analyse the years (2021 and 2022) that contains information about both, since covid started in 2019 and vaccinations only in December 2020."
   ]
  },
  {
   "cell_type": "code",
   "execution_count": 7,
   "id": "41e02e84",
   "metadata": {},
   "outputs": [
    {
     "data": {
      "text/plain": [
       "0       2021-02\n",
       "1       2021-03\n",
       "2       2021-04\n",
       "3       2021-05\n",
       "4       2021-06\n",
       "         ...   \n",
       "5463    2020-09\n",
       "5464    2020-10\n",
       "5465    2020-11\n",
       "5466    2020-12\n",
       "5467    2021-01\n",
       "Name: month_year, Length: 5468, dtype: object"
      ]
     },
     "execution_count": 7,
     "metadata": {},
     "output_type": "execute_result"
    }
   ],
   "source": [
    "df['month_year'].astype(str)"
   ]
  },
  {
   "cell_type": "code",
   "execution_count": 8,
   "id": "9fb1f332",
   "metadata": {},
   "outputs": [],
   "source": [
    "df1=df.drop(df[df['month_year'].isin(['2020-01', '2020-02', '2020-03', '2020-04', '2020-05', '2020-06', '2020-07', '2020-08', '2020-09', '2020-10', '2020-11'])].index)"
   ]
  },
  {
   "cell_type": "code",
   "execution_count": 9,
   "id": "65e461e7",
   "metadata": {},
   "outputs": [
    {
     "data": {
      "text/plain": [
       "(3518, 21)"
      ]
     },
     "execution_count": 9,
     "metadata": {},
     "output_type": "execute_result"
    }
   ],
   "source": [
    "df1.shape #It seems this new dataset does not have enough rows to do the analysis"
   ]
  },
  {
   "cell_type": "markdown",
   "id": "4faa52f7",
   "metadata": {},
   "source": [
    "### Although this dataset is too small, I still tried the linear regression on it but I did not discuss the results since it was not much different from the results of the full dataset."
   ]
  },
  {
   "cell_type": "code",
   "execution_count": 10,
   "id": "ce2bdcce",
   "metadata": {},
   "outputs": [
    {
     "name": "stderr",
     "output_type": "stream",
     "text": [
      "C:\\Users\\M de Villiers\\anaconda3\\lib\\site-packages\\seaborn\\distributions.py:2619: FutureWarning: `distplot` is a deprecated function and will be removed in a future version. Please adapt your code to use either `displot` (a figure-level function with similar flexibility) or `histplot` (an axes-level function for histograms).\n",
      "  warnings.warn(msg, FutureWarning)\n"
     ]
    },
    {
     "data": {
      "text/plain": [
       "<AxesSubplot:xlabel='new_cases', ylabel='Density'>"
      ]
     },
     "execution_count": 10,
     "metadata": {},
     "output_type": "execute_result"
    },
    {
     "data": {
      "image/png": "[encoded data removed]",
      "text/plain": [
       "<Figure size 432x288 with 1 Axes>"
      ]
     },
     "metadata": {
      "needs_background": "light"
     },
     "output_type": "display_data"
    }
   ],
   "source": [
    "sns.distplot(df['new_cases'], bins=25) # Shows extreme values"
   ]
  },
  {
   "cell_type": "markdown",
   "id": "196113dd",
   "metadata": {},
   "source": [
    "# 3. Data Prep & Regression Analysis"
   ]
  },
  {
   "cell_type": "markdown",
   "id": "e007da77",
   "metadata": {},
   "source": [
    "### Total Vaccinations vs New Deaths"
   ]
  },
  {
   "cell_type": "code",
   "execution_count": 71,
   "id": "d0f41593",
   "metadata": {
    "scrolled": true
   },
   "outputs": [
    {
     "data": {
      "image/png": "[encoded data removed]",
      "text/plain": [
       "<Figure size 720x720 with 1 Axes>"
      ]
     },
     "metadata": {
      "needs_background": "light"
     },
     "output_type": "display_data"
    }
   ],
   "source": [
    "# Scatterplot\n",
    "f,ax = plt.subplots(figsize=(10,10))\n",
    "df.plot(x = 'total_vaccinations', y='new_deaths',style='o', ax=ax)\n",
    "plt.title('Total Vaccinations vs New COVID Deaths')  \n",
    "plt.xlabel('Total Vaccinations')  \n",
    "plt.ylabel('Number of Monthly Deaths')  \n",
    "plt.show()"
   ]
  },
  {
   "cell_type": "markdown",
   "id": "5ff7fa22",
   "metadata": {},
   "source": [
    "## Hypothesis 1: The more vaccinations are administered, the less monthly deaths will be reported."
   ]
  },
  {
   "cell_type": "code",
   "execution_count": 12,
   "id": "ed98d868",
   "metadata": {},
   "outputs": [],
   "source": [
    "# Reshape the variables into NumPy arrays and put them into separate objects.\n",
    "X = df['total_vaccinations'].values.reshape(-1,1)\n",
    "y = df['new_deaths'].values.reshape(-1,1)"
   ]
  },
  {
   "cell_type": "code",
   "execution_count": 13,
   "id": "faef67f8",
   "metadata": {},
   "outputs": [
    {
     "data": {
      "text/plain": [
       "array([[  8200.],\n",
       "       [ 54000.],\n",
       "       [240000.],\n",
       "       ...,\n",
       "       [     0.],\n",
       "       [     0.],\n",
       "       [     0.]])"
      ]
     },
     "execution_count": 13,
     "metadata": {},
     "output_type": "execute_result"
    }
   ],
   "source": [
    "X"
   ]
  },
  {
   "cell_type": "code",
   "execution_count": 14,
   "id": "5e6342b5",
   "metadata": {},
   "outputs": [
    {
     "data": {
      "text/plain": [
       "array([[ 43.],\n",
       "       [ 41.],\n",
       "       [141.],\n",
       "       ...,\n",
       "       [ 33.],\n",
       "       [ 87.],\n",
       "       [854.]])"
      ]
     },
     "execution_count": 14,
     "metadata": {},
     "output_type": "execute_result"
    }
   ],
   "source": [
    "y"
   ]
  },
  {
   "cell_type": "code",
   "execution_count": 15,
   "id": "1cc31f83",
   "metadata": {},
   "outputs": [],
   "source": [
    "# Split data into a training set and a test set.\n",
    "X_train, X_test, y_train, y_test = train_test_split(X, y, test_size=0.3, random_state=0)"
   ]
  },
  {
   "cell_type": "code",
   "execution_count": 16,
   "id": "8b662a0d",
   "metadata": {},
   "outputs": [],
   "source": [
    "# Create a regression object.\n",
    "regression = LinearRegression()"
   ]
  },
  {
   "cell_type": "code",
   "execution_count": 17,
   "id": "f45a795b",
   "metadata": {},
   "outputs": [
    {
     "data": {
      "text/plain": [
       "LinearRegression()"
      ]
     },
     "execution_count": 17,
     "metadata": {},
     "output_type": "execute_result"
    }
   ],
   "source": [
    "# Fit the regression object onto the training set.\n",
    "regression.fit(X_train, y_train)"
   ]
  },
  {
   "cell_type": "code",
   "execution_count": 18,
   "id": "8293b161",
   "metadata": {},
   "outputs": [],
   "source": [
    "# Predict the values of y using X.\n",
    "y_predicted = regression.predict(X_test)"
   ]
  },
  {
   "cell_type": "code",
   "execution_count": 19,
   "id": "41160e71",
   "metadata": {
    "scrolled": false
   },
   "outputs": [
    {
     "data": {
      "image/png": "[encoded data removed]",
      "text/plain": [
       "<Figure size 432x288 with 1 Axes>"
      ]
     },
     "metadata": {
      "needs_background": "light"
     },
     "output_type": "display_data"
    }
   ],
   "source": [
    "# Create a plot that shows the regression line from the model on the test set.\n",
    "plot_test = plt\n",
    "plot_test.scatter(X_test, y_test, color='gray', s = 15)\n",
    "plot_test.plot(X_test, y_predicted, color='red', linewidth =3)\n",
    "plot_test.title('Total Vaccinations vs New COVID Deaths')\n",
    "plot_test.xlabel('Total Vaccinations')\n",
    "plot_test.ylabel('Monthly Deaths')\n",
    "plot_test.show()"
   ]
  },
  {
   "cell_type": "markdown",
   "id": "cdfb036a",
   "metadata": {},
   "source": [
    "## Question 10\n",
    "The line does not seem to fit very well on the data set. The line moves in an upward direction that would suggest a positive correlation (as vaccinations increase so does the death rate) but the actual data points seem to be on a constant '0' value."
   ]
  },
  {
   "cell_type": "code",
   "execution_count": 20,
   "id": "23fe8aac",
   "metadata": {},
   "outputs": [],
   "source": [
    "# Create objects that contain the model summary statistics.\n",
    "rmse = mean_squared_error(y_test, y_predicted)\n",
    "r2 = r2_score(y_test, y_predicted)"
   ]
  },
  {
   "cell_type": "code",
   "execution_count": 21,
   "id": "77bf4747",
   "metadata": {},
   "outputs": [
    {
     "name": "stdout",
     "output_type": "stream",
     "text": [
      "Slope: [[6.3996508e-06]]\n",
      "Mean squared error:  25710784.563521482\n",
      "R2 score:  0.01210260610995606\n"
     ]
    }
   ],
   "source": [
    "# Print the model summary statistics.\n",
    "print('Slope:' ,regression.coef_)\n",
    "print('Mean squared error: ', rmse)\n",
    "print('R2 score: ', r2)"
   ]
  },
  {
   "cell_type": "code",
   "execution_count": 22,
   "id": "b0a02392",
   "metadata": {},
   "outputs": [
    {
     "data": {
      "text/plain": [
       "array([[1015.07804113],\n",
       "       [1066.91025925],\n",
       "       [1028.20187541],\n",
       "       ...,\n",
       "       [1015.07804113],\n",
       "       [1015.07804113],\n",
       "       [1015.31232594]])"
      ]
     },
     "execution_count": 22,
     "metadata": {},
     "output_type": "execute_result"
    }
   ],
   "source": [
    "y_predicted"
   ]
  },
  {
   "cell_type": "code",
   "execution_count": 23,
   "id": "03e71d9d",
   "metadata": {
    "scrolled": true
   },
   "outputs": [
    {
     "data": {
      "text/html": [
       "<div>\n",
       "<style scoped>\n",
       "    .dataframe tbody tr th:only-of-type {\n",
       "        vertical-align: middle;\n",
       "    }\n",
       "\n",
       "    .dataframe tbody tr th {\n",
       "        vertical-align: top;\n",
       "    }\n",
       "\n",
       "    .dataframe thead th {\n",
       "        text-align: right;\n",
       "    }\n",
       "</style>\n",
       "<table border=\"1\" class=\"dataframe\">\n",
       "  <thead>\n",
       "    <tr style=\"text-align: right;\">\n",
       "      <th></th>\n",
       "      <th>Actual</th>\n",
       "      <th>Predicted</th>\n",
       "    </tr>\n",
       "  </thead>\n",
       "  <tbody>\n",
       "    <tr>\n",
       "      <th>0</th>\n",
       "      <td>662.0</td>\n",
       "      <td>1015.078041</td>\n",
       "    </tr>\n",
       "    <tr>\n",
       "      <th>1</th>\n",
       "      <td>178.0</td>\n",
       "      <td>1066.910259</td>\n",
       "    </tr>\n",
       "    <tr>\n",
       "      <th>2</th>\n",
       "      <td>4.0</td>\n",
       "      <td>1028.201875</td>\n",
       "    </tr>\n",
       "    <tr>\n",
       "      <th>3</th>\n",
       "      <td>0.0</td>\n",
       "      <td>1016.055338</td>\n",
       "    </tr>\n",
       "    <tr>\n",
       "      <th>4</th>\n",
       "      <td>88.0</td>\n",
       "      <td>1015.078041</td>\n",
       "    </tr>\n",
       "    <tr>\n",
       "      <th>5</th>\n",
       "      <td>0.0</td>\n",
       "      <td>1015.078041</td>\n",
       "    </tr>\n",
       "    <tr>\n",
       "      <th>6</th>\n",
       "      <td>489.0</td>\n",
       "      <td>1167.105010</td>\n",
       "    </tr>\n",
       "    <tr>\n",
       "      <th>7</th>\n",
       "      <td>0.0</td>\n",
       "      <td>1015.093400</td>\n",
       "    </tr>\n",
       "    <tr>\n",
       "      <th>8</th>\n",
       "      <td>25.0</td>\n",
       "      <td>1026.450765</td>\n",
       "    </tr>\n",
       "    <tr>\n",
       "      <th>9</th>\n",
       "      <td>1998.0</td>\n",
       "      <td>1015.078041</td>\n",
       "    </tr>\n",
       "    <tr>\n",
       "      <th>10</th>\n",
       "      <td>270.0</td>\n",
       "      <td>1015.078041</td>\n",
       "    </tr>\n",
       "    <tr>\n",
       "      <th>11</th>\n",
       "      <td>0.0</td>\n",
       "      <td>1015.078041</td>\n",
       "    </tr>\n",
       "    <tr>\n",
       "      <th>12</th>\n",
       "      <td>416.0</td>\n",
       "      <td>1015.142902</td>\n",
       "    </tr>\n",
       "    <tr>\n",
       "      <th>13</th>\n",
       "      <td>12.0</td>\n",
       "      <td>1015.078041</td>\n",
       "    </tr>\n",
       "    <tr>\n",
       "      <th>14</th>\n",
       "      <td>22.0</td>\n",
       "      <td>1023.466422</td>\n",
       "    </tr>\n",
       "    <tr>\n",
       "      <th>15</th>\n",
       "      <td>756.0</td>\n",
       "      <td>1403.581968</td>\n",
       "    </tr>\n",
       "    <tr>\n",
       "      <th>16</th>\n",
       "      <td>69.0</td>\n",
       "      <td>1023.839131</td>\n",
       "    </tr>\n",
       "    <tr>\n",
       "      <th>17</th>\n",
       "      <td>9832.0</td>\n",
       "      <td>3552.778308</td>\n",
       "    </tr>\n",
       "    <tr>\n",
       "      <th>18</th>\n",
       "      <td>233.0</td>\n",
       "      <td>1015.078041</td>\n",
       "    </tr>\n",
       "    <tr>\n",
       "      <th>19</th>\n",
       "      <td>6.0</td>\n",
       "      <td>1025.788356</td>\n",
       "    </tr>\n",
       "    <tr>\n",
       "      <th>20</th>\n",
       "      <td>0.0</td>\n",
       "      <td>1015.354244</td>\n",
       "    </tr>\n",
       "    <tr>\n",
       "      <th>21</th>\n",
       "      <td>0.0</td>\n",
       "      <td>1018.907311</td>\n",
       "    </tr>\n",
       "    <tr>\n",
       "      <th>22</th>\n",
       "      <td>0.0</td>\n",
       "      <td>1026.685037</td>\n",
       "    </tr>\n",
       "    <tr>\n",
       "      <th>23</th>\n",
       "      <td>20.0</td>\n",
       "      <td>1015.078041</td>\n",
       "    </tr>\n",
       "    <tr>\n",
       "      <th>24</th>\n",
       "      <td>1.0</td>\n",
       "      <td>1015.078041</td>\n",
       "    </tr>\n",
       "    <tr>\n",
       "      <th>25</th>\n",
       "      <td>311.0</td>\n",
       "      <td>1029.125230</td>\n",
       "    </tr>\n",
       "    <tr>\n",
       "      <th>26</th>\n",
       "      <td>4.0</td>\n",
       "      <td>1015.520148</td>\n",
       "    </tr>\n",
       "    <tr>\n",
       "      <th>27</th>\n",
       "      <td>3.0</td>\n",
       "      <td>1015.582679</td>\n",
       "    </tr>\n",
       "    <tr>\n",
       "      <th>28</th>\n",
       "      <td>5.0</td>\n",
       "      <td>1016.098184</td>\n",
       "    </tr>\n",
       "    <tr>\n",
       "      <th>29</th>\n",
       "      <td>0.0</td>\n",
       "      <td>1015.078041</td>\n",
       "    </tr>\n",
       "  </tbody>\n",
       "</table>\n",
       "</div>"
      ],
      "text/plain": [
       "    Actual    Predicted\n",
       "0    662.0  1015.078041\n",
       "1    178.0  1066.910259\n",
       "2      4.0  1028.201875\n",
       "3      0.0  1016.055338\n",
       "4     88.0  1015.078041\n",
       "5      0.0  1015.078041\n",
       "6    489.0  1167.105010\n",
       "7      0.0  1015.093400\n",
       "8     25.0  1026.450765\n",
       "9   1998.0  1015.078041\n",
       "10   270.0  1015.078041\n",
       "11     0.0  1015.078041\n",
       "12   416.0  1015.142902\n",
       "13    12.0  1015.078041\n",
       "14    22.0  1023.466422\n",
       "15   756.0  1403.581968\n",
       "16    69.0  1023.839131\n",
       "17  9832.0  3552.778308\n",
       "18   233.0  1015.078041\n",
       "19     6.0  1025.788356\n",
       "20     0.0  1015.354244\n",
       "21     0.0  1018.907311\n",
       "22     0.0  1026.685037\n",
       "23    20.0  1015.078041\n",
       "24     1.0  1015.078041\n",
       "25   311.0  1029.125230\n",
       "26     4.0  1015.520148\n",
       "27     3.0  1015.582679\n",
       "28     5.0  1016.098184\n",
       "29     0.0  1015.078041"
      ]
     },
     "execution_count": 23,
     "metadata": {},
     "output_type": "execute_result"
    }
   ],
   "source": [
    "# Create a dataframe comparing the actual and predicted values of y.\n",
    "data = pd.DataFrame({'Actual': y_test.flatten(), 'Predicted': y_predicted.flatten()})\n",
    "data.head(30)"
   ]
  },
  {
   "cell_type": "markdown",
   "id": "d79e2be5",
   "metadata": {},
   "source": [
    "## Question 13:\n",
    "This linear regression model did not do well on this set at all. I don't think it is only the regression model's fault though. There is likely not a strong correlation between the variables and even if there were, it is not linear. It might also have to do with the fact that each country has a vastly different population size and some countries will naturally have much more vaccinations than others, and much more deaths than others. There are also many other factors that would have an influence on the number of deaths (the severity of the COVID-strain, the capacity of hospitals and clinics, how developed the country is, etc). It would perhaps make more sense analysing each country separately, or at least each continent, or perhaps an aggragted sum globally, since this will perhaps reduce the variability of the variables. This also perhaps shows how truly unpredictable COVID-19 is still and how we still have so much more to learn of this disease. People we think will never die of COVID, dies, etc. I believe we still require much more data on COVID-19 before we can truly make accurate predictions."
   ]
  },
  {
   "cell_type": "code",
   "execution_count": 24,
   "id": "85b9857a",
   "metadata": {},
   "outputs": [],
   "source": [
    "#Compare how the regression fits the training set\n",
    "y_predicted_train = regression.predict(X_train)"
   ]
  },
  {
   "cell_type": "code",
   "execution_count": 25,
   "id": "4de2eae9",
   "metadata": {},
   "outputs": [],
   "source": [
    "rmse = mean_squared_error(y_train, y_predicted_train)\n",
    "r2 = r2_score(y_train, y_predicted_train)"
   ]
  },
  {
   "cell_type": "code",
   "execution_count": 26,
   "id": "3e3c5b94",
   "metadata": {},
   "outputs": [
    {
     "name": "stdout",
     "output_type": "stream",
     "text": [
      "Slope: [[6.3996508e-06]]\n",
      "Mean squared error:  23692241.594840396\n",
      "R2 score:  0.025035511356992113\n"
     ]
    }
   ],
   "source": [
    "print('Slope:' ,regression.coef_)\n",
    "print('Mean squared error: ', rmse)\n",
    "print('R2 score: ', r2)"
   ]
  },
  {
   "cell_type": "code",
   "execution_count": 27,
   "id": "1caf41c5",
   "metadata": {},
   "outputs": [
    {
     "data": {
      "image/png": "[encoded data removed]",
      "text/plain": [
       "<Figure size 432x288 with 1 Axes>"
      ]
     },
     "metadata": {
      "needs_background": "light"
     },
     "output_type": "display_data"
    }
   ],
   "source": [
    "# Visualizing the training set results.\n",
    "plot_train = plt\n",
    "plot_train.scatter(X_train, y_train, color='green', s = 15)\n",
    "plot_train.plot(X_train, y_predicted_train, color='red', linewidth =3)\n",
    "plot_train.title('Total Vaccinations vs New COVID Deaths (Training set)')\n",
    "plot_train.xlabel('Total Vaccinations')\n",
    "plot_train.ylabel('Monthly')\n",
    "plot_train.show()"
   ]
  },
  {
   "cell_type": "markdown",
   "id": "861644b5",
   "metadata": {},
   "source": [
    "### Total Vaccinations & New cases"
   ]
  },
  {
   "cell_type": "code",
   "execution_count": 70,
   "id": "8d37be75",
   "metadata": {},
   "outputs": [
    {
     "data": {
      "image/png": "[encoded data removed]",
      "text/plain": [
       "<Figure size 720x720 with 1 Axes>"
      ]
     },
     "metadata": {
      "needs_background": "light"
     },
     "output_type": "display_data"
    }
   ],
   "source": [
    "# Scatterplot1\n",
    "f,ax = plt.subplots(figsize=(10,10))\n",
    "df.plot(x = 'total_vaccinations', y='new_cases',style='o', ax=ax)\n",
    "plt.title('Total Vaccinations vs New COVID Cases')  \n",
    "plt.xlabel('Total Vaccinations')  \n",
    "plt.ylabel('Number of Monthly Cases')  \n",
    "plt.show()"
   ]
  },
  {
   "cell_type": "markdown",
   "id": "fd0637f3",
   "metadata": {},
   "source": [
    "## Hypothesis 2: The more vaccinations are administered, the less monthly cases will be reported."
   ]
  },
  {
   "cell_type": "code",
   "execution_count": 29,
   "id": "9357c65a",
   "metadata": {},
   "outputs": [],
   "source": [
    "# Reshape the variables into NumPy arrays and put them into separate objects.\n",
    "X1 = df['total_vaccinations'].values.reshape(-1,1)\n",
    "y1 = df['new_cases'].values.reshape(-1,1)"
   ]
  },
  {
   "cell_type": "code",
   "execution_count": 30,
   "id": "c6b4a4c1",
   "metadata": {},
   "outputs": [],
   "source": [
    "# Split data into a training set and a test set.\n",
    "X_train1, X_test1, y_train1, y_test1 = train_test_split(X1, y1, test_size=0.3, random_state=0)"
   ]
  },
  {
   "cell_type": "code",
   "execution_count": 31,
   "id": "ec5f9c17",
   "metadata": {},
   "outputs": [
    {
     "data": {
      "text/plain": [
       "LinearRegression()"
      ]
     },
     "execution_count": 31,
     "metadata": {},
     "output_type": "execute_result"
    }
   ],
   "source": [
    "# Fit the regression object onto the training set.\n",
    "regression.fit(X_train1, y_train1)"
   ]
  },
  {
   "cell_type": "code",
   "execution_count": 32,
   "id": "5446ec06",
   "metadata": {},
   "outputs": [],
   "source": [
    "# Predict the values of y using X.\n",
    "y_predicted1 = regression.predict(X_test1)"
   ]
  },
  {
   "cell_type": "code",
   "execution_count": 33,
   "id": "617cfb66",
   "metadata": {
    "scrolled": true
   },
   "outputs": [
    {
     "data": {
      "image/png": "[encoded data removed]",
      "text/plain": [
       "<Figure size 432x288 with 1 Axes>"
      ]
     },
     "metadata": {
      "needs_background": "light"
     },
     "output_type": "display_data"
    }
   ],
   "source": [
    "# Create a plot that shows the regression line from the model on the test set.\n",
    "plot_test1 = plt\n",
    "plot_test1.scatter(X_test1, y_test1, color='gray', s = 15)\n",
    "plot_test1.plot(X_test1, y_predicted1, color='red', linewidth =3)\n",
    "plot_test1.title('Total Vaccinations vs Monthly Cases')\n",
    "plot_test1.xlabel('Total Vaccinations')\n",
    "plot_test1.ylabel('Monthly Cases')\n",
    "plot_test1.show()"
   ]
  },
  {
   "cell_type": "markdown",
   "id": "b979b19b",
   "metadata": {},
   "source": [
    "## Question 10\n",
    "The line does not seem to fit very well on the data set. The line move in an upward direction that would suggest a positive correlation (as vaccinations increase so does the number of cases) but the actual data points seem to be on a constant '0' value."
   ]
  },
  {
   "cell_type": "code",
   "execution_count": 34,
   "id": "4238124a",
   "metadata": {},
   "outputs": [],
   "source": [
    "# Create objects that contain the model summary statistics.\n",
    "rmse1 = mean_squared_error(y_test1, y_predicted1)\n",
    "r2_1 = r2_score(y_test1, y_predicted1)"
   ]
  },
  {
   "cell_type": "code",
   "execution_count": 35,
   "id": "2b820374",
   "metadata": {},
   "outputs": [
    {
     "name": "stdout",
     "output_type": "stream",
     "text": [
      "Slope: [[0.00083723]]\n",
      "Mean squared error:  246522693473.89713\n",
      "R2 score:  0.022226716285479453\n"
     ]
    }
   ],
   "source": [
    "# Print the model summary statistics.\n",
    "print('Slope:' ,regression.coef_)\n",
    "print('Mean squared error: ', rmse1)\n",
    "print('R2 score: ', r2_1)"
   ]
  },
  {
   "cell_type": "code",
   "execution_count": 36,
   "id": "3e522de0",
   "metadata": {},
   "outputs": [
    {
     "data": {
      "text/plain": [
       "array([[74975.63380755],\n",
       "       [81756.52381901],\n",
       "       [76692.54425508],\n",
       "       ...,\n",
       "       [74975.63380755],\n",
       "       [74975.63380755],\n",
       "       [75006.28384774]])"
      ]
     },
     "execution_count": 36,
     "metadata": {},
     "output_type": "execute_result"
    }
   ],
   "source": [
    "y_predicted1"
   ]
  },
  {
   "cell_type": "code",
   "execution_count": 37,
   "id": "2eabbb0d",
   "metadata": {
    "scrolled": true
   },
   "outputs": [
    {
     "data": {
      "text/html": [
       "<div>\n",
       "<style scoped>\n",
       "    .dataframe tbody tr th:only-of-type {\n",
       "        vertical-align: middle;\n",
       "    }\n",
       "\n",
       "    .dataframe tbody tr th {\n",
       "        vertical-align: top;\n",
       "    }\n",
       "\n",
       "    .dataframe thead th {\n",
       "        text-align: right;\n",
       "    }\n",
       "</style>\n",
       "<table border=\"1\" class=\"dataframe\">\n",
       "  <thead>\n",
       "    <tr style=\"text-align: right;\">\n",
       "      <th></th>\n",
       "      <th>Actual</th>\n",
       "      <th>Predicted</th>\n",
       "    </tr>\n",
       "  </thead>\n",
       "  <tbody>\n",
       "    <tr>\n",
       "      <th>0</th>\n",
       "      <td>65907.0</td>\n",
       "      <td>74975.633808</td>\n",
       "    </tr>\n",
       "    <tr>\n",
       "      <th>1</th>\n",
       "      <td>21517.0</td>\n",
       "      <td>81756.523819</td>\n",
       "    </tr>\n",
       "    <tr>\n",
       "      <th>2</th>\n",
       "      <td>4178.0</td>\n",
       "      <td>76692.544255</td>\n",
       "    </tr>\n",
       "    <tr>\n",
       "      <th>3</th>\n",
       "      <td>1.0</td>\n",
       "      <td>75103.487567</td>\n",
       "    </tr>\n",
       "    <tr>\n",
       "      <th>4</th>\n",
       "      <td>13875.0</td>\n",
       "      <td>74975.633808</td>\n",
       "    </tr>\n",
       "    <tr>\n",
       "      <th>5</th>\n",
       "      <td>66.0</td>\n",
       "      <td>74975.633808</td>\n",
       "    </tr>\n",
       "    <tr>\n",
       "      <th>6</th>\n",
       "      <td>92167.0</td>\n",
       "      <td>94864.386199</td>\n",
       "    </tr>\n",
       "    <tr>\n",
       "      <th>7</th>\n",
       "      <td>0.0</td>\n",
       "      <td>74977.643152</td>\n",
       "    </tr>\n",
       "    <tr>\n",
       "      <th>8</th>\n",
       "      <td>44454.0</td>\n",
       "      <td>76463.457203</td>\n",
       "    </tr>\n",
       "    <tr>\n",
       "      <th>9</th>\n",
       "      <td>156782.0</td>\n",
       "      <td>74975.633808</td>\n",
       "    </tr>\n",
       "    <tr>\n",
       "      <th>10</th>\n",
       "      <td>41594.0</td>\n",
       "      <td>74975.633808</td>\n",
       "    </tr>\n",
       "    <tr>\n",
       "      <th>11</th>\n",
       "      <td>118.0</td>\n",
       "      <td>74975.633808</td>\n",
       "    </tr>\n",
       "    <tr>\n",
       "      <th>12</th>\n",
       "      <td>29040.0</td>\n",
       "      <td>74984.119102</td>\n",
       "    </tr>\n",
       "    <tr>\n",
       "      <th>13</th>\n",
       "      <td>977.0</td>\n",
       "      <td>74975.633808</td>\n",
       "    </tr>\n",
       "    <tr>\n",
       "      <th>14</th>\n",
       "      <td>10456.0</td>\n",
       "      <td>76073.034012</td>\n",
       "    </tr>\n",
       "    <tr>\n",
       "      <th>15</th>\n",
       "      <td>78029.0</td>\n",
       "      <td>125801.210937</td>\n",
       "    </tr>\n",
       "    <tr>\n",
       "      <th>16</th>\n",
       "      <td>741.0</td>\n",
       "      <td>76121.793270</td>\n",
       "    </tr>\n",
       "    <tr>\n",
       "      <th>17</th>\n",
       "      <td>1090620.0</td>\n",
       "      <td>406967.337346</td>\n",
       "    </tr>\n",
       "    <tr>\n",
       "      <th>18</th>\n",
       "      <td>8120.0</td>\n",
       "      <td>74975.633808</td>\n",
       "    </tr>\n",
       "    <tr>\n",
       "      <th>19</th>\n",
       "      <td>393.0</td>\n",
       "      <td>76376.798356</td>\n",
       "    </tr>\n",
       "    <tr>\n",
       "      <th>20</th>\n",
       "      <td>204.0</td>\n",
       "      <td>75011.767684</td>\n",
       "    </tr>\n",
       "    <tr>\n",
       "      <th>21</th>\n",
       "      <td>4.0</td>\n",
       "      <td>75476.593557</td>\n",
       "    </tr>\n",
       "    <tr>\n",
       "      <th>22</th>\n",
       "      <td>42.0</td>\n",
       "      <td>76494.105569</td>\n",
       "    </tr>\n",
       "    <tr>\n",
       "      <th>23</th>\n",
       "      <td>1887.0</td>\n",
       "      <td>74975.633808</td>\n",
       "    </tr>\n",
       "    <tr>\n",
       "      <th>24</th>\n",
       "      <td>24.0</td>\n",
       "      <td>74975.633808</td>\n",
       "    </tr>\n",
       "    <tr>\n",
       "      <th>25</th>\n",
       "      <td>28851.0</td>\n",
       "      <td>76813.341029</td>\n",
       "    </tr>\n",
       "    <tr>\n",
       "      <th>26</th>\n",
       "      <td>2797.0</td>\n",
       "      <td>75033.471955</td>\n",
       "    </tr>\n",
       "    <tr>\n",
       "      <th>27</th>\n",
       "      <td>389.0</td>\n",
       "      <td>75041.652499</td>\n",
       "    </tr>\n",
       "    <tr>\n",
       "      <th>28</th>\n",
       "      <td>425.0</td>\n",
       "      <td>75109.092801</td>\n",
       "    </tr>\n",
       "    <tr>\n",
       "      <th>29</th>\n",
       "      <td>0.0</td>\n",
       "      <td>74975.633808</td>\n",
       "    </tr>\n",
       "  </tbody>\n",
       "</table>\n",
       "</div>"
      ],
      "text/plain": [
       "       Actual      Predicted\n",
       "0     65907.0   74975.633808\n",
       "1     21517.0   81756.523819\n",
       "2      4178.0   76692.544255\n",
       "3         1.0   75103.487567\n",
       "4     13875.0   74975.633808\n",
       "5        66.0   74975.633808\n",
       "6     92167.0   94864.386199\n",
       "7         0.0   74977.643152\n",
       "8     44454.0   76463.457203\n",
       "9    156782.0   74975.633808\n",
       "10    41594.0   74975.633808\n",
       "11      118.0   74975.633808\n",
       "12    29040.0   74984.119102\n",
       "13      977.0   74975.633808\n",
       "14    10456.0   76073.034012\n",
       "15    78029.0  125801.210937\n",
       "16      741.0   76121.793270\n",
       "17  1090620.0  406967.337346\n",
       "18     8120.0   74975.633808\n",
       "19      393.0   76376.798356\n",
       "20      204.0   75011.767684\n",
       "21        4.0   75476.593557\n",
       "22       42.0   76494.105569\n",
       "23     1887.0   74975.633808\n",
       "24       24.0   74975.633808\n",
       "25    28851.0   76813.341029\n",
       "26     2797.0   75033.471955\n",
       "27      389.0   75041.652499\n",
       "28      425.0   75109.092801\n",
       "29        0.0   74975.633808"
      ]
     },
     "execution_count": 37,
     "metadata": {},
     "output_type": "execute_result"
    }
   ],
   "source": [
    "# Create a dataframe comparing the actual and predicted values of y.\n",
    "data1 = pd.DataFrame({'Actual': y_test1.flatten(), 'Predicted': y_predicted1.flatten()})\n",
    "data1.head(30)"
   ]
  },
  {
   "cell_type": "markdown",
   "id": "2810ce7e",
   "metadata": {},
   "source": [
    "## Question 13:\n",
    "This answer is basically the same as for \"Total vaccinations vs number of monthly deaths\".\n",
    "The linear regression model does not do well on this set at all. There is likely not a strong correlation between the variables and even if there were, it is not linear. It might also have to do with the fact that each country has a vastly different population size and some countries will naturally have much more vaccinations than others, and much more cases than others. It would perhaps make more sense analysing each country separately, or at least each continent, or perhaps an aggragted sum globally, since this will perhaps reduce the variability of the variables. This also perhaps shows how truly unpredictable COVID-19 is still and how we still have so much more to learn of this disease. People we think will never contract COVID (e.g. someone who has already had the 3 shots), tests positive, etc. I believe we still require much more data on COVID-19 before we can truly make accurate predictions."
   ]
  },
  {
   "cell_type": "code",
   "execution_count": 38,
   "id": "a365674d",
   "metadata": {},
   "outputs": [],
   "source": [
    "#Compare how the regression fits the training set\n",
    "y_predicted_train1 = regression.predict(X_train1)"
   ]
  },
  {
   "cell_type": "code",
   "execution_count": 39,
   "id": "74d8cc72",
   "metadata": {},
   "outputs": [],
   "source": [
    "rmse1 = mean_squared_error(y_train1, y_predicted_train1)\n",
    "r2_1 = r2_score(y_train1, y_predicted_train1)"
   ]
  },
  {
   "cell_type": "code",
   "execution_count": 40,
   "id": "cf41061c",
   "metadata": {},
   "outputs": [
    {
     "name": "stdout",
     "output_type": "stream",
     "text": [
      "Slope: [[0.00083723]]\n",
      "Mean squared error:  247547067467.0889\n",
      "R2 score:  0.040364194502664597\n"
     ]
    }
   ],
   "source": [
    "print('Slope:' ,regression.coef_)\n",
    "print('Mean squared error: ', rmse1)\n",
    "print('R2 score: ', r2_1)"
   ]
  },
  {
   "cell_type": "code",
   "execution_count": 41,
   "id": "8763b352",
   "metadata": {},
   "outputs": [
    {
     "data": {
      "image/png": "[encoded data removed]",
      "text/plain": [
       "<Figure size 432x288 with 1 Axes>"
      ]
     },
     "metadata": {
      "needs_background": "light"
     },
     "output_type": "display_data"
    }
   ],
   "source": [
    "# Visualizing the training set results.\n",
    "plot_train1 = plt\n",
    "plot_train1.scatter(X_train1, y_train1, color='green', s = 15)\n",
    "plot_train1.plot(X_train1, y_predicted_train1, color='red', linewidth =3)\n",
    "plot_train1.title('Total Vaccinations vs Monthly Cases (Train set)')\n",
    "plot_train1.xlabel('Total Vaccinations')\n",
    "plot_train1.ylabel('Number of Monthly Cases')\n",
    "plot_train1.show()"
   ]
  },
  {
   "cell_type": "markdown",
   "id": "fb2aea96",
   "metadata": {},
   "source": [
    "### Test the above regressions with df1 (without deaths and cases from 2019 and 2020)"
   ]
  },
  {
   "cell_type": "code",
   "execution_count": 42,
   "id": "b8e1badb",
   "metadata": {},
   "outputs": [
    {
     "data": {
      "image/png": "[encoded data removed]",
      "text/plain": [
       "<Figure size 432x288 with 1 Axes>"
      ]
     },
     "metadata": {
      "needs_background": "light"
     },
     "output_type": "display_data"
    }
   ],
   "source": [
    "# Scatterplot (same hypothesis as Hypothesis 1)\n",
    "df1.plot(x = 'total_vaccinations', y='new_deaths',style='o')\n",
    "plt.title('Total Vaccinations vs New COVID Deaths')  \n",
    "plt.xlabel('Total Vaccinations')  \n",
    "plt.ylabel('Number of Monthly Deaths')  \n",
    "plt.show()"
   ]
  },
  {
   "cell_type": "code",
   "execution_count": 43,
   "id": "2edecd06",
   "metadata": {},
   "outputs": [],
   "source": [
    "# Reshape the variables into NumPy arrays and put them into separate objects.\n",
    "X2 = df1['total_vaccinations'].values.reshape(-1,1)\n",
    "y2 = df1['new_cases'].values.reshape(-1,1)"
   ]
  },
  {
   "cell_type": "code",
   "execution_count": 44,
   "id": "87fb93ca",
   "metadata": {},
   "outputs": [],
   "source": [
    "# Split data into a training set and a test set.\n",
    "X_train2, X_test2, y_train2, y_test2 = train_test_split(X2, y2, test_size=0.3, random_state=0)"
   ]
  },
  {
   "cell_type": "code",
   "execution_count": 45,
   "id": "70088b89",
   "metadata": {},
   "outputs": [
    {
     "data": {
      "text/plain": [
       "LinearRegression()"
      ]
     },
     "execution_count": 45,
     "metadata": {},
     "output_type": "execute_result"
    }
   ],
   "source": [
    "# Fit the regression object onto the training set.\n",
    "regression.fit(X_train2, y_train2)"
   ]
  },
  {
   "cell_type": "code",
   "execution_count": 46,
   "id": "5ae3801d",
   "metadata": {},
   "outputs": [],
   "source": [
    "# Predict the values of y using X.\n",
    "y_predicted2 = regression.predict(X_test2)"
   ]
  },
  {
   "cell_type": "code",
   "execution_count": 47,
   "id": "de73f84e",
   "metadata": {},
   "outputs": [
    {
     "data": {
      "image/png": "[encoded data removed]",
      "text/plain": [
       "<Figure size 432x288 with 1 Axes>"
      ]
     },
     "metadata": {
      "needs_background": "light"
     },
     "output_type": "display_data"
    }
   ],
   "source": [
    "# Create a plot that shows the regression line from the model on the test set.\n",
    "plot_test2 = plt\n",
    "plot_test2.scatter(X_test2, y_test2, color='gray', s = 15)\n",
    "plot_test2.plot(X_test2, y_predicted2, color='red', linewidth =3)\n",
    "plot_test2.title('Total Vaccinations vs New Deaths')\n",
    "plot_test2.xlabel('Total Vaccinations')\n",
    "plot_test2.ylabel('Number of Deaths')\n",
    "plot_test2.show()"
   ]
  },
  {
   "cell_type": "code",
   "execution_count": 48,
   "id": "8a27f373",
   "metadata": {},
   "outputs": [],
   "source": [
    "# Create objects that contain the model summary statistics.\n",
    "rmse2 = mean_squared_error(y_test2, y_predicted2)\n",
    "r2_2 = r2_score(y_test2, y_predicted2)"
   ]
  },
  {
   "cell_type": "code",
   "execution_count": 49,
   "id": "714cc821",
   "metadata": {},
   "outputs": [
    {
     "name": "stdout",
     "output_type": "stream",
     "text": [
      "Slope: [[0.00076669]]\n",
      "Mean squared error:  161257623779.07413\n",
      "R2 score:  0.029061998642230802\n"
     ]
    }
   ],
   "source": [
    "# Print the model summary statistics.\n",
    "print('Slope:' ,regression.coef_)\n",
    "print('Mean squared error: ', rmse2)\n",
    "print('R2 score: ', r2_2)"
   ]
  },
  {
   "cell_type": "code",
   "execution_count": 50,
   "id": "9df812ea",
   "metadata": {},
   "outputs": [
    {
     "data": {
      "text/plain": [
       "array([[110745.1927186 ],\n",
       "       [110730.77049073],\n",
       "       [111418.43268107],\n",
       "       ...,\n",
       "       [129868.99326725],\n",
       "       [110673.48792559],\n",
       "       [133585.82319222]])"
      ]
     },
     "execution_count": 50,
     "metadata": {},
     "output_type": "execute_result"
    }
   ],
   "source": [
    "y_predicted2"
   ]
  },
  {
   "cell_type": "code",
   "execution_count": 51,
   "id": "191dfd25",
   "metadata": {},
   "outputs": [
    {
     "data": {
      "text/html": [
       "<div>\n",
       "<style scoped>\n",
       "    .dataframe tbody tr th:only-of-type {\n",
       "        vertical-align: middle;\n",
       "    }\n",
       "\n",
       "    .dataframe tbody tr th {\n",
       "        vertical-align: top;\n",
       "    }\n",
       "\n",
       "    .dataframe thead th {\n",
       "        text-align: right;\n",
       "    }\n",
       "</style>\n",
       "<table border=\"1\" class=\"dataframe\">\n",
       "  <thead>\n",
       "    <tr style=\"text-align: right;\">\n",
       "      <th></th>\n",
       "      <th>Actual</th>\n",
       "      <th>Predicted</th>\n",
       "    </tr>\n",
       "  </thead>\n",
       "  <tbody>\n",
       "    <tr>\n",
       "      <th>0</th>\n",
       "      <td>30.0</td>\n",
       "      <td>110745.192719</td>\n",
       "    </tr>\n",
       "    <tr>\n",
       "      <th>1</th>\n",
       "      <td>2425.0</td>\n",
       "      <td>110730.770491</td>\n",
       "    </tr>\n",
       "    <tr>\n",
       "      <th>2</th>\n",
       "      <td>641.0</td>\n",
       "      <td>111418.432681</td>\n",
       "    </tr>\n",
       "    <tr>\n",
       "      <th>3</th>\n",
       "      <td>7198.0</td>\n",
       "      <td>110732.484046</td>\n",
       "    </tr>\n",
       "    <tr>\n",
       "      <th>4</th>\n",
       "      <td>504.0</td>\n",
       "      <td>110773.769599</td>\n",
       "    </tr>\n",
       "    <tr>\n",
       "      <th>5</th>\n",
       "      <td>3.0</td>\n",
       "      <td>110689.004222</td>\n",
       "    </tr>\n",
       "    <tr>\n",
       "      <th>6</th>\n",
       "      <td>71.0</td>\n",
       "      <td>110673.487926</td>\n",
       "    </tr>\n",
       "    <tr>\n",
       "      <th>7</th>\n",
       "      <td>95787.0</td>\n",
       "      <td>113229.760538</td>\n",
       "    </tr>\n",
       "    <tr>\n",
       "      <th>8</th>\n",
       "      <td>2901.0</td>\n",
       "      <td>110673.487926</td>\n",
       "    </tr>\n",
       "    <tr>\n",
       "      <th>9</th>\n",
       "      <td>0.0</td>\n",
       "      <td>110675.787999</td>\n",
       "    </tr>\n",
       "    <tr>\n",
       "      <th>10</th>\n",
       "      <td>23.0</td>\n",
       "      <td>110673.487926</td>\n",
       "    </tr>\n",
       "    <tr>\n",
       "      <th>11</th>\n",
       "      <td>144744.0</td>\n",
       "      <td>271630.952255</td>\n",
       "    </tr>\n",
       "    <tr>\n",
       "      <th>12</th>\n",
       "      <td>52.0</td>\n",
       "      <td>110673.487926</td>\n",
       "    </tr>\n",
       "    <tr>\n",
       "      <th>13</th>\n",
       "      <td>929.0</td>\n",
       "      <td>110675.424588</td>\n",
       "    </tr>\n",
       "    <tr>\n",
       "      <th>14</th>\n",
       "      <td>6124.0</td>\n",
       "      <td>110907.394672</td>\n",
       "    </tr>\n",
       "    <tr>\n",
       "      <th>15</th>\n",
       "      <td>77355.0</td>\n",
       "      <td>212364.961623</td>\n",
       "    </tr>\n",
       "    <tr>\n",
       "      <th>16</th>\n",
       "      <td>71.0</td>\n",
       "      <td>110673.487926</td>\n",
       "    </tr>\n",
       "    <tr>\n",
       "      <th>17</th>\n",
       "      <td>4.0</td>\n",
       "      <td>110704.716791</td>\n",
       "    </tr>\n",
       "    <tr>\n",
       "      <th>18</th>\n",
       "      <td>0.0</td>\n",
       "      <td>110673.487926</td>\n",
       "    </tr>\n",
       "    <tr>\n",
       "      <th>19</th>\n",
       "      <td>45325.0</td>\n",
       "      <td>113979.922627</td>\n",
       "    </tr>\n",
       "    <tr>\n",
       "      <th>20</th>\n",
       "      <td>1010.0</td>\n",
       "      <td>111024.242242</td>\n",
       "    </tr>\n",
       "    <tr>\n",
       "      <th>21</th>\n",
       "      <td>529.0</td>\n",
       "      <td>114123.598255</td>\n",
       "    </tr>\n",
       "    <tr>\n",
       "      <th>22</th>\n",
       "      <td>0.0</td>\n",
       "      <td>110681.814959</td>\n",
       "    </tr>\n",
       "    <tr>\n",
       "      <th>23</th>\n",
       "      <td>20538.0</td>\n",
       "      <td>111753.283522</td>\n",
       "    </tr>\n",
       "    <tr>\n",
       "      <th>24</th>\n",
       "      <td>75853.0</td>\n",
       "      <td>110673.487926</td>\n",
       "    </tr>\n",
       "    <tr>\n",
       "      <th>25</th>\n",
       "      <td>35492.0</td>\n",
       "      <td>112945.483714</td>\n",
       "    </tr>\n",
       "    <tr>\n",
       "      <th>26</th>\n",
       "      <td>560874.0</td>\n",
       "      <td>124007.377722</td>\n",
       "    </tr>\n",
       "    <tr>\n",
       "      <th>27</th>\n",
       "      <td>183107.0</td>\n",
       "      <td>120454.359036</td>\n",
       "    </tr>\n",
       "    <tr>\n",
       "      <th>28</th>\n",
       "      <td>31.0</td>\n",
       "      <td>110847.406454</td>\n",
       "    </tr>\n",
       "    <tr>\n",
       "      <th>29</th>\n",
       "      <td>3225.0</td>\n",
       "      <td>112228.441917</td>\n",
       "    </tr>\n",
       "  </tbody>\n",
       "</table>\n",
       "</div>"
      ],
      "text/plain": [
       "      Actual      Predicted\n",
       "0       30.0  110745.192719\n",
       "1     2425.0  110730.770491\n",
       "2      641.0  111418.432681\n",
       "3     7198.0  110732.484046\n",
       "4      504.0  110773.769599\n",
       "5        3.0  110689.004222\n",
       "6       71.0  110673.487926\n",
       "7    95787.0  113229.760538\n",
       "8     2901.0  110673.487926\n",
       "9        0.0  110675.787999\n",
       "10      23.0  110673.487926\n",
       "11  144744.0  271630.952255\n",
       "12      52.0  110673.487926\n",
       "13     929.0  110675.424588\n",
       "14    6124.0  110907.394672\n",
       "15   77355.0  212364.961623\n",
       "16      71.0  110673.487926\n",
       "17       4.0  110704.716791\n",
       "18       0.0  110673.487926\n",
       "19   45325.0  113979.922627\n",
       "20    1010.0  111024.242242\n",
       "21     529.0  114123.598255\n",
       "22       0.0  110681.814959\n",
       "23   20538.0  111753.283522\n",
       "24   75853.0  110673.487926\n",
       "25   35492.0  112945.483714\n",
       "26  560874.0  124007.377722\n",
       "27  183107.0  120454.359036\n",
       "28      31.0  110847.406454\n",
       "29    3225.0  112228.441917"
      ]
     },
     "execution_count": 51,
     "metadata": {},
     "output_type": "execute_result"
    }
   ],
   "source": [
    "# Create a dataframe comparing the actual and predicted values of y.\n",
    "data2 = pd.DataFrame({'Actual': y_test2.flatten(), 'Predicted': y_predicted2.flatten()})\n",
    "data2.head(30)"
   ]
  },
  {
   "cell_type": "code",
   "execution_count": 52,
   "id": "f2d72e02",
   "metadata": {},
   "outputs": [],
   "source": [
    "#Compare how the regression fits the training set\n",
    "y_predicted_train2 = regression.predict(X_train2)"
   ]
  },
  {
   "cell_type": "code",
   "execution_count": 53,
   "id": "9f0427c8",
   "metadata": {},
   "outputs": [],
   "source": [
    "rmse2 = mean_squared_error(y_train2, y_predicted_train2)\n",
    "r2_2 = r2_score(y_train2, y_predicted_train2)"
   ]
  },
  {
   "cell_type": "code",
   "execution_count": 54,
   "id": "d17ac72f",
   "metadata": {},
   "outputs": [
    {
     "name": "stdout",
     "output_type": "stream",
     "text": [
      "Slope: [[0.00076669]]\n",
      "Mean squared error:  451882413330.3899\n",
      "R2 score:  0.034691341991638924\n"
     ]
    }
   ],
   "source": [
    "print('Slope:' ,regression.coef_)\n",
    "print('Mean squared error: ', rmse2)\n",
    "print('R2 score: ', r2_2)"
   ]
  },
  {
   "cell_type": "code",
   "execution_count": 55,
   "id": "7efbdf4f",
   "metadata": {},
   "outputs": [
    {
     "data": {
      "image/png": "[encoded data removed]",
      "text/plain": [
       "<Figure size 432x288 with 1 Axes>"
      ]
     },
     "metadata": {
      "needs_background": "light"
     },
     "output_type": "display_data"
    }
   ],
   "source": [
    "# Visualizing the training set results.\n",
    "plot_train2 = plt\n",
    "plot_train2.scatter(X_train2, y_train2, color='green', s = 15)\n",
    "plot_train2.plot(X_train2, y_predicted_train2, color='red', linewidth =3)\n",
    "plot_train2.title('Total Vaccinations vs Monthly Cases (Train set)')\n",
    "plot_train2.xlabel('Total Vaccinations')\n",
    "plot_train2.ylabel('Number of Monthly Cases')\n",
    "plot_train2.show()"
   ]
  },
  {
   "cell_type": "markdown",
   "id": "84eb4a2d",
   "metadata": {},
   "source": [
    "### Total Vaccinations vs People Fully Vaccinated"
   ]
  },
  {
   "cell_type": "code",
   "execution_count": 56,
   "id": "03008a88",
   "metadata": {
    "scrolled": true
   },
   "outputs": [
    {
     "data": {
      "image/png": "[encoded data removed]",
      "text/plain": [
       "<Figure size 432x288 with 1 Axes>"
      ]
     },
     "metadata": {
      "needs_background": "light"
     },
     "output_type": "display_data"
    }
   ],
   "source": [
    "# Scatterplot3\n",
    "df.plot(x = 'total_vaccinations', y='people_fully_vaccinated',style='o')\n",
    "plt.title('Total Vaccinations vs People Fully Vaccinated')  \n",
    "plt.xlabel('Total Vaccinations')  \n",
    "plt.ylabel('Number of People Fully Vaccinated')  \n",
    "plt.show()"
   ]
  },
  {
   "cell_type": "markdown",
   "id": "aa6172ea",
   "metadata": {},
   "source": [
    "## Hypothesis 3: The more vaccinations are administered, the more people will be fully vaccinated."
   ]
  },
  {
   "cell_type": "code",
   "execution_count": 57,
   "id": "cb04a759",
   "metadata": {},
   "outputs": [],
   "source": [
    "# Reshape the variables into NumPy arrays and put them into separate objects.\n",
    "X3 = df['total_vaccinations'].values.reshape(-1,1)\n",
    "y3 = df['people_fully_vaccinated'].values.reshape(-1,1)"
   ]
  },
  {
   "cell_type": "code",
   "execution_count": 58,
   "id": "39e1e49d",
   "metadata": {},
   "outputs": [],
   "source": [
    "# Split data into a training set and a test set.\n",
    "X_train3, X_test3, y_train3, y_test3 = train_test_split(X3, y3, test_size=0.3, random_state=0)"
   ]
  },
  {
   "cell_type": "code",
   "execution_count": 59,
   "id": "be0d75db",
   "metadata": {},
   "outputs": [
    {
     "data": {
      "text/plain": [
       "LinearRegression()"
      ]
     },
     "execution_count": 59,
     "metadata": {},
     "output_type": "execute_result"
    }
   ],
   "source": [
    "# Fit the regression object onto the training set.\n",
    "regression.fit(X_train3, y_train3)"
   ]
  },
  {
   "cell_type": "code",
   "execution_count": 60,
   "id": "e6480a1e",
   "metadata": {},
   "outputs": [],
   "source": [
    "# Predict the values of y using X.\n",
    "y_predicted3 = regression.predict(X_test3)"
   ]
  },
  {
   "cell_type": "code",
   "execution_count": 61,
   "id": "5c6997b7",
   "metadata": {
    "scrolled": true
   },
   "outputs": [
    {
     "data": {
      "image/png": "[encoded data removed]",
      "text/plain": [
       "<Figure size 432x288 with 1 Axes>"
      ]
     },
     "metadata": {
      "needs_background": "light"
     },
     "output_type": "display_data"
    }
   ],
   "source": [
    "# Create a plot that shows the regression line from the model on the test set.\n",
    "plot_test3 = plt\n",
    "plot_test3.scatter(X_test3, y_test3, color='gray', s = 15)\n",
    "plot_test3.plot(X_test3, y_predicted3, color='red', linewidth =3)\n",
    "plot_test3.title('Total Vaccinations vs People Fully Vaccinated')\n",
    "plot_test3.xlabel('Total Vaccinations')\n",
    "plot_test3.ylabel('Number of People Fully Vaccinated')\n",
    "plot_test3.show()"
   ]
  },
  {
   "cell_type": "markdown",
   "id": "f4ba2266",
   "metadata": {},
   "source": [
    "## Question 10\n",
    "The line seem to fit quite well on the data set. The line moves in an upward direction that would suggest a positive correlation (as vaccinations increase so does the number of people fully vaccinated) and so does some of the actual data points (although not all of them)."
   ]
  },
  {
   "cell_type": "code",
   "execution_count": 62,
   "id": "c4e33689",
   "metadata": {},
   "outputs": [],
   "source": [
    "# Create objects that contain the model summary statistics.\n",
    "rmse3 = mean_squared_error(y_test3, y_predicted3)\n",
    "r2_3 = r2_score(y_test3, y_predicted3)"
   ]
  },
  {
   "cell_type": "code",
   "execution_count": 63,
   "id": "61327464",
   "metadata": {},
   "outputs": [
    {
     "name": "stdout",
     "output_type": "stream",
     "text": [
      "Slope: [[0.40794635]]\n",
      "Mean squared error:  1360020635627669.2\n",
      "R2 score:  0.06083508612221766\n"
     ]
    }
   ],
   "source": [
    "# Print the model summary statistics.\n",
    "print('Slope:' ,regression.coef_)\n",
    "print('Mean squared error: ', rmse3)\n",
    "print('R2 score: ', r2_3)"
   ]
  },
  {
   "cell_type": "code",
   "execution_count": 64,
   "id": "cb44e643",
   "metadata": {},
   "outputs": [
    {
     "data": {
      "text/plain": [
       "array([[ -57486.79647391],\n",
       "       [3246562.91832884],\n",
       "       [ 779093.27854719],\n",
       "       ...,\n",
       "       [ -57486.79647391],\n",
       "       [ -57486.79647391],\n",
       "       [ -42552.28840991]])"
      ]
     },
     "execution_count": 64,
     "metadata": {},
     "output_type": "execute_result"
    }
   ],
   "source": [
    "y_predicted3"
   ]
  },
  {
   "cell_type": "code",
   "execution_count": 65,
   "id": "f5b25cae",
   "metadata": {
    "scrolled": true
   },
   "outputs": [
    {
     "data": {
      "text/html": [
       "<div>\n",
       "<style scoped>\n",
       "    .dataframe tbody tr th:only-of-type {\n",
       "        vertical-align: middle;\n",
       "    }\n",
       "\n",
       "    .dataframe tbody tr th {\n",
       "        vertical-align: top;\n",
       "    }\n",
       "\n",
       "    .dataframe thead th {\n",
       "        text-align: right;\n",
       "    }\n",
       "</style>\n",
       "<table border=\"1\" class=\"dataframe\">\n",
       "  <thead>\n",
       "    <tr style=\"text-align: right;\">\n",
       "      <th></th>\n",
       "      <th>Actual</th>\n",
       "      <th>Predicted</th>\n",
       "    </tr>\n",
       "  </thead>\n",
       "  <tbody>\n",
       "    <tr>\n",
       "      <th>0</th>\n",
       "      <td>0.0</td>\n",
       "      <td>-5.748680e+04</td>\n",
       "    </tr>\n",
       "    <tr>\n",
       "      <th>1</th>\n",
       "      <td>3117849.0</td>\n",
       "      <td>3.246563e+06</td>\n",
       "    </tr>\n",
       "    <tr>\n",
       "      <th>2</th>\n",
       "      <td>988156.0</td>\n",
       "      <td>7.790933e+05</td>\n",
       "    </tr>\n",
       "    <tr>\n",
       "      <th>3</th>\n",
       "      <td>50403.0</td>\n",
       "      <td>4.811099e+03</td>\n",
       "    </tr>\n",
       "    <tr>\n",
       "      <th>4</th>\n",
       "      <td>0.0</td>\n",
       "      <td>-5.748680e+04</td>\n",
       "    </tr>\n",
       "    <tr>\n",
       "      <th>5</th>\n",
       "      <td>0.0</td>\n",
       "      <td>-5.748680e+04</td>\n",
       "    </tr>\n",
       "    <tr>\n",
       "      <th>6</th>\n",
       "      <td>10124505.0</td>\n",
       "      <td>9.633487e+06</td>\n",
       "    </tr>\n",
       "    <tr>\n",
       "      <th>7</th>\n",
       "      <td>0.0</td>\n",
       "      <td>-5.650773e+04</td>\n",
       "    </tr>\n",
       "    <tr>\n",
       "      <th>8</th>\n",
       "      <td>805226.0</td>\n",
       "      <td>6.674685e+05</td>\n",
       "    </tr>\n",
       "    <tr>\n",
       "      <th>9</th>\n",
       "      <td>0.0</td>\n",
       "      <td>-5.748680e+04</td>\n",
       "    </tr>\n",
       "    <tr>\n",
       "      <th>10</th>\n",
       "      <td>0.0</td>\n",
       "      <td>-5.748680e+04</td>\n",
       "    </tr>\n",
       "    <tr>\n",
       "      <th>11</th>\n",
       "      <td>0.0</td>\n",
       "      <td>-5.748680e+04</td>\n",
       "    </tr>\n",
       "    <tr>\n",
       "      <th>12</th>\n",
       "      <td>655.0</td>\n",
       "      <td>-5.335226e+04</td>\n",
       "    </tr>\n",
       "    <tr>\n",
       "      <th>13</th>\n",
       "      <td>0.0</td>\n",
       "      <td>-5.748680e+04</td>\n",
       "    </tr>\n",
       "    <tr>\n",
       "      <th>14</th>\n",
       "      <td>583001.0</td>\n",
       "      <td>4.772313e+05</td>\n",
       "    </tr>\n",
       "    <tr>\n",
       "      <th>15</th>\n",
       "      <td>29024735.0</td>\n",
       "      <td>2.470773e+07</td>\n",
       "    </tr>\n",
       "    <tr>\n",
       "      <th>16</th>\n",
       "      <td>656984.0</td>\n",
       "      <td>5.009897e+05</td>\n",
       "    </tr>\n",
       "    <tr>\n",
       "      <th>17</th>\n",
       "      <td>155930535.0</td>\n",
       "      <td>1.617085e+08</td>\n",
       "    </tr>\n",
       "    <tr>\n",
       "      <th>18</th>\n",
       "      <td>0.0</td>\n",
       "      <td>-5.748680e+04</td>\n",
       "    </tr>\n",
       "    <tr>\n",
       "      <th>19</th>\n",
       "      <td>782696.0</td>\n",
       "      <td>6.252432e+05</td>\n",
       "    </tr>\n",
       "    <tr>\n",
       "      <th>20</th>\n",
       "      <td>20644.0</td>\n",
       "      <td>-3.988024e+04</td>\n",
       "    </tr>\n",
       "    <tr>\n",
       "      <th>21</th>\n",
       "      <td>274109.0</td>\n",
       "      <td>1.866104e+05</td>\n",
       "    </tr>\n",
       "    <tr>\n",
       "      <th>22</th>\n",
       "      <td>936846.0</td>\n",
       "      <td>6.824022e+05</td>\n",
       "    </tr>\n",
       "    <tr>\n",
       "      <th>23</th>\n",
       "      <td>0.0</td>\n",
       "      <td>-5.748680e+04</td>\n",
       "    </tr>\n",
       "    <tr>\n",
       "      <th>24</th>\n",
       "      <td>0.0</td>\n",
       "      <td>-5.748680e+04</td>\n",
       "    </tr>\n",
       "    <tr>\n",
       "      <th>25</th>\n",
       "      <td>860453.0</td>\n",
       "      <td>8.379526e+05</td>\n",
       "    </tr>\n",
       "    <tr>\n",
       "      <th>26</th>\n",
       "      <td>26042.0</td>\n",
       "      <td>-2.930464e+04</td>\n",
       "    </tr>\n",
       "    <tr>\n",
       "      <th>27</th>\n",
       "      <td>39225.0</td>\n",
       "      <td>-2.531859e+04</td>\n",
       "    </tr>\n",
       "    <tr>\n",
       "      <th>28</th>\n",
       "      <td>76756.0</td>\n",
       "      <td>7.542300e+03</td>\n",
       "    </tr>\n",
       "    <tr>\n",
       "      <th>29</th>\n",
       "      <td>0.0</td>\n",
       "      <td>-5.748680e+04</td>\n",
       "    </tr>\n",
       "  </tbody>\n",
       "</table>\n",
       "</div>"
      ],
      "text/plain": [
       "         Actual     Predicted\n",
       "0           0.0 -5.748680e+04\n",
       "1     3117849.0  3.246563e+06\n",
       "2      988156.0  7.790933e+05\n",
       "3       50403.0  4.811099e+03\n",
       "4           0.0 -5.748680e+04\n",
       "5           0.0 -5.748680e+04\n",
       "6    10124505.0  9.633487e+06\n",
       "7           0.0 -5.650773e+04\n",
       "8      805226.0  6.674685e+05\n",
       "9           0.0 -5.748680e+04\n",
       "10          0.0 -5.748680e+04\n",
       "11          0.0 -5.748680e+04\n",
       "12        655.0 -5.335226e+04\n",
       "13          0.0 -5.748680e+04\n",
       "14     583001.0  4.772313e+05\n",
       "15   29024735.0  2.470773e+07\n",
       "16     656984.0  5.009897e+05\n",
       "17  155930535.0  1.617085e+08\n",
       "18          0.0 -5.748680e+04\n",
       "19     782696.0  6.252432e+05\n",
       "20      20644.0 -3.988024e+04\n",
       "21     274109.0  1.866104e+05\n",
       "22     936846.0  6.824022e+05\n",
       "23          0.0 -5.748680e+04\n",
       "24          0.0 -5.748680e+04\n",
       "25     860453.0  8.379526e+05\n",
       "26      26042.0 -2.930464e+04\n",
       "27      39225.0 -2.531859e+04\n",
       "28      76756.0  7.542300e+03\n",
       "29          0.0 -5.748680e+04"
      ]
     },
     "execution_count": 65,
     "metadata": {},
     "output_type": "execute_result"
    }
   ],
   "source": [
    "# Create a dataframe comparing the actual and predicted values of y.\n",
    "data3 = pd.DataFrame({'Actual': y_test3.flatten(), 'Predicted': y_predicted3.flatten()})\n",
    "data3.head(30)"
   ]
  },
  {
   "cell_type": "markdown",
   "id": "9bea1d89",
   "metadata": {},
   "source": [
    "## Question 13:\n",
    "The linear regression model did not fit very well on the test set but fit very well on the training set. The R2 value of the test set is 0.0596... and on the training set 0.96 which is much better. The regression line also looked as though it fit quite well but when looking at the statistics and actual vs predicted dataframe, it was in actual fact not such a great fit. I believe this might also have something to do with the variability between countries, but also perhaps the fact that more vaccinations cannot necessarily mean more people will be fully vaccinated since many of the vaccines require 2 shots to be fully vaccinated and many countries have already started giving out \"booster shots\" which means people who were already counted among \"fully vaccinated\" will not be counted again once they get a booster shot, thus total vaccinations will increase, but not number of people fully vaccinated."
   ]
  },
  {
   "cell_type": "code",
   "execution_count": 66,
   "id": "11ee4067",
   "metadata": {},
   "outputs": [],
   "source": [
    "#Compare how the regression fits the training set\n",
    "y_predicted_train3 = regression.predict(X_train3)"
   ]
  },
  {
   "cell_type": "code",
   "execution_count": 67,
   "id": "5ebf4f1f",
   "metadata": {},
   "outputs": [],
   "source": [
    "rmse3 = mean_squared_error(y_train3, y_predicted_train3)\n",
    "r2_3 = r2_score(y_train3, y_predicted_train3)"
   ]
  },
  {
   "cell_type": "code",
   "execution_count": 68,
   "id": "5ea5760c",
   "metadata": {},
   "outputs": [
    {
     "name": "stdout",
     "output_type": "stream",
     "text": [
      "Slope: [[0.40794635]]\n",
      "Mean squared error:  108081820744033.84\n",
      "R2 score:  0.9581108977243352\n"
     ]
    }
   ],
   "source": [
    "print('Slope:' ,regression.coef_)\n",
    "print('Mean squared error: ', rmse3)\n",
    "print('R2 score: ', r2_3)"
   ]
  },
  {
   "cell_type": "code",
   "execution_count": 69,
   "id": "cdb1bd20",
   "metadata": {},
   "outputs": [
    {
     "data": {
      "image/png": "[encoded data removed]",
      "text/plain": [
       "<Figure size 432x288 with 1 Axes>"
      ]
     },
     "metadata": {
      "needs_background": "light"
     },
     "output_type": "display_data"
    }
   ],
   "source": [
    "# Visualizing the training set results.\n",
    "plot_train3 = plt\n",
    "plot_train3.scatter(X_train3, y_train3, color='green', s = 15)\n",
    "plot_train3.plot(X_train3, y_predicted_train3, color='red', linewidth =3)\n",
    "plot_train3.title('Total Vaccinations vs People Fully Vaccinated (Train set)')\n",
    "plot_train3.xlabel('Total Vaccinations')\n",
    "plot_train3.ylabel('Number of People Fully Vaccinated')\n",
    "plot_train3.show()"
   ]
  },
  {
   "cell_type": "code",
   "execution_count": null,
   "id": "389c87ab",
   "metadata": {},
   "outputs": [],
   "source": []
  },
  {
   "cell_type": "code",
   "execution_count": null,
   "id": "74fa2b86",
   "metadata": {},
   "outputs": [],
   "source": []
  }
 ],
 "metadata": {
  "kernelspec": {
   "display_name": "Python 3 (ipykernel)",
   "language": "python",
   "name": "python3"
  },
  "language_info": {
   "codemirror_mode": {
    "name": "ipython",
    "version": 3
   },
   "file_extension": ".py",
   "mimetype": "text/x-python",
   "name": "python",
   "nbconvert_exporter": "python",
   "pygments_lexer": "ipython3",
   "version": "3.9.7"
  }
 },
 "nbformat": 4,
 "nbformat_minor": 5
}
