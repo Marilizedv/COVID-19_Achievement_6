{
 "cells": [
  {
   "cell_type": "markdown",
   "id": "b2513593",
   "metadata": {},
   "source": [
    "# Task 6.3: Geographical Visualisations"
   ]
  },
  {
   "cell_type": "markdown",
   "id": "eb6ee398",
   "metadata": {},
   "source": [
    "## This script contains:\n",
    "1. Import libraries and data\n",
    "2. Data wrangling & cleaning\n",
    "3. Plotting a choropleth"
   ]
  },
  {
   "cell_type": "markdown",
   "id": "9c7d4cc9",
   "metadata": {},
   "source": [
    "# 1. Import Data and Libraries"
   ]
  },
  {
   "cell_type": "markdown",
   "id": "b182bfde",
   "metadata": {},
   "source": [
    "## Libraries"
   ]
  },
  {
   "cell_type": "code",
   "execution_count": null,
   "id": "37682c5c",
   "metadata": {},
   "outputs": [],
   "source": [
    "# Import Libraries\n",
    "import pandas as pd\n",
    "import numpy as np\n",
    "import seaborn as sns\n",
    "import matplotlib\n",
    "import os\n",
    "import folium\n",
    "import json"
   ]
  },
  {
   "cell_type": "code",
   "execution_count": null,
   "id": "90a5a2e6",
   "metadata": {},
   "outputs": [],
   "source": [
    "# This command propts matplotlib visuals to appear in the notebook \n",
    "\n",
    "%matplotlib inline"
   ]
  },
  {
   "cell_type": "markdown",
   "id": "72d8671f",
   "metadata": {},
   "source": [
    "## Data"
   ]
  },
  {
   "cell_type": "markdown",
   "id": "f46a4aae",
   "metadata": {},
   "source": [
    "#### Geojson file"
   ]
  },
  {
   "cell_type": "code",
   "execution_count": null,
   "id": "597e4e55",
   "metadata": {},
   "outputs": [],
   "source": [
    "#GEO Global\n",
    "global_geo = r'C:/Users/M de Villiers/Desktop/Data Analytics/Achievement 6/countries.geojson'"
   ]
  },
  {
   "cell_type": "code",
   "execution_count": null,
   "id": "a72105b3",
   "metadata": {},
   "outputs": [],
   "source": [
    "# To look at the json file:\n",
    "\n",
    "global_file = open(r'C:/Users/M de Villiers/Desktop/Data Analytics/Achievement 6/countries.geojson',)\n",
    "  \n",
    "# return JSON object as dictionary\n",
    "global_json = json.load(global_file)"
   ]
  },
  {
   "cell_type": "code",
   "execution_count": null,
   "id": "88485b9d",
   "metadata": {},
   "outputs": [],
   "source": [
    "# Create path\n",
    "path = r'C:\\Users\\M de Villiers\\Desktop\\Data Analytics\\Achievement 6'"
   ]
  },
  {
   "cell_type": "code",
   "execution_count": null,
   "id": "23c79b6d",
   "metadata": {},
   "outputs": [],
   "source": [
    "df=pd.read_csv(os.path.join(path, '02_Data', 'Prepared_Data', 'COVID-19_Final1.csv'), index_col=False)"
   ]
  },
  {
   "cell_type": "code",
   "execution_count": null,
   "id": "e2282868",
   "metadata": {},
   "outputs": [],
   "source": [
    "df.head()"
   ]
  },
  {
   "cell_type": "code",
   "execution_count": null,
   "id": "1c48eb05",
   "metadata": {},
   "outputs": [],
   "source": [
    "df.tail()"
   ]
  },
  {
   "cell_type": "code",
   "execution_count": null,
   "id": "8bc560b3",
   "metadata": {},
   "outputs": [],
   "source": [
    "df.dtypes"
   ]
  },
  {
   "cell_type": "code",
   "execution_count": null,
   "id": "c02d41f8",
   "metadata": {},
   "outputs": [],
   "source": [
    "df.isnull().sum()"
   ]
  },
  {
   "cell_type": "markdown",
   "id": "3bd2ff1b",
   "metadata": {},
   "source": [
    "# 2. Data Wrangling & Cleaning"
   ]
  },
  {
   "cell_type": "markdown",
   "id": "b3a638ba",
   "metadata": {},
   "source": [
    "I cleaned and wrangled the data in previous exercises and final cleaning and wrangling I did in a seperate notebook."
   ]
  },
  {
   "cell_type": "code",
   "execution_count": null,
   "id": "4a9d3efe",
   "metadata": {},
   "outputs": [],
   "source": [
    "pd.options.display.max_rows = None"
   ]
  },
  {
   "cell_type": "code",
   "execution_count": null,
   "id": "a9a73794",
   "metadata": {},
   "outputs": [],
   "source": [
    "# loop through the dictionary to obtain the name of the countries in the json file\n",
    "denominations_json = []\n",
    "for index in range(len(global_json['features'])):\n",
    "    denominations_json.append(global_json['features'][index]['properties']['ADMIN'])\n",
    "    \n",
    "denominations_json"
   ]
  },
  {
   "cell_type": "code",
   "execution_count": null,
   "id": "89b0aec6",
   "metadata": {},
   "outputs": [],
   "source": [
    "# Check that dataset country names match country names in geojson file\n",
    "df['country'].value_counts().sort_index()"
   ]
  },
  {
   "cell_type": "code",
   "execution_count": null,
   "id": "66bff88f",
   "metadata": {},
   "outputs": [],
   "source": [
    "df['country'] = df['country'].replace(['Democratic Republic of Congo'],'Democratic Republic of the Congo')"
   ]
  },
  {
   "cell_type": "code",
   "execution_count": null,
   "id": "dcdcba0b",
   "metadata": {},
   "outputs": [],
   "source": [
    "df['country'].value_counts().sort_index()"
   ]
  },
  {
   "cell_type": "code",
   "execution_count": null,
   "id": "1733a7d8",
   "metadata": {},
   "outputs": [],
   "source": [
    "df['country'] = df['country'].replace([\"Cote d'Ivoire\"],'Ivory Coast')\n",
    "df['country'] = df['country'].replace(['Congo'],'Republic of Congo')"
   ]
  },
  {
   "cell_type": "code",
   "execution_count": null,
   "id": "66852f21",
   "metadata": {},
   "outputs": [],
   "source": [
    "df['country'].value_counts().sort_index()"
   ]
  },
  {
   "cell_type": "code",
   "execution_count": null,
   "id": "1cb3b2f0",
   "metadata": {},
   "outputs": [],
   "source": [
    "df['country'] = df['country'].replace(['Bahamas'],'The Bahamas')\n",
    "df['country'] = df['country'].replace(['Faeroe Islands'],'Faroe Islands')\n",
    "df['country'] = df['country'].replace(['Micronesia (country)'],'Federated States of Micronesia')\n",
    "df['country'] = df['country'].replace(['Guinea-Bissau'],'Guinea Bissau')\n",
    "df['country'] = df['country'].replace(['Hong Kong'],'Hong Kong S.A.R.')\n",
    "df['country'] = df['country'].replace(['Macao'],'Macao S.A.R.')\n",
    "df['country'] = df['country'].replace(['North Macedonia'],'Macedonia')\n",
    "df['country'] = df['country'].replace(['Pitcairn'],'Pitcairn Islands')\n",
    "df['country'] = df['country'].replace(['Serbia'],'Republic of Serbia')\n",
    "df['country'] = df['country'].replace(['Sint Maarten (Dutch part)'],'Sint Maarten')\n",
    "df['country'] = df['country'].replace(['Timor'],'East Timor')\n",
    "df['country'] = df['country'].replace(['United States'],'United States of America')"
   ]
  },
  {
   "cell_type": "code",
   "execution_count": null,
   "id": "8928fd97",
   "metadata": {
    "scrolled": true
   },
   "outputs": [],
   "source": [
    "df['country'].value_counts().sort_index()"
   ]
  },
  {
   "cell_type": "code",
   "execution_count": null,
   "id": "baa69f88",
   "metadata": {},
   "outputs": [],
   "source": [
    "df['%deaths'] = df['total_deaths'] / df['population'] * 100"
   ]
  },
  {
   "cell_type": "code",
   "execution_count": null,
   "id": "a5b3cf8e",
   "metadata": {},
   "outputs": [],
   "source": [
    "df['%cases'] = df['total_cases'] / df['population'] * 100"
   ]
  },
  {
   "cell_type": "code",
   "execution_count": null,
   "id": "f754a9a6",
   "metadata": {},
   "outputs": [],
   "source": [
    "df.head(10)"
   ]
  },
  {
   "cell_type": "code",
   "execution_count": null,
   "id": "790362b4",
   "metadata": {},
   "outputs": [],
   "source": [
    "df.to_csv(os.path.join(path, '02_Data', 'Prepared_Data', 'COVID_19_DATA.csv'), index=False)"
   ]
  },
  {
   "cell_type": "markdown",
   "id": "2d7b65e5",
   "metadata": {},
   "source": [
    "# 3. Plotting a Choropleth (Question 7)"
   ]
  },
  {
   "cell_type": "markdown",
   "id": "7512a42e",
   "metadata": {},
   "source": [
    "### People Vaccinated (fully or with at least one shot)"
   ]
  },
  {
   "cell_type": "markdown",
   "id": "1037a79a",
   "metadata": {},
   "source": [
    "#### People fully vaccinated by hundred"
   ]
  },
  {
   "cell_type": "code",
   "execution_count": null,
   "id": "3ea6c819",
   "metadata": {},
   "outputs": [],
   "source": [
    "#Data to plot\n",
    "data_to_plot = df.groupby(['country'], as_index=False).agg(people_fully_vaccinated_per_hundred = ('people_fully_vaccinated_per_hundred', 'max'))\n",
    "data_to_plot.head()"
   ]
  },
  {
   "cell_type": "code",
   "execution_count": null,
   "id": "c3eb2b5f",
   "metadata": {
    "scrolled": false
   },
   "outputs": [],
   "source": [
    "map = folium.Map(location = [100, 0], zoom_start = 1.5)\n",
    "\n",
    "folium.Choropleth(\n",
    "    geo_data = global_geo, \n",
    "    data = data_to_plot,\n",
    "    columns = ['country', 'people_fully_vaccinated_per_hundred'],\n",
    "    key_on = 'feature.properties.ADMIN',\n",
    "    fill_color = 'YlGnBu', fill_opacity=0.6, line_opacity=0.1,\n",
    "    legend_name = \"% people fully vaccinated\").add_to(map)\n",
    "folium.LayerControl().add_to(map)\n",
    "\n",
    "map"
   ]
  },
  {
   "cell_type": "code",
   "execution_count": null,
   "id": "b1fa62e1",
   "metadata": {},
   "outputs": [],
   "source": [
    "map.save('people fully vaccinated per hundred.html')"
   ]
  },
  {
   "cell_type": "markdown",
   "id": "821184f9",
   "metadata": {},
   "source": [
    "#### People vaccinated by 100 (had at least one shot)"
   ]
  },
  {
   "cell_type": "code",
   "execution_count": null,
   "id": "591bb193",
   "metadata": {},
   "outputs": [],
   "source": [
    "#Data to plot1\n",
    "data_to_plot1 = df.groupby(['country'], as_index=False).agg(people_vaccinated_per_hundred = ('people_vaccinated_per_hundred', 'max'))\n",
    "data_to_plot1.head()"
   ]
  },
  {
   "cell_type": "code",
   "execution_count": null,
   "id": "bcac9b62",
   "metadata": {},
   "outputs": [],
   "source": [
    "map1 = folium.Map(location = [100, 0], zoom_start = 1.5)\n",
    "\n",
    "folium.Choropleth(\n",
    "    geo_data = global_geo, \n",
    "    data = data_to_plot1,\n",
    "    columns = ['country', 'people_vaccinated_per_hundred'],\n",
    "    key_on = 'feature.properties.ADMIN',\n",
    "    fill_color = 'YlGnBu', fill_opacity=0.6, line_opacity=0.1,\n",
    "    legend_name = \"people vaccinated per hundred\").add_to(map1)\n",
    "folium.LayerControl().add_to(map1)\n",
    "map1.save('people vaccinated per hundred.html')\n",
    "map1"
   ]
  },
  {
   "cell_type": "markdown",
   "id": "a453c59d",
   "metadata": {},
   "source": [
    "### Total Vaccinations"
   ]
  },
  {
   "cell_type": "code",
   "execution_count": null,
   "id": "c1f527c7",
   "metadata": {},
   "outputs": [],
   "source": [
    "#Data to plot2\n",
    "data_to_plot2 = df.groupby(['country'], as_index=False).agg(total_vaccinations_per_hundred = ('total_vaccinations_per_hundred', 'max'))\n",
    "data_to_plot2.head()"
   ]
  },
  {
   "cell_type": "code",
   "execution_count": null,
   "id": "6ffef1b5",
   "metadata": {
    "scrolled": true
   },
   "outputs": [],
   "source": [
    "# Setup a folium map at a high-level zoom\n",
    "map2 = folium.Map(location = [100, 0], zoom_start = 1.5)\n",
    "\n",
    "folium.Choropleth(\n",
    "    geo_data = global_geo, \n",
    "    data = data_to_plot2,\n",
    "    columns = ['country', 'total_vaccinations_per_hundred'],\n",
    "    key_on = 'feature.properties.ADMIN',\n",
    "    fill_color = 'PuRd', fill_opacity=0.6, line_opacity=0.1,\n",
    "    legend_name = \"total vaccinations per hundred\").add_to(map2)\n",
    "folium.LayerControl().add_to(map2)\n",
    "map2.save('total vaccinations per hundred.html')\n",
    "map2"
   ]
  },
  {
   "cell_type": "markdown",
   "id": "1c331477",
   "metadata": {},
   "source": [
    "### Deaths"
   ]
  },
  {
   "cell_type": "markdown",
   "id": "a747122d",
   "metadata": {},
   "source": [
    "#### Total deaths"
   ]
  },
  {
   "cell_type": "code",
   "execution_count": null,
   "id": "da9700ce",
   "metadata": {},
   "outputs": [],
   "source": [
    "#Data to plot3\n",
    "data_to_plot3 = df.groupby(['country'], as_index=False).agg(total_deaths = ('total_deaths', 'max'))\n",
    "data_to_plot3.head()"
   ]
  },
  {
   "cell_type": "code",
   "execution_count": null,
   "id": "7bffb716",
   "metadata": {},
   "outputs": [],
   "source": [
    "map3 = folium.Map(location = [100, 0], zoom_start = 1.5)\n",
    "\n",
    "folium.Choropleth(\n",
    "    geo_data = global_geo, \n",
    "    data = data_to_plot3,\n",
    "    columns = ['country', 'total_deaths'],\n",
    "    key_on = 'feature.properties.ADMIN',\n",
    "    fill_color = 'YlOrRd', fill_opacity=0.6, line_opacity=0.1,\n",
    "    legend_name = \"total deaths\").add_to(map3)\n",
    "folium.LayerControl().add_to(map3)\n",
    "map3.save('total deaths.html')\n",
    "map3"
   ]
  },
  {
   "cell_type": "markdown",
   "id": "47740c85",
   "metadata": {},
   "source": [
    "#### Death rate (perscentage)"
   ]
  },
  {
   "cell_type": "code",
   "execution_count": null,
   "id": "f0a1e795",
   "metadata": {},
   "outputs": [],
   "source": [
    "#Data to plot4\n",
    "data_to_plot4 = df.groupby(['country'], as_index=False).agg(death_rate = ('%deaths', 'max'))\n",
    "data_to_plot4.head()"
   ]
  },
  {
   "cell_type": "code",
   "execution_count": null,
   "id": "9974d643",
   "metadata": {},
   "outputs": [],
   "source": [
    "map4 = folium.Map(location = [100, 0], zoom_start = 1.5)\n",
    "\n",
    "folium.Choropleth(\n",
    "    geo_data = global_geo, \n",
    "    data = data_to_plot4,\n",
    "    columns = ['country', 'death_rate'],\n",
    "    key_on = 'feature.properties.ADMIN',\n",
    "    fill_color = 'YlOrRd', fill_opacity=0.6, line_opacity=0.1,\n",
    "    legend_name = \"Percetage of Deaths\").add_to(map4)\n",
    "folium.LayerControl().add_to(map4)\n",
    "map2.save('Percetage of Deaths.html')\n",
    "map4"
   ]
  },
  {
   "cell_type": "markdown",
   "id": "5cf1e51c",
   "metadata": {},
   "source": [
    "### Question 8: Discuss the results and what they mean in a markdown section.\n",
    "#### Does the analysis answer any of your existing research questions?\n",
    "#### Does the analysis lead you to any new research questions?"
   ]
  },
  {
   "cell_type": "markdown",
   "id": "c2bee7a4",
   "metadata": {},
   "source": [
    "#### My initial Questions\n",
    "1.\tWhich countries are using which vaccines? This question cannot be answered with the above choropleth maps, although I would like to learn how to plot categorical data unto a map, e.g. assign a colour to each vaccine combination and then plot the countries with the corresponding colour and have a legend explaining what each colour means (which combination of vaccines).\n",
    "2.\tHow has the vaccine rollouts been progressing in each country? This question was partly answered in the previous exercise although plotting 223 countries on a line chart was a bit chaotic.\n",
    "3.\tWhich countries are more advanced and why? This question can be answered with the first 3 maps (see below)\n",
    "4.\tWhich countries had the first batch of vaccines? This was answered in the previous exercise.\n",
    "5.\tEventually, I would also want to know what the effect of the vaccines have been on the COVID-19 situation worldwide? This might be explored when a second dataset about daily covid-19 deaths can be introduced and merged. I would need to do another time series with both deaths and vaccines to see how both variables change over time. I could also do a correlation matrix to see if there is a correlation, specifically a negative relationship (as vaccines increase, deaths decrease).\n",
    "#### Questions that can be answered by the maps and further analysis:\n",
    "3. When looking at the first 3 maps, a few countries stand out as being most advanced in the whole vaccination process. \n",
    "\n",
    "As far as I can tell the following countries are the forerunners when it comes to people _fully vaccinated_: Brunei, Canada, Cambodia, Chile, China, Denmark, Faroe Islands, Portugal, Spain, and United Arab Emirates.\n",
    "\n",
    "The following countries are the forerunners when it comes to people _vaccinated with at least one shot_: Australia, Argentina, Brazil, Brunei, Canada, Cambodia, Chile, China, Cuba, Denmark, Faroe Islands, Iceland, Italy, New Zealand, Portugal, Spain, Seychelles, United Arab Emirates, United States of America, and Uruguay.\n",
    "\n",
    "In terms of _total vaccinations_ administered, the following countries are the forerunners (this differ so much probably due to booster shots which people who are fully vaccinated can get and this won't increase the number of fully vaccinated people): Chile, Cuba, Denmark, Portugal, South Korea, Sri Lanka, and United Arab Emirates.\n",
    "\n",
    "In general, Africa as a continent have been progressing very poorly with administering vaccines. I am especially shocked at the low vaccination rate of Algeria, Egypt, Libia, Gabon and South Africa, since they are on the top 10 list of most developed countries in Africa. Even Rwanda which is not on this top 10 list of most developed countries, are more advanced in the vaccination process."
   ]
  },
  {
   "cell_type": "markdown",
   "id": "c5a36e84",
   "metadata": {},
   "source": [
    "#### New Questions:\n",
    "Since my 5th question is to determine if the vaccines had an effect on the death rate, I decided to map out the deaths since new questions that were raised here was: \n",
    "1. How has covid-19 affected each country in terms of total deaths and death rate (proportion of the population)?\n",
    "2. Which countries were most affected regarding deaths and death rate?\n",
    "\n",
    "These were answered by plotting the data in a choropleth map:\n",
    "\n",
    "When looking at total deaths, the USA and Brazil seem to have the most total deaths, but when looking at the death rate (proportion of population that died of covid-19), Peru, Bosnia and Herzegovina, Bulgaria, Hungary, Montenegro, and North Macedonia was hit hardest by covid-19 when looking at deaths.\n",
    "\n",
    "These countries will be my center of investigation when looking at how vaccinations have affected deaths over time.\n",
    "\n",
    "I will also be looking at this on a global level since my hypothesis is: \"The more people have been fully vaccinated, the less deaths have occured\" or more general \"The more vaccinations have been administered, how less daily deaths have been reported.\""
   ]
  },
  {
   "cell_type": "code",
   "execution_count": null,
   "id": "812e0006",
   "metadata": {},
   "outputs": [],
   "source": []
  }
 ],
 "metadata": {
  "kernelspec": {
   "display_name": "Python 3 (ipykernel)",
   "language": "python",
   "name": "python3"
  },
  "language_info": {
   "codemirror_mode": {
    "name": "ipython",
    "version": 3
   },
   "file_extension": ".py",
   "mimetype": "text/x-python",
   "name": "python",
   "nbconvert_exporter": "python",
   "pygments_lexer": "ipython3",
   "version": "3.9.7"
  }
 },
 "nbformat": 4,
 "nbformat_minor": 5
}
