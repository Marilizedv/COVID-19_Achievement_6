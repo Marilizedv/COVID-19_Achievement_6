{
 "cells": [
  {
   "cell_type": "markdown",
   "id": "91e42f63",
   "metadata": {},
   "source": [
    "# 6.4. Supervised Machine Learning: Regression"
   ]
  },
  {
   "cell_type": "markdown",
   "id": "f11cbad9",
   "metadata": {},
   "source": [
    "## This script contains:\n",
    "### 1. Importing libraries and data\n",
    "### 2. Data Cleaning\n",
    "### 3. Data prep for regression analysis & Regression Analysis"
   ]
  },
  {
   "cell_type": "markdown",
   "id": "4d9b9eb2",
   "metadata": {},
   "source": [
    "# 1. Importing Libraries & Data"
   ]
  },
  {
   "cell_type": "markdown",
   "id": "252a1a5b",
   "metadata": {},
   "source": [
    "## Libraries"
   ]
  },
  {
   "cell_type": "code",
   "execution_count": 1,
   "id": "3b116eec",
   "metadata": {},
   "outputs": [],
   "source": [
    "# import libraries\n",
    "import pandas as pd\n",
    "import numpy as np\n",
    "import seaborn as sns\n",
    "import matplotlib\n",
    "import matplotlib.pyplot as plt\n",
    "import os\n",
    "import sklearn\n",
    "from sklearn.model_selection import train_test_split \n",
    "from sklearn.linear_model import LinearRegression\n",
    "from sklearn.metrics import mean_squared_error, r2_score"
   ]
  },
  {
   "cell_type": "markdown",
   "id": "847fcfa4",
   "metadata": {},
   "source": [
    "## Data"
   ]
  },
  {
   "cell_type": "code",
   "execution_count": 2,
   "id": "80e1a5bb",
   "metadata": {},
   "outputs": [],
   "source": [
    "# create path\n",
    "path = r'C:\\Users\\M de Villiers\\Desktop\\Data Analytics\\Achievement 6\\02_Data\\Prepared_Data'"
   ]
  },
  {
   "cell_type": "code",
   "execution_count": 3,
   "id": "34613e12",
   "metadata": {},
   "outputs": [],
   "source": [
    "# Import data\n",
    "df= pd.read_csv(os.path.join(path, 'FINAL_COVID_19_DATA1.csv'), index_col = False)"
   ]
  },
  {
   "cell_type": "code",
   "execution_count": 4,
   "id": "1ac1c642",
   "metadata": {},
   "outputs": [
    {
     "data": {
      "text/html": [
       "<div>\n",
       "<style scoped>\n",
       "    .dataframe tbody tr th:only-of-type {\n",
       "        vertical-align: middle;\n",
       "    }\n",
       "\n",
       "    .dataframe tbody tr th {\n",
       "        vertical-align: top;\n",
       "    }\n",
       "\n",
       "    .dataframe thead th {\n",
       "        text-align: right;\n",
       "    }\n",
       "</style>\n",
       "<table border=\"1\" class=\"dataframe\">\n",
       "  <thead>\n",
       "    <tr style=\"text-align: right;\">\n",
       "      <th></th>\n",
       "      <th>country</th>\n",
       "      <th>iso_code</th>\n",
       "      <th>month_year</th>\n",
       "      <th>vaccines</th>\n",
       "      <th>total_vaccinations</th>\n",
       "      <th>people_vaccinated</th>\n",
       "      <th>people_fully_vaccinated</th>\n",
       "      <th>monthly_vaccinations_raw</th>\n",
       "      <th>monthly_vaccinations</th>\n",
       "      <th>total_vaccinations_per_hundred</th>\n",
       "      <th>...</th>\n",
       "      <th>people_fully_vaccinated_per_hundred</th>\n",
       "      <th>monthly_vaccinations_per_million</th>\n",
       "      <th>continent</th>\n",
       "      <th>population</th>\n",
       "      <th>new_cases</th>\n",
       "      <th>total_cases</th>\n",
       "      <th>new_deaths</th>\n",
       "      <th>total_deaths</th>\n",
       "      <th>%deaths</th>\n",
       "      <th>%cases</th>\n",
       "    </tr>\n",
       "  </thead>\n",
       "  <tbody>\n",
       "    <tr>\n",
       "      <th>0</th>\n",
       "      <td>Afghanistan</td>\n",
       "      <td>AFG</td>\n",
       "      <td>2021-02</td>\n",
       "      <td>Johnson&amp;Johnson, Oxford/AstraZeneca, Pfizer/Bi...</td>\n",
       "      <td>8200</td>\n",
       "      <td>8200</td>\n",
       "      <td>0</td>\n",
       "      <td>0</td>\n",
       "      <td>8202</td>\n",
       "      <td>0.02</td>\n",
       "      <td>...</td>\n",
       "      <td>0.00</td>\n",
       "      <td>204</td>\n",
       "      <td>Asia</td>\n",
       "      <td>39835428</td>\n",
       "      <td>691</td>\n",
       "      <td>55714</td>\n",
       "      <td>43</td>\n",
       "      <td>2443</td>\n",
       "      <td>0.006133</td>\n",
       "      <td>0.139860</td>\n",
       "    </tr>\n",
       "    <tr>\n",
       "      <th>1</th>\n",
       "      <td>Afghanistan</td>\n",
       "      <td>AFG</td>\n",
       "      <td>2021-03</td>\n",
       "      <td>Johnson&amp;Johnson, Oxford/AstraZeneca, Pfizer/Bi...</td>\n",
       "      <td>54000</td>\n",
       "      <td>54000</td>\n",
       "      <td>0</td>\n",
       "      <td>0</td>\n",
       "      <td>85894</td>\n",
       "      <td>0.14</td>\n",
       "      <td>...</td>\n",
       "      <td>0.00</td>\n",
       "      <td>2154</td>\n",
       "      <td>Asia</td>\n",
       "      <td>39835428</td>\n",
       "      <td>740</td>\n",
       "      <td>56454</td>\n",
       "      <td>41</td>\n",
       "      <td>2484</td>\n",
       "      <td>0.006236</td>\n",
       "      <td>0.141718</td>\n",
       "    </tr>\n",
       "    <tr>\n",
       "      <th>2</th>\n",
       "      <td>Afghanistan</td>\n",
       "      <td>AFG</td>\n",
       "      <td>2021-04</td>\n",
       "      <td>Johnson&amp;Johnson, Oxford/AstraZeneca, Pfizer/Bi...</td>\n",
       "      <td>240000</td>\n",
       "      <td>240000</td>\n",
       "      <td>0</td>\n",
       "      <td>0</td>\n",
       "      <td>219606</td>\n",
       "      <td>0.60</td>\n",
       "      <td>...</td>\n",
       "      <td>0.00</td>\n",
       "      <td>5511</td>\n",
       "      <td>Asia</td>\n",
       "      <td>39835428</td>\n",
       "      <td>3291</td>\n",
       "      <td>59745</td>\n",
       "      <td>141</td>\n",
       "      <td>2625</td>\n",
       "      <td>0.006590</td>\n",
       "      <td>0.149980</td>\n",
       "    </tr>\n",
       "    <tr>\n",
       "      <th>3</th>\n",
       "      <td>Afghanistan</td>\n",
       "      <td>AFG</td>\n",
       "      <td>2021-05</td>\n",
       "      <td>Johnson&amp;Johnson, Oxford/AstraZeneca, Pfizer/Bi...</td>\n",
       "      <td>600152</td>\n",
       "      <td>480226</td>\n",
       "      <td>119926</td>\n",
       "      <td>2859</td>\n",
       "      <td>285838</td>\n",
       "      <td>1.51</td>\n",
       "      <td>...</td>\n",
       "      <td>0.30</td>\n",
       "      <td>7171</td>\n",
       "      <td>Asia</td>\n",
       "      <td>39835428</td>\n",
       "      <td>12093</td>\n",
       "      <td>71838</td>\n",
       "      <td>319</td>\n",
       "      <td>2944</td>\n",
       "      <td>0.007390</td>\n",
       "      <td>0.180337</td>\n",
       "    </tr>\n",
       "    <tr>\n",
       "      <th>4</th>\n",
       "      <td>Afghanistan</td>\n",
       "      <td>AFG</td>\n",
       "      <td>2021-06</td>\n",
       "      <td>Johnson&amp;Johnson, Oxford/AstraZeneca, Pfizer/Bi...</td>\n",
       "      <td>886854</td>\n",
       "      <td>699200</td>\n",
       "      <td>187654</td>\n",
       "      <td>4015</td>\n",
       "      <td>242899</td>\n",
       "      <td>2.23</td>\n",
       "      <td>...</td>\n",
       "      <td>0.47</td>\n",
       "      <td>6097</td>\n",
       "      <td>Asia</td>\n",
       "      <td>39835428</td>\n",
       "      <td>46821</td>\n",
       "      <td>118659</td>\n",
       "      <td>1927</td>\n",
       "      <td>4871</td>\n",
       "      <td>0.012228</td>\n",
       "      <td>0.297873</td>\n",
       "    </tr>\n",
       "  </tbody>\n",
       "</table>\n",
       "<p>5 rows × 21 columns</p>\n",
       "</div>"
      ],
      "text/plain": [
       "       country iso_code month_year  \\\n",
       "0  Afghanistan      AFG    2021-02   \n",
       "1  Afghanistan      AFG    2021-03   \n",
       "2  Afghanistan      AFG    2021-04   \n",
       "3  Afghanistan      AFG    2021-05   \n",
       "4  Afghanistan      AFG    2021-06   \n",
       "\n",
       "                                            vaccines  total_vaccinations  \\\n",
       "0  Johnson&Johnson, Oxford/AstraZeneca, Pfizer/Bi...                8200   \n",
       "1  Johnson&Johnson, Oxford/AstraZeneca, Pfizer/Bi...               54000   \n",
       "2  Johnson&Johnson, Oxford/AstraZeneca, Pfizer/Bi...              240000   \n",
       "3  Johnson&Johnson, Oxford/AstraZeneca, Pfizer/Bi...              600152   \n",
       "4  Johnson&Johnson, Oxford/AstraZeneca, Pfizer/Bi...              886854   \n",
       "\n",
       "   people_vaccinated  people_fully_vaccinated  monthly_vaccinations_raw  \\\n",
       "0               8200                        0                         0   \n",
       "1              54000                        0                         0   \n",
       "2             240000                        0                         0   \n",
       "3             480226                   119926                      2859   \n",
       "4             699200                   187654                      4015   \n",
       "\n",
       "   monthly_vaccinations  total_vaccinations_per_hundred  ...  \\\n",
       "0                  8202                            0.02  ...   \n",
       "1                 85894                            0.14  ...   \n",
       "2                219606                            0.60  ...   \n",
       "3                285838                            1.51  ...   \n",
       "4                242899                            2.23  ...   \n",
       "\n",
       "   people_fully_vaccinated_per_hundred  monthly_vaccinations_per_million  \\\n",
       "0                                 0.00                               204   \n",
       "1                                 0.00                              2154   \n",
       "2                                 0.00                              5511   \n",
       "3                                 0.30                              7171   \n",
       "4                                 0.47                              6097   \n",
       "\n",
       "   continent population  new_cases  total_cases  new_deaths  total_deaths  \\\n",
       "0       Asia   39835428        691        55714          43          2443   \n",
       "1       Asia   39835428        740        56454          41          2484   \n",
       "2       Asia   39835428       3291        59745         141          2625   \n",
       "3       Asia   39835428      12093        71838         319          2944   \n",
       "4       Asia   39835428      46821       118659        1927          4871   \n",
       "\n",
       "    %deaths    %cases  \n",
       "0  0.006133  0.139860  \n",
       "1  0.006236  0.141718  \n",
       "2  0.006590  0.149980  \n",
       "3  0.007390  0.180337  \n",
       "4  0.012228  0.297873  \n",
       "\n",
       "[5 rows x 21 columns]"
      ]
     },
     "execution_count": 4,
     "metadata": {},
     "output_type": "execute_result"
    }
   ],
   "source": [
    "df.head()"
   ]
  },
  {
   "cell_type": "code",
   "execution_count": 5,
   "id": "b6c6acf9",
   "metadata": {
    "scrolled": true
   },
   "outputs": [
    {
     "data": {
      "text/html": [
       "<div>\n",
       "<style scoped>\n",
       "    .dataframe tbody tr th:only-of-type {\n",
       "        vertical-align: middle;\n",
       "    }\n",
       "\n",
       "    .dataframe tbody tr th {\n",
       "        vertical-align: top;\n",
       "    }\n",
       "\n",
       "    .dataframe thead th {\n",
       "        text-align: right;\n",
       "    }\n",
       "</style>\n",
       "<table border=\"1\" class=\"dataframe\">\n",
       "  <thead>\n",
       "    <tr style=\"text-align: right;\">\n",
       "      <th></th>\n",
       "      <th>country</th>\n",
       "      <th>iso_code</th>\n",
       "      <th>month_year</th>\n",
       "      <th>vaccines</th>\n",
       "      <th>total_vaccinations</th>\n",
       "      <th>people_vaccinated</th>\n",
       "      <th>people_fully_vaccinated</th>\n",
       "      <th>monthly_vaccinations_raw</th>\n",
       "      <th>monthly_vaccinations</th>\n",
       "      <th>total_vaccinations_per_hundred</th>\n",
       "      <th>...</th>\n",
       "      <th>people_fully_vaccinated_per_hundred</th>\n",
       "      <th>monthly_vaccinations_per_million</th>\n",
       "      <th>continent</th>\n",
       "      <th>population</th>\n",
       "      <th>new_cases</th>\n",
       "      <th>total_cases</th>\n",
       "      <th>new_deaths</th>\n",
       "      <th>total_deaths</th>\n",
       "      <th>%deaths</th>\n",
       "      <th>%cases</th>\n",
       "    </tr>\n",
       "  </thead>\n",
       "  <tbody>\n",
       "    <tr>\n",
       "      <th>5463</th>\n",
       "      <td>Zimbabwe</td>\n",
       "      <td>ZWE</td>\n",
       "      <td>2020-09</td>\n",
       "      <td>0</td>\n",
       "      <td>0</td>\n",
       "      <td>0</td>\n",
       "      <td>0</td>\n",
       "      <td>0</td>\n",
       "      <td>0</td>\n",
       "      <td>0.0</td>\n",
       "      <td>...</td>\n",
       "      <td>0.0</td>\n",
       "      <td>0</td>\n",
       "      <td>Africa</td>\n",
       "      <td>15092171</td>\n",
       "      <td>1341</td>\n",
       "      <td>7838</td>\n",
       "      <td>26</td>\n",
       "      <td>228</td>\n",
       "      <td>0.001511</td>\n",
       "      <td>0.051934</td>\n",
       "    </tr>\n",
       "    <tr>\n",
       "      <th>5464</th>\n",
       "      <td>Zimbabwe</td>\n",
       "      <td>ZWE</td>\n",
       "      <td>2020-10</td>\n",
       "      <td>0</td>\n",
       "      <td>0</td>\n",
       "      <td>0</td>\n",
       "      <td>0</td>\n",
       "      <td>0</td>\n",
       "      <td>0</td>\n",
       "      <td>0.0</td>\n",
       "      <td>...</td>\n",
       "      <td>0.0</td>\n",
       "      <td>0</td>\n",
       "      <td>Africa</td>\n",
       "      <td>15092171</td>\n",
       "      <td>529</td>\n",
       "      <td>8367</td>\n",
       "      <td>15</td>\n",
       "      <td>243</td>\n",
       "      <td>0.001610</td>\n",
       "      <td>0.055439</td>\n",
       "    </tr>\n",
       "    <tr>\n",
       "      <th>5465</th>\n",
       "      <td>Zimbabwe</td>\n",
       "      <td>ZWE</td>\n",
       "      <td>2020-11</td>\n",
       "      <td>0</td>\n",
       "      <td>0</td>\n",
       "      <td>0</td>\n",
       "      <td>0</td>\n",
       "      <td>0</td>\n",
       "      <td>0</td>\n",
       "      <td>0.0</td>\n",
       "      <td>...</td>\n",
       "      <td>0.0</td>\n",
       "      <td>0</td>\n",
       "      <td>Africa</td>\n",
       "      <td>15092171</td>\n",
       "      <td>1583</td>\n",
       "      <td>9950</td>\n",
       "      <td>33</td>\n",
       "      <td>276</td>\n",
       "      <td>0.001829</td>\n",
       "      <td>0.065928</td>\n",
       "    </tr>\n",
       "    <tr>\n",
       "      <th>5466</th>\n",
       "      <td>Zimbabwe</td>\n",
       "      <td>ZWE</td>\n",
       "      <td>2020-12</td>\n",
       "      <td>0</td>\n",
       "      <td>0</td>\n",
       "      <td>0</td>\n",
       "      <td>0</td>\n",
       "      <td>0</td>\n",
       "      <td>0</td>\n",
       "      <td>0.0</td>\n",
       "      <td>...</td>\n",
       "      <td>0.0</td>\n",
       "      <td>0</td>\n",
       "      <td>Africa</td>\n",
       "      <td>15092171</td>\n",
       "      <td>3917</td>\n",
       "      <td>13867</td>\n",
       "      <td>87</td>\n",
       "      <td>363</td>\n",
       "      <td>0.002405</td>\n",
       "      <td>0.091882</td>\n",
       "    </tr>\n",
       "    <tr>\n",
       "      <th>5467</th>\n",
       "      <td>Zimbabwe</td>\n",
       "      <td>ZWE</td>\n",
       "      <td>2021-01</td>\n",
       "      <td>0</td>\n",
       "      <td>0</td>\n",
       "      <td>0</td>\n",
       "      <td>0</td>\n",
       "      <td>0</td>\n",
       "      <td>0</td>\n",
       "      <td>0.0</td>\n",
       "      <td>...</td>\n",
       "      <td>0.0</td>\n",
       "      <td>0</td>\n",
       "      <td>Africa</td>\n",
       "      <td>15092171</td>\n",
       "      <td>19521</td>\n",
       "      <td>33388</td>\n",
       "      <td>854</td>\n",
       "      <td>1217</td>\n",
       "      <td>0.008064</td>\n",
       "      <td>0.221227</td>\n",
       "    </tr>\n",
       "  </tbody>\n",
       "</table>\n",
       "<p>5 rows × 21 columns</p>\n",
       "</div>"
      ],
      "text/plain": [
       "       country iso_code month_year vaccines  total_vaccinations  \\\n",
       "5463  Zimbabwe      ZWE    2020-09        0                   0   \n",
       "5464  Zimbabwe      ZWE    2020-10        0                   0   \n",
       "5465  Zimbabwe      ZWE    2020-11        0                   0   \n",
       "5466  Zimbabwe      ZWE    2020-12        0                   0   \n",
       "5467  Zimbabwe      ZWE    2021-01        0                   0   \n",
       "\n",
       "      people_vaccinated  people_fully_vaccinated  monthly_vaccinations_raw  \\\n",
       "5463                  0                        0                         0   \n",
       "5464                  0                        0                         0   \n",
       "5465                  0                        0                         0   \n",
       "5466                  0                        0                         0   \n",
       "5467                  0                        0                         0   \n",
       "\n",
       "      monthly_vaccinations  total_vaccinations_per_hundred  ...  \\\n",
       "5463                     0                             0.0  ...   \n",
       "5464                     0                             0.0  ...   \n",
       "5465                     0                             0.0  ...   \n",
       "5466                     0                             0.0  ...   \n",
       "5467                     0                             0.0  ...   \n",
       "\n",
       "      people_fully_vaccinated_per_hundred  monthly_vaccinations_per_million  \\\n",
       "5463                                  0.0                                 0   \n",
       "5464                                  0.0                                 0   \n",
       "5465                                  0.0                                 0   \n",
       "5466                                  0.0                                 0   \n",
       "5467                                  0.0                                 0   \n",
       "\n",
       "      continent population  new_cases  total_cases  new_deaths  total_deaths  \\\n",
       "5463     Africa   15092171       1341         7838          26           228   \n",
       "5464     Africa   15092171        529         8367          15           243   \n",
       "5465     Africa   15092171       1583         9950          33           276   \n",
       "5466     Africa   15092171       3917        13867          87           363   \n",
       "5467     Africa   15092171      19521        33388         854          1217   \n",
       "\n",
       "       %deaths    %cases  \n",
       "5463  0.001511  0.051934  \n",
       "5464  0.001610  0.055439  \n",
       "5465  0.001829  0.065928  \n",
       "5466  0.002405  0.091882  \n",
       "5467  0.008064  0.221227  \n",
       "\n",
       "[5 rows x 21 columns]"
      ]
     },
     "execution_count": 5,
     "metadata": {},
     "output_type": "execute_result"
    }
   ],
   "source": [
    "df.tail()"
   ]
  },
  {
   "cell_type": "code",
   "execution_count": 6,
   "id": "403943d4",
   "metadata": {},
   "outputs": [
    {
     "data": {
      "text/plain": [
       "(5468, 21)"
      ]
     },
     "execution_count": 6,
     "metadata": {},
     "output_type": "execute_result"
    }
   ],
   "source": [
    "df.shape"
   ]
  },
  {
   "cell_type": "markdown",
   "id": "15119be8",
   "metadata": {},
   "source": [
    "# 2. Data Cleaining\n"
   ]
  },
  {
   "cell_type": "markdown",
   "id": "5b192b2f",
   "metadata": {},
   "source": [
    "### Changeing datatype and dropping columns for potential regression analysis\n",
    "I wanted delete rows that would only have data on covid cases and deaths and not vaccinations. I think it would make sense to only analyse the years (2021 and 2022) that contains information about both, since covid started in 2019 and vaccinations only in December 2020."
   ]
  },
  {
   "cell_type": "code",
   "execution_count": 7,
   "id": "41e02e84",
   "metadata": {},
   "outputs": [
    {
     "data": {
      "text/plain": [
       "0       2021-02\n",
       "1       2021-03\n",
       "2       2021-04\n",
       "3       2021-05\n",
       "4       2021-06\n",
       "         ...   \n",
       "5463    2020-09\n",
       "5464    2020-10\n",
       "5465    2020-11\n",
       "5466    2020-12\n",
       "5467    2021-01\n",
       "Name: month_year, Length: 5468, dtype: object"
      ]
     },
     "execution_count": 7,
     "metadata": {},
     "output_type": "execute_result"
    }
   ],
   "source": [
    "df['month_year'].astype(str)"
   ]
  },
  {
   "cell_type": "code",
   "execution_count": 8,
   "id": "9fb1f332",
   "metadata": {},
   "outputs": [],
   "source": [
    "df1=df.drop(df[df['month_year'].isin(['2020-01', '2020-02', '2020-03', '2020-04', '2020-05', '2020-06', '2020-07', '2020-08', '2020-09', '2020-10', '2020-11'])].index)"
   ]
  },
  {
   "cell_type": "code",
   "execution_count": 9,
   "id": "65e461e7",
   "metadata": {},
   "outputs": [
    {
     "data": {
      "text/plain": [
       "(3518, 21)"
      ]
     },
     "execution_count": 9,
     "metadata": {},
     "output_type": "execute_result"
    }
   ],
   "source": [
    "df1.shape #It seems this new dataset does not have enough rows to do the analysis"
   ]
  },
  {
   "cell_type": "markdown",
   "id": "4faa52f7",
   "metadata": {},
   "source": [
    "### Although this dataset is too small, I still tried the linear regression on it but I did not discuss the results since it was not much different from the results of the full dataset."
   ]
  },
  {
   "cell_type": "code",
   "execution_count": 10,
   "id": "ce2bdcce",
   "metadata": {},
   "outputs": [
    {
     "name": "stderr",
     "output_type": "stream",
     "text": [
      "C:\\Users\\M de Villiers\\anaconda3\\lib\\site-packages\\seaborn\\distributions.py:2619: FutureWarning: `distplot` is a deprecated function and will be removed in a future version. Please adapt your code to use either `displot` (a figure-level function with similar flexibility) or `histplot` (an axes-level function for histograms).\n",
      "  warnings.warn(msg, FutureWarning)\n"
     ]
    },
    {
     "data": {
      "text/plain": [
       "<AxesSubplot:xlabel='new_cases', ylabel='Density'>"
      ]
     },
     "execution_count": 10,
     "metadata": {},
     "output_type": "execute_result"
    },
    {
     "data": {
      "image/png": "[encoded data removed]",
      "text/plain": [
       "<Figure size 432x288 with 1 Axes>"
      ]
     },
     "metadata": {
      "needs_background": "light"
     },
     "output_type": "display_data"
    }
   ],
   "source": [
    "sns.distplot(df['new_cases'], bins=25) # Shows extreme values"
   ]
  },
  {
   "cell_type": "markdown",
   "id": "196113dd",
   "metadata": {},
   "source": [
    "# 3. Data Prep & Regression Analysis"
   ]
  },
  {
   "cell_type": "markdown",
   "id": "e007da77",
   "metadata": {},
   "source": [
    "### Total Vaccinations vs New Deaths"
   ]
  },
  {
   "cell_type": "code",
   "execution_count": 7,
   "id": "d0f41593",
   "metadata": {
    "scrolled": true
   },
   "outputs": [
    {
     "data": {
      "image/png": "[encoded data removed]",
      "text/plain": [
       "<Figure size 432x288 with 1 Axes>"
      ]
     },
     "metadata": {
      "needs_background": "light"
     },
     "output_type": "display_data"
    }
   ],
   "source": [
    "# Scatterplot\n",
    "df.plot(x = 'total_vaccinations_per_hundred', y='new_deaths',style='o')\n",
    "plt.title('% Total Vaccinations vs New COVID Deaths')  \n",
    "plt.xlabel('Total Vaccinations')  \n",
    "plt.ylabel('Number of Monthly Deaths')  \n",
    "plt.show()"
   ]
  },
  {
   "cell_type": "markdown",
   "id": "5ff7fa22",
   "metadata": {},
   "source": [
    "## Hypothesis 1: The more vaccinations are administered, the less monthly deaths will be reported."
   ]
  },
  {
   "cell_type": "code",
   "execution_count": 8,
   "id": "ed98d868",
   "metadata": {},
   "outputs": [],
   "source": [
    "# Reshape the variables into NumPy arrays and put them into separate objects.\n",
    "X = df['total_vaccinations_per_hundred'].values.reshape(-1,1)\n",
    "y = df['new_deaths'].values.reshape(-1,1)"
   ]
  },
  {
   "cell_type": "code",
   "execution_count": 9,
   "id": "faef67f8",
   "metadata": {},
   "outputs": [
    {
     "data": {
      "text/plain": [
       "array([[0.02],\n",
       "       [0.14],\n",
       "       [0.6 ],\n",
       "       ...,\n",
       "       [0.  ],\n",
       "       [0.  ],\n",
       "       [0.  ]])"
      ]
     },
     "execution_count": 9,
     "metadata": {},
     "output_type": "execute_result"
    }
   ],
   "source": [
    "X"
   ]
  },
  {
   "cell_type": "code",
   "execution_count": 10,
   "id": "5e6342b5",
   "metadata": {},
   "outputs": [
    {
     "data": {
      "text/plain": [
       "array([[ 43],\n",
       "       [ 41],\n",
       "       [141],\n",
       "       ...,\n",
       "       [ 33],\n",
       "       [ 87],\n",
       "       [854]], dtype=int64)"
      ]
     },
     "execution_count": 10,
     "metadata": {},
     "output_type": "execute_result"
    }
   ],
   "source": [
    "y"
   ]
  },
  {
   "cell_type": "code",
   "execution_count": 11,
   "id": "1cc31f83",
   "metadata": {},
   "outputs": [],
   "source": [
    "# Split data into a training set and a test set.\n",
    "X_train, X_test, y_train, y_test = train_test_split(X, y, test_size=0.3, random_state=0)"
   ]
  },
  {
   "cell_type": "code",
   "execution_count": 12,
   "id": "8b662a0d",
   "metadata": {},
   "outputs": [],
   "source": [
    "# Create a regression object.\n",
    "regression = LinearRegression()"
   ]
  },
  {
   "cell_type": "code",
   "execution_count": 13,
   "id": "f45a795b",
   "metadata": {},
   "outputs": [
    {
     "data": {
      "text/plain": [
       "LinearRegression()"
      ]
     },
     "execution_count": 13,
     "metadata": {},
     "output_type": "execute_result"
    }
   ],
   "source": [
    "# Fit the regression object onto the training set.\n",
    "regression.fit(X_train, y_train)"
   ]
  },
  {
   "cell_type": "code",
   "execution_count": 14,
   "id": "8293b161",
   "metadata": {},
   "outputs": [],
   "source": [
    "# Predict the values of y using X.\n",
    "y_predicted = regression.predict(X_test)"
   ]
  },
  {
   "cell_type": "code",
   "execution_count": 15,
   "id": "41160e71",
   "metadata": {
    "scrolled": false
   },
   "outputs": [
    {
     "data": {
      "image/png": "[encoded data removed]",
      "text/plain": [
       "<Figure size 432x288 with 1 Axes>"
      ]
     },
     "metadata": {
      "needs_background": "light"
     },
     "output_type": "display_data"
    }
   ],
   "source": [
    "# Create a plot that shows the regression line from the model on the test set.\n",
    "plot_test = plt\n",
    "plot_test.scatter(X_test, y_test, color='gray', s = 15)\n",
    "plot_test.plot(X_test, y_predicted, color='red', linewidth =3)\n",
    "plot_test.title('Total Vaccinations vs New COVID Deaths')\n",
    "plot_test.xlabel('Total Vaccinations')\n",
    "plot_test.ylabel('Monthly Deaths')\n",
    "plot_test.show()"
   ]
  },
  {
   "cell_type": "code",
   "execution_count": 23,
   "id": "23fe8aac",
   "metadata": {},
   "outputs": [],
   "source": [
    "# Create objects that contain the model summary statistics.\n",
    "rmse = mean_squared_error(y_test, y_predicted)\n",
    "r2 = r2_score(y_test, y_predicted)"
   ]
  },
  {
   "cell_type": "code",
   "execution_count": 25,
   "id": "77bf4747",
   "metadata": {},
   "outputs": [
    {
     "name": "stdout",
     "output_type": "stream",
     "text": [
      "Slope: [[3.21706398]]\n",
      "Mean squared error:  26024121.32071793\n",
      "R2 score:  6.312263641361504e-05\n"
     ]
    }
   ],
   "source": [
    "# Print the model summary statistics.\n",
    "print('Slope:' ,regression.coef_)\n",
    "print('Mean squared error: ', rmse)\n",
    "print('R2 score: ', r2)"
   ]
  },
  {
   "cell_type": "code",
   "execution_count": 26,
   "id": "b0a02392",
   "metadata": {},
   "outputs": [
    {
     "data": {
      "text/plain": [
       "array([[ 991.68604457],\n",
       "       [1248.15038537],\n",
       "       [1081.08825268],\n",
       "       ...,\n",
       "       [ 991.68604457],\n",
       "       [ 991.68604457],\n",
       "       [1289.6826814 ]])"
      ]
     },
     "execution_count": 26,
     "metadata": {},
     "output_type": "execute_result"
    }
   ],
   "source": [
    "y_predicted"
   ]
  },
  {
   "cell_type": "code",
   "execution_count": 27,
   "id": "03e71d9d",
   "metadata": {
    "scrolled": true
   },
   "outputs": [
    {
     "data": {
      "text/html": [
       "<div>\n",
       "<style scoped>\n",
       "    .dataframe tbody tr th:only-of-type {\n",
       "        vertical-align: middle;\n",
       "    }\n",
       "\n",
       "    .dataframe tbody tr th {\n",
       "        vertical-align: top;\n",
       "    }\n",
       "\n",
       "    .dataframe thead th {\n",
       "        text-align: right;\n",
       "    }\n",
       "</style>\n",
       "<table border=\"1\" class=\"dataframe\">\n",
       "  <thead>\n",
       "    <tr style=\"text-align: right;\">\n",
       "      <th></th>\n",
       "      <th>Actual</th>\n",
       "      <th>Predicted</th>\n",
       "    </tr>\n",
       "  </thead>\n",
       "  <tbody>\n",
       "    <tr>\n",
       "      <th>0</th>\n",
       "      <td>662</td>\n",
       "      <td>991.686045</td>\n",
       "    </tr>\n",
       "    <tr>\n",
       "      <th>1</th>\n",
       "      <td>178</td>\n",
       "      <td>1248.150385</td>\n",
       "    </tr>\n",
       "    <tr>\n",
       "      <th>2</th>\n",
       "      <td>4</td>\n",
       "      <td>1081.088253</td>\n",
       "    </tr>\n",
       "    <tr>\n",
       "      <th>3</th>\n",
       "      <td>0</td>\n",
       "      <td>1147.906672</td>\n",
       "    </tr>\n",
       "    <tr>\n",
       "      <th>4</th>\n",
       "      <td>88</td>\n",
       "      <td>991.686045</td>\n",
       "    </tr>\n",
       "    <tr>\n",
       "      <th>5</th>\n",
       "      <td>0</td>\n",
       "      <td>991.686045</td>\n",
       "    </tr>\n",
       "    <tr>\n",
       "      <th>6</th>\n",
       "      <td>489</td>\n",
       "      <td>1196.323485</td>\n",
       "    </tr>\n",
       "    <tr>\n",
       "      <th>7</th>\n",
       "      <td>0</td>\n",
       "      <td>1056.445543</td>\n",
       "    </tr>\n",
       "    <tr>\n",
       "      <th>8</th>\n",
       "      <td>25</td>\n",
       "      <td>1312.491665</td>\n",
       "    </tr>\n",
       "    <tr>\n",
       "      <th>9</th>\n",
       "      <td>1998</td>\n",
       "      <td>991.686045</td>\n",
       "    </tr>\n",
       "    <tr>\n",
       "      <th>10</th>\n",
       "      <td>270</td>\n",
       "      <td>991.686045</td>\n",
       "    </tr>\n",
       "    <tr>\n",
       "      <th>11</th>\n",
       "      <td>0</td>\n",
       "      <td>991.686045</td>\n",
       "    </tr>\n",
       "    <tr>\n",
       "      <th>12</th>\n",
       "      <td>416</td>\n",
       "      <td>992.812017</td>\n",
       "    </tr>\n",
       "    <tr>\n",
       "      <th>13</th>\n",
       "      <td>12</td>\n",
       "      <td>991.686045</td>\n",
       "    </tr>\n",
       "    <tr>\n",
       "      <th>14</th>\n",
       "      <td>22</td>\n",
       "      <td>1462.310335</td>\n",
       "    </tr>\n",
       "    <tr>\n",
       "      <th>15</th>\n",
       "      <td>756</td>\n",
       "      <td>1504.711238</td>\n",
       "    </tr>\n",
       "    <tr>\n",
       "      <th>16</th>\n",
       "      <td>69</td>\n",
       "      <td>1139.799670</td>\n",
       "    </tr>\n",
       "    <tr>\n",
       "      <th>17</th>\n",
       "      <td>9832</td>\n",
       "      <td>1587.808001</td>\n",
       "    </tr>\n",
       "    <tr>\n",
       "      <th>18</th>\n",
       "      <td>233</td>\n",
       "      <td>991.686045</td>\n",
       "    </tr>\n",
       "    <tr>\n",
       "      <th>19</th>\n",
       "      <td>6</td>\n",
       "      <td>1293.800523</td>\n",
       "    </tr>\n",
       "    <tr>\n",
       "      <th>20</th>\n",
       "      <td>0</td>\n",
       "      <td>1354.635203</td>\n",
       "    </tr>\n",
       "    <tr>\n",
       "      <th>21</th>\n",
       "      <td>0</td>\n",
       "      <td>1284.052819</td>\n",
       "    </tr>\n",
       "    <tr>\n",
       "      <th>22</th>\n",
       "      <td>0</td>\n",
       "      <td>1063.362230</td>\n",
       "    </tr>\n",
       "    <tr>\n",
       "      <th>23</th>\n",
       "      <td>20</td>\n",
       "      <td>991.686045</td>\n",
       "    </tr>\n",
       "    <tr>\n",
       "      <th>24</th>\n",
       "      <td>1</td>\n",
       "      <td>991.686045</td>\n",
       "    </tr>\n",
       "    <tr>\n",
       "      <th>25</th>\n",
       "      <td>311</td>\n",
       "      <td>1066.450612</td>\n",
       "    </tr>\n",
       "    <tr>\n",
       "      <th>26</th>\n",
       "      <td>4</td>\n",
       "      <td>1572.655629</td>\n",
       "    </tr>\n",
       "    <tr>\n",
       "      <th>27</th>\n",
       "      <td>3</td>\n",
       "      <td>1744.639870</td>\n",
       "    </tr>\n",
       "    <tr>\n",
       "      <th>28</th>\n",
       "      <td>5</td>\n",
       "      <td>1470.095630</td>\n",
       "    </tr>\n",
       "    <tr>\n",
       "      <th>29</th>\n",
       "      <td>0</td>\n",
       "      <td>991.686045</td>\n",
       "    </tr>\n",
       "  </tbody>\n",
       "</table>\n",
       "</div>"
      ],
      "text/plain": [
       "    Actual    Predicted\n",
       "0      662   991.686045\n",
       "1      178  1248.150385\n",
       "2        4  1081.088253\n",
       "3        0  1147.906672\n",
       "4       88   991.686045\n",
       "5        0   991.686045\n",
       "6      489  1196.323485\n",
       "7        0  1056.445543\n",
       "8       25  1312.491665\n",
       "9     1998   991.686045\n",
       "10     270   991.686045\n",
       "11       0   991.686045\n",
       "12     416   992.812017\n",
       "13      12   991.686045\n",
       "14      22  1462.310335\n",
       "15     756  1504.711238\n",
       "16      69  1139.799670\n",
       "17    9832  1587.808001\n",
       "18     233   991.686045\n",
       "19       6  1293.800523\n",
       "20       0  1354.635203\n",
       "21       0  1284.052819\n",
       "22       0  1063.362230\n",
       "23      20   991.686045\n",
       "24       1   991.686045\n",
       "25     311  1066.450612\n",
       "26       4  1572.655629\n",
       "27       3  1744.639870\n",
       "28       5  1470.095630\n",
       "29       0   991.686045"
      ]
     },
     "execution_count": 27,
     "metadata": {},
     "output_type": "execute_result"
    }
   ],
   "source": [
    "# Create a dataframe comparing the actual and predicted values of y.\n",
    "data = pd.DataFrame({'Actual': y_test.flatten(), 'Predicted': y_predicted.flatten()})\n",
    "data.head(30)"
   ]
  },
  {
   "cell_type": "code",
   "execution_count": 20,
   "id": "85b9857a",
   "metadata": {},
   "outputs": [],
   "source": [
    "#Compare how the regression fits the training set\n",
    "y_predicted_train = regression.predict(X_train)"
   ]
  },
  {
   "cell_type": "code",
   "execution_count": 21,
   "id": "4de2eae9",
   "metadata": {},
   "outputs": [],
   "source": [
    "rmse = mean_squared_error(y_train, y_predicted_train)\n",
    "r2 = r2_score(y_train, y_predicted_train)"
   ]
  },
  {
   "cell_type": "code",
   "execution_count": 22,
   "id": "3e3c5b94",
   "metadata": {},
   "outputs": [
    {
     "name": "stdout",
     "output_type": "stream",
     "text": [
      "Slope: [[3.21706398]]\n",
      "Mean squared error:  24265383.708517607\n",
      "R2 score:  0.0014500179563690097\n"
     ]
    }
   ],
   "source": [
    "print('Slope:' ,regression.coef_)\n",
    "print('Mean squared error: ', rmse)\n",
    "print('R2 score: ', r2)"
   ]
  },
  {
   "cell_type": "code",
   "execution_count": 36,
   "id": "1caf41c5",
   "metadata": {},
   "outputs": [
    {
     "data": {
      "image/png": "[encoded data removed]",
      "text/plain": [
       "<Figure size 432x288 with 1 Axes>"
      ]
     },
     "metadata": {
      "needs_background": "light"
     },
     "output_type": "display_data"
    }
   ],
   "source": [
    "# Visualizing the training set results.\n",
    "plot_train = plt\n",
    "plot_train.scatter(X_train, y_train, color='green', s = 15)\n",
    "plot_train.plot(X_train, y_predicted_train, color='red', linewidth =3)\n",
    "plot_train.title('Total Vaccinations vs New COVID Deaths (Training set)')\n",
    "plot_train.xlabel('Total Vaccinations')\n",
    "plot_train.ylabel('Monthly')\n",
    "plot_train.show()"
   ]
  },
  {
   "cell_type": "markdown",
   "id": "861644b5",
   "metadata": {},
   "source": [
    "### Total Vaccinations & New cases"
   ]
  },
  {
   "cell_type": "code",
   "execution_count": 28,
   "id": "8d37be75",
   "metadata": {},
   "outputs": [
    {
     "data": {
      "image/png": "[encoded data removed]",
      "text/plain": [
       "<Figure size 432x288 with 1 Axes>"
      ]
     },
     "metadata": {
      "needs_background": "light"
     },
     "output_type": "display_data"
    }
   ],
   "source": [
    "# Scatterplot1\n",
    "df.plot(x = 'total_vaccinations_per_hundred', y='new_cases',style='o')\n",
    "plt.title('Total Vaccinations vs New COVID Cases')  \n",
    "plt.xlabel('Total Vaccinations')  \n",
    "plt.ylabel('Number of Monthly Cases')  \n",
    "plt.show()"
   ]
  },
  {
   "cell_type": "markdown",
   "id": "fd0637f3",
   "metadata": {},
   "source": [
    "## Hypothesis 2: The more vaccinations are administered, the less monthly cases will be reported."
   ]
  },
  {
   "cell_type": "code",
   "execution_count": 29,
   "id": "9357c65a",
   "metadata": {},
   "outputs": [],
   "source": [
    "# Reshape the variables into NumPy arrays and put them into separate objects.\n",
    "X1 = df['total_vaccinations_per_hundred'].values.reshape(-1,1)\n",
    "y1 = df['new_cases'].values.reshape(-1,1)"
   ]
  },
  {
   "cell_type": "code",
   "execution_count": 30,
   "id": "c6b4a4c1",
   "metadata": {},
   "outputs": [],
   "source": [
    "# Split data into a training set and a test set.\n",
    "X_train1, X_test1, y_train1, y_test1 = train_test_split(X1, y1, test_size=0.3, random_state=0)"
   ]
  },
  {
   "cell_type": "code",
   "execution_count": 31,
   "id": "ec5f9c17",
   "metadata": {},
   "outputs": [
    {
     "data": {
      "text/plain": [
       "LinearRegression()"
      ]
     },
     "execution_count": 31,
     "metadata": {},
     "output_type": "execute_result"
    }
   ],
   "source": [
    "# Fit the regression object onto the training set.\n",
    "regression.fit(X_train1, y_train1)"
   ]
  },
  {
   "cell_type": "code",
   "execution_count": 32,
   "id": "5446ec06",
   "metadata": {},
   "outputs": [],
   "source": [
    "# Predict the values of y using X.\n",
    "y_predicted1 = regression.predict(X_test1)"
   ]
  },
  {
   "cell_type": "code",
   "execution_count": 33,
   "id": "617cfb66",
   "metadata": {
    "scrolled": true
   },
   "outputs": [
    {
     "data": {
      "image/png": "[encoded data removed]",
      "text/plain": [
       "<Figure size 432x288 with 1 Axes>"
      ]
     },
     "metadata": {
      "needs_background": "light"
     },
     "output_type": "display_data"
    }
   ],
   "source": [
    "# Create a plot that shows the regression line from the model on the test set.\n",
    "plot_test1 = plt\n",
    "plot_test1.scatter(X_test1, y_test1, color='gray', s = 15)\n",
    "plot_test1.plot(X_test1, y_predicted1, color='red', linewidth =3)\n",
    "plot_test1.title('Total Vaccinations vs Monthly Cases')\n",
    "plot_test1.xlabel('Total Vaccinations')\n",
    "plot_test1.ylabel('Monthly Cases')\n",
    "plot_test1.show()"
   ]
  },
  {
   "cell_type": "code",
   "execution_count": 34,
   "id": "4238124a",
   "metadata": {},
   "outputs": [],
   "source": [
    "# Create objects that contain the model summary statistics.\n",
    "rmse1 = mean_squared_error(y_test1, y_predicted1)\n",
    "r2_1 = r2_score(y_test1, y_predicted1)"
   ]
  },
  {
   "cell_type": "code",
   "execution_count": 36,
   "id": "2b820374",
   "metadata": {},
   "outputs": [
    {
     "name": "stdout",
     "output_type": "stream",
     "text": [
      "Slope: [[1608.18630895]]\n",
      "Mean squared error:  240993114226.52667\n",
      "R2 score:  0.0441584694319036\n"
     ]
    }
   ],
   "source": [
    "# Print the model summary statistics.\n",
    "print('Slope:' ,regression.coef_)\n",
    "print('Mean squared error: ', rmse1)\n",
    "print('R2 score: ', r2_1)"
   ]
  },
  {
   "cell_type": "code",
   "execution_count": 37,
   "id": "3e522de0",
   "metadata": {},
   "outputs": [
    {
     "data": {
      "text/plain": [
       "array([[ 29628.97217705],\n",
       "       [157833.5847268 ],\n",
       "       [ 74320.46970286],\n",
       "       ...,\n",
       "       [ 29628.97217705],\n",
       "       [ 29628.97217705],\n",
       "       [178595.26997539]])"
      ]
     },
     "execution_count": 37,
     "metadata": {},
     "output_type": "execute_result"
    }
   ],
   "source": [
    "y_predicted1"
   ]
  },
  {
   "cell_type": "code",
   "execution_count": 38,
   "id": "2eabbb0d",
   "metadata": {
    "scrolled": true
   },
   "outputs": [
    {
     "data": {
      "text/html": [
       "<div>\n",
       "<style scoped>\n",
       "    .dataframe tbody tr th:only-of-type {\n",
       "        vertical-align: middle;\n",
       "    }\n",
       "\n",
       "    .dataframe tbody tr th {\n",
       "        vertical-align: top;\n",
       "    }\n",
       "\n",
       "    .dataframe thead th {\n",
       "        text-align: right;\n",
       "    }\n",
       "</style>\n",
       "<table border=\"1\" class=\"dataframe\">\n",
       "  <thead>\n",
       "    <tr style=\"text-align: right;\">\n",
       "      <th></th>\n",
       "      <th>Actual</th>\n",
       "      <th>Predicted</th>\n",
       "    </tr>\n",
       "  </thead>\n",
       "  <tbody>\n",
       "    <tr>\n",
       "      <th>0</th>\n",
       "      <td>65907</td>\n",
       "      <td>29628.972177</td>\n",
       "    </tr>\n",
       "    <tr>\n",
       "      <th>1</th>\n",
       "      <td>21517</td>\n",
       "      <td>157833.584727</td>\n",
       "    </tr>\n",
       "    <tr>\n",
       "      <th>2</th>\n",
       "      <td>4178</td>\n",
       "      <td>74320.469703</td>\n",
       "    </tr>\n",
       "    <tr>\n",
       "      <th>3</th>\n",
       "      <td>1</td>\n",
       "      <td>107722.499340</td>\n",
       "    </tr>\n",
       "    <tr>\n",
       "      <th>4</th>\n",
       "      <td>13875</td>\n",
       "      <td>29628.972177</td>\n",
       "    </tr>\n",
       "    <tr>\n",
       "      <th>5</th>\n",
       "      <td>66</td>\n",
       "      <td>29628.972177</td>\n",
       "    </tr>\n",
       "    <tr>\n",
       "      <th>6</th>\n",
       "      <td>92167</td>\n",
       "      <td>131925.703290</td>\n",
       "    </tr>\n",
       "    <tr>\n",
       "      <th>7</th>\n",
       "      <td>0</td>\n",
       "      <td>62001.762576</td>\n",
       "    </tr>\n",
       "    <tr>\n",
       "      <th>8</th>\n",
       "      <td>44454</td>\n",
       "      <td>189997.310906</td>\n",
       "    </tr>\n",
       "    <tr>\n",
       "      <th>9</th>\n",
       "      <td>156782</td>\n",
       "      <td>29628.972177</td>\n",
       "    </tr>\n",
       "    <tr>\n",
       "      <th>10</th>\n",
       "      <td>41594</td>\n",
       "      <td>29628.972177</td>\n",
       "    </tr>\n",
       "    <tr>\n",
       "      <th>11</th>\n",
       "      <td>118</td>\n",
       "      <td>29628.972177</td>\n",
       "    </tr>\n",
       "    <tr>\n",
       "      <th>12</th>\n",
       "      <td>29040</td>\n",
       "      <td>30191.837385</td>\n",
       "    </tr>\n",
       "    <tr>\n",
       "      <th>13</th>\n",
       "      <td>977</td>\n",
       "      <td>29628.972177</td>\n",
       "    </tr>\n",
       "    <tr>\n",
       "      <th>14</th>\n",
       "      <td>10456</td>\n",
       "      <td>264890.547314</td>\n",
       "    </tr>\n",
       "    <tr>\n",
       "      <th>15</th>\n",
       "      <td>78029</td>\n",
       "      <td>286086.442866</td>\n",
       "    </tr>\n",
       "    <tr>\n",
       "      <th>16</th>\n",
       "      <td>741</td>\n",
       "      <td>103669.869841</td>\n",
       "    </tr>\n",
       "    <tr>\n",
       "      <th>17</th>\n",
       "      <td>1090620</td>\n",
       "      <td>327625.895226</td>\n",
       "    </tr>\n",
       "    <tr>\n",
       "      <th>18</th>\n",
       "      <td>8120</td>\n",
       "      <td>29628.972177</td>\n",
       "    </tr>\n",
       "    <tr>\n",
       "      <th>19</th>\n",
       "      <td>393</td>\n",
       "      <td>180653.748451</td>\n",
       "    </tr>\n",
       "    <tr>\n",
       "      <th>20</th>\n",
       "      <td>204</td>\n",
       "      <td>211064.551553</td>\n",
       "    </tr>\n",
       "    <tr>\n",
       "      <th>21</th>\n",
       "      <td>4</td>\n",
       "      <td>175780.943935</td>\n",
       "    </tr>\n",
       "    <tr>\n",
       "      <th>22</th>\n",
       "      <td>42</td>\n",
       "      <td>65459.363141</td>\n",
       "    </tr>\n",
       "    <tr>\n",
       "      <th>23</th>\n",
       "      <td>1887</td>\n",
       "      <td>29628.972177</td>\n",
       "    </tr>\n",
       "    <tr>\n",
       "      <th>24</th>\n",
       "      <td>24</td>\n",
       "      <td>29628.972177</td>\n",
       "    </tr>\n",
       "    <tr>\n",
       "      <th>25</th>\n",
       "      <td>28851</td>\n",
       "      <td>67003.221997</td>\n",
       "    </tr>\n",
       "    <tr>\n",
       "      <th>26</th>\n",
       "      <td>2797</td>\n",
       "      <td>320051.337711</td>\n",
       "    </tr>\n",
       "    <tr>\n",
       "      <th>27</th>\n",
       "      <td>389</td>\n",
       "      <td>406024.977788</td>\n",
       "    </tr>\n",
       "    <tr>\n",
       "      <th>28</th>\n",
       "      <td>425</td>\n",
       "      <td>268782.358181</td>\n",
       "    </tr>\n",
       "    <tr>\n",
       "      <th>29</th>\n",
       "      <td>0</td>\n",
       "      <td>29628.972177</td>\n",
       "    </tr>\n",
       "  </tbody>\n",
       "</table>\n",
       "</div>"
      ],
      "text/plain": [
       "     Actual      Predicted\n",
       "0     65907   29628.972177\n",
       "1     21517  157833.584727\n",
       "2      4178   74320.469703\n",
       "3         1  107722.499340\n",
       "4     13875   29628.972177\n",
       "5        66   29628.972177\n",
       "6     92167  131925.703290\n",
       "7         0   62001.762576\n",
       "8     44454  189997.310906\n",
       "9    156782   29628.972177\n",
       "10    41594   29628.972177\n",
       "11      118   29628.972177\n",
       "12    29040   30191.837385\n",
       "13      977   29628.972177\n",
       "14    10456  264890.547314\n",
       "15    78029  286086.442866\n",
       "16      741  103669.869841\n",
       "17  1090620  327625.895226\n",
       "18     8120   29628.972177\n",
       "19      393  180653.748451\n",
       "20      204  211064.551553\n",
       "21        4  175780.943935\n",
       "22       42   65459.363141\n",
       "23     1887   29628.972177\n",
       "24       24   29628.972177\n",
       "25    28851   67003.221997\n",
       "26     2797  320051.337711\n",
       "27      389  406024.977788\n",
       "28      425  268782.358181\n",
       "29        0   29628.972177"
      ]
     },
     "execution_count": 38,
     "metadata": {},
     "output_type": "execute_result"
    }
   ],
   "source": [
    "# Create a dataframe comparing the actual and predicted values of y.\n",
    "data1 = pd.DataFrame({'Actual': y_test1.flatten(), 'Predicted': y_predicted1.flatten()})\n",
    "data1.head(30)"
   ]
  },
  {
   "cell_type": "code",
   "execution_count": 39,
   "id": "a365674d",
   "metadata": {},
   "outputs": [],
   "source": [
    "#Compare how the regression fits the training set\n",
    "y_predicted_train1 = regression.predict(X_train1)"
   ]
  },
  {
   "cell_type": "code",
   "execution_count": 40,
   "id": "74d8cc72",
   "metadata": {},
   "outputs": [],
   "source": [
    "rmse1 = mean_squared_error(y_train1, y_predicted_train1)\n",
    "r2_1 = r2_score(y_train1, y_predicted_train1)"
   ]
  },
  {
   "cell_type": "code",
   "execution_count": 41,
   "id": "cf41061c",
   "metadata": {},
   "outputs": [
    {
     "name": "stdout",
     "output_type": "stream",
     "text": [
      "Slope: [[1608.18630895]]\n",
      "Mean squared error:  249154092466.03094\n",
      "R2 score:  0.03413443486505907\n"
     ]
    }
   ],
   "source": [
    "print('Slope:' ,regression.coef_)\n",
    "print('Mean squared error: ', rmse1)\n",
    "print('R2 score: ', r2_1)"
   ]
  },
  {
   "cell_type": "code",
   "execution_count": 42,
   "id": "8763b352",
   "metadata": {
    "scrolled": true
   },
   "outputs": [
    {
     "data": {
      "image/png": "[encoded data removed]",
      "text/plain": [
       "<Figure size 432x288 with 1 Axes>"
      ]
     },
     "metadata": {
      "needs_background": "light"
     },
     "output_type": "display_data"
    }
   ],
   "source": [
    "# Visualizing the training set results.\n",
    "plot_train1 = plt\n",
    "plot_train1.scatter(X_train1, y_train1, color='green', s = 15)\n",
    "plot_train1.plot(X_train1, y_predicted_train1, color='red', linewidth =3)\n",
    "plot_train1.title('Total Vaccinations vs Monthly Cases (Train set)')\n",
    "plot_train1.xlabel('Total Vaccinations')\n",
    "plot_train1.ylabel('Number of Monthly Cases')\n",
    "plot_train1.show()"
   ]
  },
  {
   "cell_type": "code",
   "execution_count": 43,
   "id": "d6df99aa",
   "metadata": {},
   "outputs": [
    {
     "data": {
      "image/png": "[encoded data removed]",
      "text/plain": [
       "<Figure size 432x288 with 1 Axes>"
      ]
     },
     "metadata": {
      "needs_background": "light"
     },
     "output_type": "display_data"
    }
   ],
   "source": [
    "df.plot(x = 'total_vaccinations_per_hundred', y='people_fully_vaccinated_per_hundred',style='o')\n",
    "plt.title('Total Vaccinations vs New COVID Cases')  \n",
    "plt.xlabel('Total Vaccinations')  \n",
    "plt.ylabel('Number of Monthly Cases')  \n",
    "plt.show()"
   ]
  },
  {
   "cell_type": "markdown",
   "id": "aa6172ea",
   "metadata": {},
   "source": [
    "## Hypothesis 3: The more vaccinations are administered, the more people will be fully vaccinated."
   ]
  },
  {
   "cell_type": "code",
   "execution_count": 57,
   "id": "cb04a759",
   "metadata": {},
   "outputs": [],
   "source": [
    "# Reshape the variables into NumPy arrays and put them into separate objects.\n",
    "X3 = df['total_vaccinations_per_hundred'].values.reshape(-1,1)\n",
    "y3 = df['people_fully_vaccinated_per_hundred'].values.reshape(-1,1)"
   ]
  },
  {
   "cell_type": "code",
   "execution_count": 58,
   "id": "39e1e49d",
   "metadata": {},
   "outputs": [],
   "source": [
    "# Split data into a training set and a test set.\n",
    "X_train3, X_test3, y_train3, y_test3 = train_test_split(X3, y3, test_size=0.3, random_state=0)"
   ]
  },
  {
   "cell_type": "code",
   "execution_count": 59,
   "id": "be0d75db",
   "metadata": {},
   "outputs": [
    {
     "data": {
      "text/plain": [
       "LinearRegression()"
      ]
     },
     "execution_count": 59,
     "metadata": {},
     "output_type": "execute_result"
    }
   ],
   "source": [
    "# Fit the regression object onto the training set.\n",
    "regression.fit(X_train3, y_train3)"
   ]
  },
  {
   "cell_type": "code",
   "execution_count": 60,
   "id": "e6480a1e",
   "metadata": {},
   "outputs": [],
   "source": [
    "# Predict the values of y using X.\n",
    "y_predicted3 = regression.predict(X_test3)"
   ]
  },
  {
   "cell_type": "code",
   "execution_count": 61,
   "id": "5c6997b7",
   "metadata": {
    "scrolled": true
   },
   "outputs": [
    {
     "data": {
      "image/png": "[encoded data removed]",
      "text/plain": [
       "<Figure size 432x288 with 1 Axes>"
      ]
     },
     "metadata": {
      "needs_background": "light"
     },
     "output_type": "display_data"
    }
   ],
   "source": [
    "# Create a plot that shows the regression line from the model on the test set.\n",
    "plot_test3 = plt\n",
    "plot_test3.scatter(X_test3, y_test3, color='gray', s = 15)\n",
    "plot_test3.plot(X_test3, y_predicted3, color='red', linewidth =3)\n",
    "plot_test3.title('Total Vaccinations vs People Fully Vaccinated')\n",
    "plot_test3.xlabel('Total Vaccinations')\n",
    "plot_test3.ylabel('Number of People Fully Vaccinated')\n",
    "plot_test3.show()"
   ]
  },
  {
   "cell_type": "code",
   "execution_count": 62,
   "id": "c4e33689",
   "metadata": {},
   "outputs": [],
   "source": [
    "# Create objects that contain the model summary statistics.\n",
    "rmse3 = mean_squared_error(y_test3, y_predicted3)\n",
    "r2_3 = r2_score(y_test3, y_predicted3)"
   ]
  },
  {
   "cell_type": "code",
   "execution_count": 63,
   "id": "61327464",
   "metadata": {},
   "outputs": [
    {
     "name": "stdout",
     "output_type": "stream",
     "text": [
      "Slope: [[0.41461552]]\n",
      "Mean squared error:  29.548083344840634\n",
      "R2 score:  0.953981033948518\n"
     ]
    }
   ],
   "source": [
    "# Print the model summary statistics.\n",
    "print('Slope:' ,regression.coef_)\n",
    "print('Mean squared error: ', rmse3)\n",
    "print('R2 score: ', r2_3)"
   ]
  },
  {
   "cell_type": "code",
   "execution_count": 64,
   "id": "cb44e643",
   "metadata": {},
   "outputs": [
    {
     "data": {
      "text/plain": [
       "array([[-2.24924679e-02],\n",
       "       [ 3.30306570e+01],\n",
       "       [ 1.14996729e+01],\n",
       "       ...,\n",
       "       [-2.24924679e-02],\n",
       "       [-2.24924679e-02],\n",
       "       [ 3.83833434e+01]])"
      ]
     },
     "execution_count": 64,
     "metadata": {},
     "output_type": "execute_result"
    }
   ],
   "source": [
    "y_predicted3"
   ]
  },
  {
   "cell_type": "code",
   "execution_count": 65,
   "id": "f5b25cae",
   "metadata": {
    "scrolled": true
   },
   "outputs": [
    {
     "data": {
      "text/html": [
       "<div>\n",
       "<style scoped>\n",
       "    .dataframe tbody tr th:only-of-type {\n",
       "        vertical-align: middle;\n",
       "    }\n",
       "\n",
       "    .dataframe tbody tr th {\n",
       "        vertical-align: top;\n",
       "    }\n",
       "\n",
       "    .dataframe thead th {\n",
       "        text-align: right;\n",
       "    }\n",
       "</style>\n",
       "<table border=\"1\" class=\"dataframe\">\n",
       "  <thead>\n",
       "    <tr style=\"text-align: right;\">\n",
       "      <th></th>\n",
       "      <th>Actual</th>\n",
       "      <th>Predicted</th>\n",
       "    </tr>\n",
       "  </thead>\n",
       "  <tbody>\n",
       "    <tr>\n",
       "      <th>0</th>\n",
       "      <td>0.00</td>\n",
       "      <td>-0.022492</td>\n",
       "    </tr>\n",
       "    <tr>\n",
       "      <th>1</th>\n",
       "      <td>30.69</td>\n",
       "      <td>33.030657</td>\n",
       "    </tr>\n",
       "    <tr>\n",
       "      <th>2</th>\n",
       "      <td>13.39</td>\n",
       "      <td>11.499673</td>\n",
       "    </tr>\n",
       "    <tr>\n",
       "      <th>3</th>\n",
       "      <td>16.03</td>\n",
       "      <td>20.111237</td>\n",
       "    </tr>\n",
       "    <tr>\n",
       "      <th>4</th>\n",
       "      <td>0.00</td>\n",
       "      <td>-0.022492</td>\n",
       "    </tr>\n",
       "    <tr>\n",
       "      <th>5</th>\n",
       "      <td>0.00</td>\n",
       "      <td>-0.022492</td>\n",
       "    </tr>\n",
       "    <tr>\n",
       "      <th>6</th>\n",
       "      <td>27.11</td>\n",
       "      <td>26.351201</td>\n",
       "    </tr>\n",
       "    <tr>\n",
       "      <th>7</th>\n",
       "      <td>0.00</td>\n",
       "      <td>8.323718</td>\n",
       "    </tr>\n",
       "    <tr>\n",
       "      <th>8</th>\n",
       "      <td>45.18</td>\n",
       "      <td>41.322967</td>\n",
       "    </tr>\n",
       "    <tr>\n",
       "      <th>9</th>\n",
       "      <td>0.00</td>\n",
       "      <td>-0.022492</td>\n",
       "    </tr>\n",
       "    <tr>\n",
       "      <th>10</th>\n",
       "      <td>0.00</td>\n",
       "      <td>-0.022492</td>\n",
       "    </tr>\n",
       "    <tr>\n",
       "      <th>11</th>\n",
       "      <td>0.00</td>\n",
       "      <td>-0.022492</td>\n",
       "    </tr>\n",
       "    <tr>\n",
       "      <th>12</th>\n",
       "      <td>0.02</td>\n",
       "      <td>0.122623</td>\n",
       "    </tr>\n",
       "    <tr>\n",
       "      <th>13</th>\n",
       "      <td>0.00</td>\n",
       "      <td>-0.022492</td>\n",
       "    </tr>\n",
       "    <tr>\n",
       "      <th>14</th>\n",
       "      <td>65.07</td>\n",
       "      <td>60.631612</td>\n",
       "    </tr>\n",
       "    <tr>\n",
       "      <th>15</th>\n",
       "      <td>76.24</td>\n",
       "      <td>66.096245</td>\n",
       "    </tr>\n",
       "    <tr>\n",
       "      <th>16</th>\n",
       "      <td>22.09</td>\n",
       "      <td>19.066406</td>\n",
       "    </tr>\n",
       "    <tr>\n",
       "      <th>17</th>\n",
       "      <td>72.87</td>\n",
       "      <td>76.805764</td>\n",
       "    </tr>\n",
       "    <tr>\n",
       "      <th>18</th>\n",
       "      <td>0.00</td>\n",
       "      <td>-0.022492</td>\n",
       "    </tr>\n",
       "    <tr>\n",
       "      <th>19</th>\n",
       "      <td>43.92</td>\n",
       "      <td>38.914051</td>\n",
       "    </tr>\n",
       "    <tr>\n",
       "      <th>20</th>\n",
       "      <td>53.97</td>\n",
       "      <td>46.754431</td>\n",
       "    </tr>\n",
       "    <tr>\n",
       "      <th>21</th>\n",
       "      <td>41.63</td>\n",
       "      <td>37.657766</td>\n",
       "    </tr>\n",
       "    <tr>\n",
       "      <th>22</th>\n",
       "      <td>11.51</td>\n",
       "      <td>9.215141</td>\n",
       "    </tr>\n",
       "    <tr>\n",
       "      <th>23</th>\n",
       "      <td>0.00</td>\n",
       "      <td>-0.022492</td>\n",
       "    </tr>\n",
       "    <tr>\n",
       "      <th>24</th>\n",
       "      <td>0.00</td>\n",
       "      <td>-0.022492</td>\n",
       "    </tr>\n",
       "    <tr>\n",
       "      <th>25</th>\n",
       "      <td>9.11</td>\n",
       "      <td>9.613172</td>\n",
       "    </tr>\n",
       "    <tr>\n",
       "      <th>26</th>\n",
       "      <td>68.08</td>\n",
       "      <td>74.852925</td>\n",
       "    </tr>\n",
       "    <tr>\n",
       "      <th>27</th>\n",
       "      <td>116.43</td>\n",
       "      <td>97.018271</td>\n",
       "    </tr>\n",
       "    <tr>\n",
       "      <th>28</th>\n",
       "      <td>71.60</td>\n",
       "      <td>61.634982</td>\n",
       "    </tr>\n",
       "    <tr>\n",
       "      <th>29</th>\n",
       "      <td>0.00</td>\n",
       "      <td>-0.022492</td>\n",
       "    </tr>\n",
       "  </tbody>\n",
       "</table>\n",
       "</div>"
      ],
      "text/plain": [
       "    Actual  Predicted\n",
       "0     0.00  -0.022492\n",
       "1    30.69  33.030657\n",
       "2    13.39  11.499673\n",
       "3    16.03  20.111237\n",
       "4     0.00  -0.022492\n",
       "5     0.00  -0.022492\n",
       "6    27.11  26.351201\n",
       "7     0.00   8.323718\n",
       "8    45.18  41.322967\n",
       "9     0.00  -0.022492\n",
       "10    0.00  -0.022492\n",
       "11    0.00  -0.022492\n",
       "12    0.02   0.122623\n",
       "13    0.00  -0.022492\n",
       "14   65.07  60.631612\n",
       "15   76.24  66.096245\n",
       "16   22.09  19.066406\n",
       "17   72.87  76.805764\n",
       "18    0.00  -0.022492\n",
       "19   43.92  38.914051\n",
       "20   53.97  46.754431\n",
       "21   41.63  37.657766\n",
       "22   11.51   9.215141\n",
       "23    0.00  -0.022492\n",
       "24    0.00  -0.022492\n",
       "25    9.11   9.613172\n",
       "26   68.08  74.852925\n",
       "27  116.43  97.018271\n",
       "28   71.60  61.634982\n",
       "29    0.00  -0.022492"
      ]
     },
     "execution_count": 65,
     "metadata": {},
     "output_type": "execute_result"
    }
   ],
   "source": [
    "# Create a dataframe comparing the actual and predicted values of y.\n",
    "data3 = pd.DataFrame({'Actual': y_test3.flatten(), 'Predicted': y_predicted3.flatten()})\n",
    "data3.head(30)"
   ]
  },
  {
   "cell_type": "code",
   "execution_count": 66,
   "id": "11ee4067",
   "metadata": {},
   "outputs": [],
   "source": [
    "#Compare how the regression fits the training set\n",
    "y_predicted_train3 = regression.predict(X_train3)"
   ]
  },
  {
   "cell_type": "code",
   "execution_count": 67,
   "id": "5ebf4f1f",
   "metadata": {},
   "outputs": [],
   "source": [
    "rmse3 = mean_squared_error(y_train3, y_predicted_train3)\n",
    "r2_3 = r2_score(y_train3, y_predicted_train3)"
   ]
  },
  {
   "cell_type": "code",
   "execution_count": 68,
   "id": "5ea5760c",
   "metadata": {},
   "outputs": [
    {
     "name": "stdout",
     "output_type": "stream",
     "text": [
      "Slope: [[0.41461552]]\n",
      "Mean squared error:  24.946634064987325\n",
      "R2 score:  0.9591189559959596\n"
     ]
    }
   ],
   "source": [
    "print('Slope:' ,regression.coef_)\n",
    "print('Mean squared error: ', rmse3)\n",
    "print('R2 score: ', r2_3)"
   ]
  },
  {
   "cell_type": "code",
   "execution_count": 69,
   "id": "cdb1bd20",
   "metadata": {},
   "outputs": [
    {
     "data": {
      "image/png": "[encoded data removed]",
      "text/plain": [
       "<Figure size 432x288 with 1 Axes>"
      ]
     },
     "metadata": {
      "needs_background": "light"
     },
     "output_type": "display_data"
    }
   ],
   "source": [
    "# Visualizing the training set results.\n",
    "plot_train3 = plt\n",
    "plot_train3.scatter(X_train3, y_train3, color='green', s = 15)\n",
    "plot_train3.plot(X_train3, y_predicted_train3, color='red', linewidth =3)\n",
    "plot_train3.title('Total Vaccinations vs People Fully Vaccinated (Train set)')\n",
    "plot_train3.xlabel('Total Vaccinations')\n",
    "plot_train3.ylabel('Number of People Fully Vaccinated')\n",
    "plot_train3.show()"
   ]
  },
  {
   "cell_type": "code",
   "execution_count": null,
   "id": "389c87ab",
   "metadata": {},
   "outputs": [],
   "source": []
  },
  {
   "cell_type": "code",
   "execution_count": null,
   "id": "74fa2b86",
   "metadata": {},
   "outputs": [],
   "source": []
  }
 ],
 "metadata": {
  "kernelspec": {
   "display_name": "Python 3 (ipykernel)",
   "language": "python",
   "name": "python3"
  },
  "language_info": {
   "codemirror_mode": {
    "name": "ipython",
    "version": 3
   },
   "file_extension": ".py",
   "mimetype": "text/x-python",
   "name": "python",
   "nbconvert_exporter": "python",
   "pygments_lexer": "ipython3",
   "version": "3.9.7"
  }
 },
 "nbformat": 4,
 "nbformat_minor": 5
}
