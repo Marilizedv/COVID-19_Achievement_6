{
 "cells": [
  {
   "cell_type": "markdown",
   "id": "a5fd8b28",
   "metadata": {},
   "source": [
    "# Task 6.2: Exploring Relationships"
   ]
  },
  {
   "cell_type": "markdown",
   "id": "b083876f",
   "metadata": {},
   "source": [
    "## This script contains:\n",
    "### 1.  Importing Visualization Libraries and Data\n",
    "### 2. Exploring Relationships\n",
    "### 2.1 Correlations\n",
    "### 2.2 Scatterplots\n",
    "### 2.3 Pair Plots\n",
    "### 2.4 Categorical Plots"
   ]
  },
  {
   "cell_type": "markdown",
   "id": "5dcf59b5",
   "metadata": {},
   "source": [
    "# 1. Importing Libraries and Data"
   ]
  },
  {
   "cell_type": "markdown",
   "id": "7d891d52",
   "metadata": {},
   "source": [
    "## Libraries"
   ]
  },
  {
   "cell_type": "code",
   "execution_count": 1,
   "id": "ac3b21c7",
   "metadata": {
    "scrolled": true
   },
   "outputs": [],
   "source": [
    "# import libraries\n",
    "import pandas as pd\n",
    "import numpy as np\n",
    "import os\n",
    "import seaborn as sns\n",
    "import matplotlib.pyplot as plt\n",
    "import scipy\n",
    "import matplotlib"
   ]
  },
  {
   "cell_type": "markdown",
   "id": "6877f685",
   "metadata": {},
   "source": [
    "## Data"
   ]
  },
  {
   "cell_type": "code",
   "execution_count": 2,
   "id": "a5c2147a",
   "metadata": {
    "scrolled": true
   },
   "outputs": [],
   "source": [
    "# create path\n",
    "path = r'C:\\Users\\M de Villiers\\Desktop\\Data Analytics\\Achievement 6'"
   ]
  },
  {
   "cell_type": "code",
   "execution_count": 3,
   "id": "c36c38c2",
   "metadata": {
    "scrolled": true
   },
   "outputs": [],
   "source": [
    "# import data\n",
    "df=pd.read_csv(os.path.join(path, '02_Data', 'Prepared_Data', 'FINAL_COVID_19_DATA.csv'), index_col=False)"
   ]
  },
  {
   "cell_type": "code",
   "execution_count": 4,
   "id": "14f43c63",
   "metadata": {
    "scrolled": true
   },
   "outputs": [
    {
     "data": {
      "text/html": [
       "<div>\n",
       "<style scoped>\n",
       "    .dataframe tbody tr th:only-of-type {\n",
       "        vertical-align: middle;\n",
       "    }\n",
       "\n",
       "    .dataframe tbody tr th {\n",
       "        vertical-align: top;\n",
       "    }\n",
       "\n",
       "    .dataframe thead th {\n",
       "        text-align: right;\n",
       "    }\n",
       "</style>\n",
       "<table border=\"1\" class=\"dataframe\">\n",
       "  <thead>\n",
       "    <tr style=\"text-align: right;\">\n",
       "      <th></th>\n",
       "      <th>country</th>\n",
       "      <th>iso_code</th>\n",
       "      <th>month_year</th>\n",
       "      <th>vaccines</th>\n",
       "      <th>total_vaccinations</th>\n",
       "      <th>people_vaccinated</th>\n",
       "      <th>people_fully_vaccinated</th>\n",
       "      <th>monthly_vaccinations_raw</th>\n",
       "      <th>monthly_vaccinations</th>\n",
       "      <th>total_vaccinations_per_hundred</th>\n",
       "      <th>...</th>\n",
       "      <th>people_fully_vaccinated_per_hundred</th>\n",
       "      <th>monthly_vaccinations_per_million</th>\n",
       "      <th>continent</th>\n",
       "      <th>population</th>\n",
       "      <th>new_cases</th>\n",
       "      <th>total_cases</th>\n",
       "      <th>new_deaths</th>\n",
       "      <th>total_deaths</th>\n",
       "      <th>%deaths</th>\n",
       "      <th>%cases</th>\n",
       "    </tr>\n",
       "  </thead>\n",
       "  <tbody>\n",
       "    <tr>\n",
       "      <th>0</th>\n",
       "      <td>Afghanistan</td>\n",
       "      <td>AFG</td>\n",
       "      <td>2021-02</td>\n",
       "      <td>Johnson&amp;Johnson, Oxford/AstraZeneca, Pfizer/Bi...</td>\n",
       "      <td>8200.0</td>\n",
       "      <td>8200.0</td>\n",
       "      <td>0.0</td>\n",
       "      <td>0.0</td>\n",
       "      <td>8202.0</td>\n",
       "      <td>0.02</td>\n",
       "      <td>...</td>\n",
       "      <td>0.00</td>\n",
       "      <td>204.0</td>\n",
       "      <td>Asia</td>\n",
       "      <td>39835428.0</td>\n",
       "      <td>691.0</td>\n",
       "      <td>55714.0</td>\n",
       "      <td>43.0</td>\n",
       "      <td>2443.0</td>\n",
       "      <td>0.006133</td>\n",
       "      <td>0.139860</td>\n",
       "    </tr>\n",
       "    <tr>\n",
       "      <th>1</th>\n",
       "      <td>Afghanistan</td>\n",
       "      <td>AFG</td>\n",
       "      <td>2021-03</td>\n",
       "      <td>Johnson&amp;Johnson, Oxford/AstraZeneca, Pfizer/Bi...</td>\n",
       "      <td>54000.0</td>\n",
       "      <td>54000.0</td>\n",
       "      <td>0.0</td>\n",
       "      <td>0.0</td>\n",
       "      <td>85894.0</td>\n",
       "      <td>0.14</td>\n",
       "      <td>...</td>\n",
       "      <td>0.00</td>\n",
       "      <td>2154.0</td>\n",
       "      <td>Asia</td>\n",
       "      <td>39835428.0</td>\n",
       "      <td>740.0</td>\n",
       "      <td>56454.0</td>\n",
       "      <td>41.0</td>\n",
       "      <td>2484.0</td>\n",
       "      <td>0.006236</td>\n",
       "      <td>0.141718</td>\n",
       "    </tr>\n",
       "    <tr>\n",
       "      <th>2</th>\n",
       "      <td>Afghanistan</td>\n",
       "      <td>AFG</td>\n",
       "      <td>2021-04</td>\n",
       "      <td>Johnson&amp;Johnson, Oxford/AstraZeneca, Pfizer/Bi...</td>\n",
       "      <td>240000.0</td>\n",
       "      <td>240000.0</td>\n",
       "      <td>0.0</td>\n",
       "      <td>0.0</td>\n",
       "      <td>219606.0</td>\n",
       "      <td>0.60</td>\n",
       "      <td>...</td>\n",
       "      <td>0.00</td>\n",
       "      <td>5511.0</td>\n",
       "      <td>Asia</td>\n",
       "      <td>39835428.0</td>\n",
       "      <td>3291.0</td>\n",
       "      <td>59745.0</td>\n",
       "      <td>141.0</td>\n",
       "      <td>2625.0</td>\n",
       "      <td>0.006590</td>\n",
       "      <td>0.149980</td>\n",
       "    </tr>\n",
       "    <tr>\n",
       "      <th>3</th>\n",
       "      <td>Afghanistan</td>\n",
       "      <td>AFG</td>\n",
       "      <td>2021-05</td>\n",
       "      <td>Johnson&amp;Johnson, Oxford/AstraZeneca, Pfizer/Bi...</td>\n",
       "      <td>600152.0</td>\n",
       "      <td>480226.0</td>\n",
       "      <td>119926.0</td>\n",
       "      <td>2859.0</td>\n",
       "      <td>285838.0</td>\n",
       "      <td>1.51</td>\n",
       "      <td>...</td>\n",
       "      <td>0.30</td>\n",
       "      <td>7171.0</td>\n",
       "      <td>Asia</td>\n",
       "      <td>39835428.0</td>\n",
       "      <td>12093.0</td>\n",
       "      <td>71838.0</td>\n",
       "      <td>319.0</td>\n",
       "      <td>2944.0</td>\n",
       "      <td>0.007390</td>\n",
       "      <td>0.180337</td>\n",
       "    </tr>\n",
       "    <tr>\n",
       "      <th>4</th>\n",
       "      <td>Afghanistan</td>\n",
       "      <td>AFG</td>\n",
       "      <td>2021-06</td>\n",
       "      <td>Johnson&amp;Johnson, Oxford/AstraZeneca, Pfizer/Bi...</td>\n",
       "      <td>886854.0</td>\n",
       "      <td>699200.0</td>\n",
       "      <td>187654.0</td>\n",
       "      <td>4015.0</td>\n",
       "      <td>242899.0</td>\n",
       "      <td>2.23</td>\n",
       "      <td>...</td>\n",
       "      <td>0.47</td>\n",
       "      <td>6097.0</td>\n",
       "      <td>Asia</td>\n",
       "      <td>39835428.0</td>\n",
       "      <td>46821.0</td>\n",
       "      <td>118659.0</td>\n",
       "      <td>1927.0</td>\n",
       "      <td>4871.0</td>\n",
       "      <td>0.012228</td>\n",
       "      <td>0.297873</td>\n",
       "    </tr>\n",
       "  </tbody>\n",
       "</table>\n",
       "<p>5 rows × 21 columns</p>\n",
       "</div>"
      ],
      "text/plain": [
       "       country iso_code month_year  \\\n",
       "0  Afghanistan      AFG    2021-02   \n",
       "1  Afghanistan      AFG    2021-03   \n",
       "2  Afghanistan      AFG    2021-04   \n",
       "3  Afghanistan      AFG    2021-05   \n",
       "4  Afghanistan      AFG    2021-06   \n",
       "\n",
       "                                            vaccines  total_vaccinations  \\\n",
       "0  Johnson&Johnson, Oxford/AstraZeneca, Pfizer/Bi...              8200.0   \n",
       "1  Johnson&Johnson, Oxford/AstraZeneca, Pfizer/Bi...             54000.0   \n",
       "2  Johnson&Johnson, Oxford/AstraZeneca, Pfizer/Bi...            240000.0   \n",
       "3  Johnson&Johnson, Oxford/AstraZeneca, Pfizer/Bi...            600152.0   \n",
       "4  Johnson&Johnson, Oxford/AstraZeneca, Pfizer/Bi...            886854.0   \n",
       "\n",
       "   people_vaccinated  people_fully_vaccinated  monthly_vaccinations_raw  \\\n",
       "0             8200.0                      0.0                       0.0   \n",
       "1            54000.0                      0.0                       0.0   \n",
       "2           240000.0                      0.0                       0.0   \n",
       "3           480226.0                 119926.0                    2859.0   \n",
       "4           699200.0                 187654.0                    4015.0   \n",
       "\n",
       "   monthly_vaccinations  total_vaccinations_per_hundred  ...  \\\n",
       "0                8202.0                            0.02  ...   \n",
       "1               85894.0                            0.14  ...   \n",
       "2              219606.0                            0.60  ...   \n",
       "3              285838.0                            1.51  ...   \n",
       "4              242899.0                            2.23  ...   \n",
       "\n",
       "   people_fully_vaccinated_per_hundred  monthly_vaccinations_per_million  \\\n",
       "0                                 0.00                             204.0   \n",
       "1                                 0.00                            2154.0   \n",
       "2                                 0.00                            5511.0   \n",
       "3                                 0.30                            7171.0   \n",
       "4                                 0.47                            6097.0   \n",
       "\n",
       "   continent  population  new_cases  total_cases  new_deaths  total_deaths  \\\n",
       "0       Asia  39835428.0      691.0      55714.0        43.0        2443.0   \n",
       "1       Asia  39835428.0      740.0      56454.0        41.0        2484.0   \n",
       "2       Asia  39835428.0     3291.0      59745.0       141.0        2625.0   \n",
       "3       Asia  39835428.0    12093.0      71838.0       319.0        2944.0   \n",
       "4       Asia  39835428.0    46821.0     118659.0      1927.0        4871.0   \n",
       "\n",
       "    %deaths    %cases  \n",
       "0  0.006133  0.139860  \n",
       "1  0.006236  0.141718  \n",
       "2  0.006590  0.149980  \n",
       "3  0.007390  0.180337  \n",
       "4  0.012228  0.297873  \n",
       "\n",
       "[5 rows x 21 columns]"
      ]
     },
     "execution_count": 4,
     "metadata": {},
     "output_type": "execute_result"
    }
   ],
   "source": [
    "df.head()"
   ]
  },
  {
   "cell_type": "code",
   "execution_count": 5,
   "id": "257dedd0",
   "metadata": {
    "scrolled": true
   },
   "outputs": [
    {
     "data": {
      "text/html": [
       "<div>\n",
       "<style scoped>\n",
       "    .dataframe tbody tr th:only-of-type {\n",
       "        vertical-align: middle;\n",
       "    }\n",
       "\n",
       "    .dataframe tbody tr th {\n",
       "        vertical-align: top;\n",
       "    }\n",
       "\n",
       "    .dataframe thead th {\n",
       "        text-align: right;\n",
       "    }\n",
       "</style>\n",
       "<table border=\"1\" class=\"dataframe\">\n",
       "  <thead>\n",
       "    <tr style=\"text-align: right;\">\n",
       "      <th></th>\n",
       "      <th>country</th>\n",
       "      <th>iso_code</th>\n",
       "      <th>month_year</th>\n",
       "      <th>vaccines</th>\n",
       "      <th>total_vaccinations</th>\n",
       "      <th>people_vaccinated</th>\n",
       "      <th>people_fully_vaccinated</th>\n",
       "      <th>monthly_vaccinations_raw</th>\n",
       "      <th>monthly_vaccinations</th>\n",
       "      <th>total_vaccinations_per_hundred</th>\n",
       "      <th>...</th>\n",
       "      <th>people_fully_vaccinated_per_hundred</th>\n",
       "      <th>monthly_vaccinations_per_million</th>\n",
       "      <th>continent</th>\n",
       "      <th>population</th>\n",
       "      <th>new_cases</th>\n",
       "      <th>total_cases</th>\n",
       "      <th>new_deaths</th>\n",
       "      <th>total_deaths</th>\n",
       "      <th>%deaths</th>\n",
       "      <th>%cases</th>\n",
       "    </tr>\n",
       "  </thead>\n",
       "  <tbody>\n",
       "    <tr>\n",
       "      <th>5463</th>\n",
       "      <td>Zimbabwe</td>\n",
       "      <td>ZWE</td>\n",
       "      <td>2020-09</td>\n",
       "      <td>0</td>\n",
       "      <td>0.0</td>\n",
       "      <td>0.0</td>\n",
       "      <td>0.0</td>\n",
       "      <td>0.0</td>\n",
       "      <td>0.0</td>\n",
       "      <td>0.0</td>\n",
       "      <td>...</td>\n",
       "      <td>0.0</td>\n",
       "      <td>0.0</td>\n",
       "      <td>Africa</td>\n",
       "      <td>15092171.0</td>\n",
       "      <td>1341.0</td>\n",
       "      <td>7838.0</td>\n",
       "      <td>26.0</td>\n",
       "      <td>228.0</td>\n",
       "      <td>0.001511</td>\n",
       "      <td>0.051934</td>\n",
       "    </tr>\n",
       "    <tr>\n",
       "      <th>5464</th>\n",
       "      <td>Zimbabwe</td>\n",
       "      <td>ZWE</td>\n",
       "      <td>2020-10</td>\n",
       "      <td>0</td>\n",
       "      <td>0.0</td>\n",
       "      <td>0.0</td>\n",
       "      <td>0.0</td>\n",
       "      <td>0.0</td>\n",
       "      <td>0.0</td>\n",
       "      <td>0.0</td>\n",
       "      <td>...</td>\n",
       "      <td>0.0</td>\n",
       "      <td>0.0</td>\n",
       "      <td>Africa</td>\n",
       "      <td>15092171.0</td>\n",
       "      <td>529.0</td>\n",
       "      <td>8367.0</td>\n",
       "      <td>15.0</td>\n",
       "      <td>243.0</td>\n",
       "      <td>0.001610</td>\n",
       "      <td>0.055439</td>\n",
       "    </tr>\n",
       "    <tr>\n",
       "      <th>5465</th>\n",
       "      <td>Zimbabwe</td>\n",
       "      <td>ZWE</td>\n",
       "      <td>2020-11</td>\n",
       "      <td>0</td>\n",
       "      <td>0.0</td>\n",
       "      <td>0.0</td>\n",
       "      <td>0.0</td>\n",
       "      <td>0.0</td>\n",
       "      <td>0.0</td>\n",
       "      <td>0.0</td>\n",
       "      <td>...</td>\n",
       "      <td>0.0</td>\n",
       "      <td>0.0</td>\n",
       "      <td>Africa</td>\n",
       "      <td>15092171.0</td>\n",
       "      <td>1583.0</td>\n",
       "      <td>9950.0</td>\n",
       "      <td>33.0</td>\n",
       "      <td>276.0</td>\n",
       "      <td>0.001829</td>\n",
       "      <td>0.065928</td>\n",
       "    </tr>\n",
       "    <tr>\n",
       "      <th>5466</th>\n",
       "      <td>Zimbabwe</td>\n",
       "      <td>ZWE</td>\n",
       "      <td>2020-12</td>\n",
       "      <td>0</td>\n",
       "      <td>0.0</td>\n",
       "      <td>0.0</td>\n",
       "      <td>0.0</td>\n",
       "      <td>0.0</td>\n",
       "      <td>0.0</td>\n",
       "      <td>0.0</td>\n",
       "      <td>...</td>\n",
       "      <td>0.0</td>\n",
       "      <td>0.0</td>\n",
       "      <td>Africa</td>\n",
       "      <td>15092171.0</td>\n",
       "      <td>3917.0</td>\n",
       "      <td>13867.0</td>\n",
       "      <td>87.0</td>\n",
       "      <td>363.0</td>\n",
       "      <td>0.002405</td>\n",
       "      <td>0.091882</td>\n",
       "    </tr>\n",
       "    <tr>\n",
       "      <th>5467</th>\n",
       "      <td>Zimbabwe</td>\n",
       "      <td>ZWE</td>\n",
       "      <td>2021-01</td>\n",
       "      <td>0</td>\n",
       "      <td>0.0</td>\n",
       "      <td>0.0</td>\n",
       "      <td>0.0</td>\n",
       "      <td>0.0</td>\n",
       "      <td>0.0</td>\n",
       "      <td>0.0</td>\n",
       "      <td>...</td>\n",
       "      <td>0.0</td>\n",
       "      <td>0.0</td>\n",
       "      <td>Africa</td>\n",
       "      <td>15092171.0</td>\n",
       "      <td>19521.0</td>\n",
       "      <td>33388.0</td>\n",
       "      <td>854.0</td>\n",
       "      <td>1217.0</td>\n",
       "      <td>0.008064</td>\n",
       "      <td>0.221227</td>\n",
       "    </tr>\n",
       "  </tbody>\n",
       "</table>\n",
       "<p>5 rows × 21 columns</p>\n",
       "</div>"
      ],
      "text/plain": [
       "       country iso_code month_year vaccines  total_vaccinations  \\\n",
       "5463  Zimbabwe      ZWE    2020-09        0                 0.0   \n",
       "5464  Zimbabwe      ZWE    2020-10        0                 0.0   \n",
       "5465  Zimbabwe      ZWE    2020-11        0                 0.0   \n",
       "5466  Zimbabwe      ZWE    2020-12        0                 0.0   \n",
       "5467  Zimbabwe      ZWE    2021-01        0                 0.0   \n",
       "\n",
       "      people_vaccinated  people_fully_vaccinated  monthly_vaccinations_raw  \\\n",
       "5463                0.0                      0.0                       0.0   \n",
       "5464                0.0                      0.0                       0.0   \n",
       "5465                0.0                      0.0                       0.0   \n",
       "5466                0.0                      0.0                       0.0   \n",
       "5467                0.0                      0.0                       0.0   \n",
       "\n",
       "      monthly_vaccinations  total_vaccinations_per_hundred  ...  \\\n",
       "5463                   0.0                             0.0  ...   \n",
       "5464                   0.0                             0.0  ...   \n",
       "5465                   0.0                             0.0  ...   \n",
       "5466                   0.0                             0.0  ...   \n",
       "5467                   0.0                             0.0  ...   \n",
       "\n",
       "      people_fully_vaccinated_per_hundred  monthly_vaccinations_per_million  \\\n",
       "5463                                  0.0                               0.0   \n",
       "5464                                  0.0                               0.0   \n",
       "5465                                  0.0                               0.0   \n",
       "5466                                  0.0                               0.0   \n",
       "5467                                  0.0                               0.0   \n",
       "\n",
       "      continent  population  new_cases  total_cases  new_deaths  total_deaths  \\\n",
       "5463     Africa  15092171.0     1341.0       7838.0        26.0         228.0   \n",
       "5464     Africa  15092171.0      529.0       8367.0        15.0         243.0   \n",
       "5465     Africa  15092171.0     1583.0       9950.0        33.0         276.0   \n",
       "5466     Africa  15092171.0     3917.0      13867.0        87.0         363.0   \n",
       "5467     Africa  15092171.0    19521.0      33388.0       854.0        1217.0   \n",
       "\n",
       "       %deaths    %cases  \n",
       "5463  0.001511  0.051934  \n",
       "5464  0.001610  0.055439  \n",
       "5465  0.001829  0.065928  \n",
       "5466  0.002405  0.091882  \n",
       "5467  0.008064  0.221227  \n",
       "\n",
       "[5 rows x 21 columns]"
      ]
     },
     "execution_count": 5,
     "metadata": {},
     "output_type": "execute_result"
    }
   ],
   "source": [
    "df.tail()"
   ]
  },
  {
   "cell_type": "code",
   "execution_count": 6,
   "id": "6a0d7b1e",
   "metadata": {
    "scrolled": true
   },
   "outputs": [
    {
     "data": {
      "text/plain": [
       "country                                0\n",
       "iso_code                               0\n",
       "month_year                             0\n",
       "vaccines                               0\n",
       "total_vaccinations                     0\n",
       "people_vaccinated                      0\n",
       "people_fully_vaccinated                0\n",
       "monthly_vaccinations_raw               0\n",
       "monthly_vaccinations                   0\n",
       "total_vaccinations_per_hundred         0\n",
       "people_vaccinated_per_hundred          0\n",
       "people_fully_vaccinated_per_hundred    0\n",
       "monthly_vaccinations_per_million       0\n",
       "continent                              0\n",
       "population                             0\n",
       "new_cases                              0\n",
       "total_cases                            0\n",
       "new_deaths                             0\n",
       "total_deaths                           0\n",
       "%deaths                                0\n",
       "%cases                                 0\n",
       "dtype: int64"
      ]
     },
     "execution_count": 6,
     "metadata": {},
     "output_type": "execute_result"
    }
   ],
   "source": [
    "# check missing values\n",
    "df.isnull().sum()"
   ]
  },
  {
   "cell_type": "code",
   "execution_count": 7,
   "id": "92560d48",
   "metadata": {
    "scrolled": true
   },
   "outputs": [
    {
     "data": {
      "text/plain": [
       "(5468, 21)"
      ]
     },
     "execution_count": 7,
     "metadata": {},
     "output_type": "execute_result"
    }
   ],
   "source": [
    "df.shape"
   ]
  },
  {
   "cell_type": "code",
   "execution_count": 8,
   "id": "39a9f2de",
   "metadata": {
    "scrolled": true
   },
   "outputs": [
    {
     "data": {
      "text/plain": [
       "country                                 object\n",
       "iso_code                                object\n",
       "month_year                              object\n",
       "vaccines                                object\n",
       "total_vaccinations                     float64\n",
       "people_vaccinated                      float64\n",
       "people_fully_vaccinated                float64\n",
       "monthly_vaccinations_raw               float64\n",
       "monthly_vaccinations                   float64\n",
       "total_vaccinations_per_hundred         float64\n",
       "people_vaccinated_per_hundred          float64\n",
       "people_fully_vaccinated_per_hundred    float64\n",
       "monthly_vaccinations_per_million       float64\n",
       "continent                               object\n",
       "population                             float64\n",
       "new_cases                              float64\n",
       "total_cases                            float64\n",
       "new_deaths                             float64\n",
       "total_deaths                           float64\n",
       "%deaths                                float64\n",
       "%cases                                 float64\n",
       "dtype: object"
      ]
     },
     "execution_count": 8,
     "metadata": {},
     "output_type": "execute_result"
    }
   ],
   "source": [
    "df.dtypes"
   ]
  },
  {
   "cell_type": "markdown",
   "id": "80d6b217",
   "metadata": {},
   "source": [
    "# 2. Exploring Relationships"
   ]
  },
  {
   "cell_type": "markdown",
   "id": "318dbbfd",
   "metadata": {},
   "source": [
    "## 2.1 Correlations"
   ]
  },
  {
   "cell_type": "code",
   "execution_count": 9,
   "id": "5b9e00c4",
   "metadata": {
    "scrolled": true
   },
   "outputs": [
    {
     "data": {
      "text/plain": [
       "'3.4.3'"
      ]
     },
     "execution_count": 9,
     "metadata": {},
     "output_type": "execute_result"
    }
   ],
   "source": [
    "matplotlib.__version__"
   ]
  },
  {
   "cell_type": "code",
   "execution_count": 10,
   "id": "3a92f4e5",
   "metadata": {
    "scrolled": true
   },
   "outputs": [],
   "source": [
    "%matplotlib inline"
   ]
  },
  {
   "cell_type": "code",
   "execution_count": 11,
   "id": "1fa66307",
   "metadata": {
    "scrolled": true
   },
   "outputs": [
    {
     "data": {
      "text/html": [
       "<div>\n",
       "<style scoped>\n",
       "    .dataframe tbody tr th:only-of-type {\n",
       "        vertical-align: middle;\n",
       "    }\n",
       "\n",
       "    .dataframe tbody tr th {\n",
       "        vertical-align: top;\n",
       "    }\n",
       "\n",
       "    .dataframe thead th {\n",
       "        text-align: right;\n",
       "    }\n",
       "</style>\n",
       "<table border=\"1\" class=\"dataframe\">\n",
       "  <thead>\n",
       "    <tr style=\"text-align: right;\">\n",
       "      <th></th>\n",
       "      <th>total_vaccinations</th>\n",
       "      <th>people_vaccinated</th>\n",
       "      <th>people_fully_vaccinated</th>\n",
       "      <th>monthly_vaccinations_raw</th>\n",
       "      <th>monthly_vaccinations</th>\n",
       "      <th>total_vaccinations_per_hundred</th>\n",
       "      <th>people_vaccinated_per_hundred</th>\n",
       "      <th>people_fully_vaccinated_per_hundred</th>\n",
       "      <th>monthly_vaccinations_per_million</th>\n",
       "      <th>population</th>\n",
       "      <th>new_cases</th>\n",
       "      <th>total_cases</th>\n",
       "      <th>new_deaths</th>\n",
       "      <th>total_deaths</th>\n",
       "      <th>%deaths</th>\n",
       "      <th>%cases</th>\n",
       "    </tr>\n",
       "  </thead>\n",
       "  <tbody>\n",
       "    <tr>\n",
       "      <th>total_vaccinations</th>\n",
       "      <td>1.000000</td>\n",
       "      <td>0.867850</td>\n",
       "      <td>0.899933</td>\n",
       "      <td>0.697500</td>\n",
       "      <td>0.708465</td>\n",
       "      <td>0.200587</td>\n",
       "      <td>0.171277</td>\n",
       "      <td>0.174622</td>\n",
       "      <td>0.115884</td>\n",
       "      <td>0.560721</td>\n",
       "      <td>0.187839</td>\n",
       "      <td>0.369567</td>\n",
       "      <td>0.145385</td>\n",
       "      <td>0.329328</td>\n",
       "      <td>0.046826</td>\n",
       "      <td>0.029238</td>\n",
       "    </tr>\n",
       "    <tr>\n",
       "      <th>people_vaccinated</th>\n",
       "      <td>0.867850</td>\n",
       "      <td>1.000000</td>\n",
       "      <td>0.917438</td>\n",
       "      <td>0.694219</td>\n",
       "      <td>0.714449</td>\n",
       "      <td>0.187652</td>\n",
       "      <td>0.204089</td>\n",
       "      <td>0.186135</td>\n",
       "      <td>0.131096</td>\n",
       "      <td>0.533888</td>\n",
       "      <td>0.224832</td>\n",
       "      <td>0.469653</td>\n",
       "      <td>0.196602</td>\n",
       "      <td>0.423169</td>\n",
       "      <td>0.061212</td>\n",
       "      <td>0.034560</td>\n",
       "    </tr>\n",
       "    <tr>\n",
       "      <th>people_fully_vaccinated</th>\n",
       "      <td>0.899933</td>\n",
       "      <td>0.917438</td>\n",
       "      <td>1.000000</td>\n",
       "      <td>0.563485</td>\n",
       "      <td>0.579684</td>\n",
       "      <td>0.196520</td>\n",
       "      <td>0.191914</td>\n",
       "      <td>0.202963</td>\n",
       "      <td>0.105302</td>\n",
       "      <td>0.485957</td>\n",
       "      <td>0.191561</td>\n",
       "      <td>0.381918</td>\n",
       "      <td>0.142765</td>\n",
       "      <td>0.344911</td>\n",
       "      <td>0.057830</td>\n",
       "      <td>0.035736</td>\n",
       "    </tr>\n",
       "    <tr>\n",
       "      <th>monthly_vaccinations_raw</th>\n",
       "      <td>0.697500</td>\n",
       "      <td>0.694219</td>\n",
       "      <td>0.563485</td>\n",
       "      <td>1.000000</td>\n",
       "      <td>0.992573</td>\n",
       "      <td>0.113339</td>\n",
       "      <td>0.111416</td>\n",
       "      <td>0.084997</td>\n",
       "      <td>0.170932</td>\n",
       "      <td>0.547116</td>\n",
       "      <td>0.153297</td>\n",
       "      <td>0.294936</td>\n",
       "      <td>0.173914</td>\n",
       "      <td>0.281899</td>\n",
       "      <td>0.027112</td>\n",
       "      <td>0.001321</td>\n",
       "    </tr>\n",
       "    <tr>\n",
       "      <th>monthly_vaccinations</th>\n",
       "      <td>0.708465</td>\n",
       "      <td>0.714449</td>\n",
       "      <td>0.579684</td>\n",
       "      <td>0.992573</td>\n",
       "      <td>1.000000</td>\n",
       "      <td>0.125373</td>\n",
       "      <td>0.128227</td>\n",
       "      <td>0.098729</td>\n",
       "      <td>0.191082</td>\n",
       "      <td>0.560942</td>\n",
       "      <td>0.159826</td>\n",
       "      <td>0.305796</td>\n",
       "      <td>0.177615</td>\n",
       "      <td>0.294124</td>\n",
       "      <td>0.029858</td>\n",
       "      <td>0.001173</td>\n",
       "    </tr>\n",
       "    <tr>\n",
       "      <th>total_vaccinations_per_hundred</th>\n",
       "      <td>0.200587</td>\n",
       "      <td>0.187652</td>\n",
       "      <td>0.196520</td>\n",
       "      <td>0.113339</td>\n",
       "      <td>0.125373</td>\n",
       "      <td>1.000000</td>\n",
       "      <td>0.948989</td>\n",
       "      <td>0.956530</td>\n",
       "      <td>0.541361</td>\n",
       "      <td>0.011445</td>\n",
       "      <td>0.194704</td>\n",
       "      <td>0.228263</td>\n",
       "      <td>0.034934</td>\n",
       "      <td>0.192001</td>\n",
       "      <td>0.468634</td>\n",
       "      <td>0.617703</td>\n",
       "    </tr>\n",
       "    <tr>\n",
       "      <th>people_vaccinated_per_hundred</th>\n",
       "      <td>0.171277</td>\n",
       "      <td>0.204089</td>\n",
       "      <td>0.191914</td>\n",
       "      <td>0.111416</td>\n",
       "      <td>0.128227</td>\n",
       "      <td>0.948989</td>\n",
       "      <td>1.000000</td>\n",
       "      <td>0.958895</td>\n",
       "      <td>0.615124</td>\n",
       "      <td>0.001346</td>\n",
       "      <td>0.175287</td>\n",
       "      <td>0.233324</td>\n",
       "      <td>0.044858</td>\n",
       "      <td>0.213626</td>\n",
       "      <td>0.470998</td>\n",
       "      <td>0.570191</td>\n",
       "    </tr>\n",
       "    <tr>\n",
       "      <th>people_fully_vaccinated_per_hundred</th>\n",
       "      <td>0.174622</td>\n",
       "      <td>0.186135</td>\n",
       "      <td>0.202963</td>\n",
       "      <td>0.084997</td>\n",
       "      <td>0.098729</td>\n",
       "      <td>0.956530</td>\n",
       "      <td>0.958895</td>\n",
       "      <td>1.000000</td>\n",
       "      <td>0.489243</td>\n",
       "      <td>-0.001606</td>\n",
       "      <td>0.178857</td>\n",
       "      <td>0.219511</td>\n",
       "      <td>0.030273</td>\n",
       "      <td>0.192643</td>\n",
       "      <td>0.478216</td>\n",
       "      <td>0.592483</td>\n",
       "    </tr>\n",
       "    <tr>\n",
       "      <th>monthly_vaccinations_per_million</th>\n",
       "      <td>0.115884</td>\n",
       "      <td>0.131096</td>\n",
       "      <td>0.105302</td>\n",
       "      <td>0.170932</td>\n",
       "      <td>0.191082</td>\n",
       "      <td>0.541361</td>\n",
       "      <td>0.615124</td>\n",
       "      <td>0.489243</td>\n",
       "      <td>1.000000</td>\n",
       "      <td>0.013610</td>\n",
       "      <td>0.082771</td>\n",
       "      <td>0.116394</td>\n",
       "      <td>0.055169</td>\n",
       "      <td>0.135444</td>\n",
       "      <td>0.285042</td>\n",
       "      <td>0.237105</td>\n",
       "    </tr>\n",
       "    <tr>\n",
       "      <th>population</th>\n",
       "      <td>0.560721</td>\n",
       "      <td>0.533888</td>\n",
       "      <td>0.485957</td>\n",
       "      <td>0.547116</td>\n",
       "      <td>0.560942</td>\n",
       "      <td>0.011445</td>\n",
       "      <td>0.001346</td>\n",
       "      <td>-0.001606</td>\n",
       "      <td>0.013610</td>\n",
       "      <td>1.000000</td>\n",
       "      <td>0.235741</td>\n",
       "      <td>0.354295</td>\n",
       "      <td>0.314976</td>\n",
       "      <td>0.331419</td>\n",
       "      <td>-0.036336</td>\n",
       "      <td>-0.062053</td>\n",
       "    </tr>\n",
       "    <tr>\n",
       "      <th>new_cases</th>\n",
       "      <td>0.187839</td>\n",
       "      <td>0.224832</td>\n",
       "      <td>0.191561</td>\n",
       "      <td>0.153297</td>\n",
       "      <td>0.159826</td>\n",
       "      <td>0.194704</td>\n",
       "      <td>0.175287</td>\n",
       "      <td>0.178857</td>\n",
       "      <td>0.082771</td>\n",
       "      <td>0.235741</td>\n",
       "      <td>1.000000</td>\n",
       "      <td>0.677422</td>\n",
       "      <td>0.623751</td>\n",
       "      <td>0.566975</td>\n",
       "      <td>0.188918</td>\n",
       "      <td>0.210776</td>\n",
       "    </tr>\n",
       "    <tr>\n",
       "      <th>total_cases</th>\n",
       "      <td>0.369567</td>\n",
       "      <td>0.469653</td>\n",
       "      <td>0.381918</td>\n",
       "      <td>0.294936</td>\n",
       "      <td>0.305796</td>\n",
       "      <td>0.228263</td>\n",
       "      <td>0.233324</td>\n",
       "      <td>0.219511</td>\n",
       "      <td>0.116394</td>\n",
       "      <td>0.354295</td>\n",
       "      <td>0.677422</td>\n",
       "      <td>1.000000</td>\n",
       "      <td>0.619681</td>\n",
       "      <td>0.915730</td>\n",
       "      <td>0.271661</td>\n",
       "      <td>0.220168</td>\n",
       "    </tr>\n",
       "    <tr>\n",
       "      <th>new_deaths</th>\n",
       "      <td>0.145385</td>\n",
       "      <td>0.196602</td>\n",
       "      <td>0.142765</td>\n",
       "      <td>0.173914</td>\n",
       "      <td>0.177615</td>\n",
       "      <td>0.034934</td>\n",
       "      <td>0.044858</td>\n",
       "      <td>0.030273</td>\n",
       "      <td>0.055169</td>\n",
       "      <td>0.314976</td>\n",
       "      <td>0.623751</td>\n",
       "      <td>0.619681</td>\n",
       "      <td>1.000000</td>\n",
       "      <td>0.685497</td>\n",
       "      <td>0.212454</td>\n",
       "      <td>0.079626</td>\n",
       "    </tr>\n",
       "    <tr>\n",
       "      <th>total_deaths</th>\n",
       "      <td>0.329328</td>\n",
       "      <td>0.423169</td>\n",
       "      <td>0.344911</td>\n",
       "      <td>0.281899</td>\n",
       "      <td>0.294124</td>\n",
       "      <td>0.192001</td>\n",
       "      <td>0.213626</td>\n",
       "      <td>0.192643</td>\n",
       "      <td>0.135444</td>\n",
       "      <td>0.331419</td>\n",
       "      <td>0.566975</td>\n",
       "      <td>0.915730</td>\n",
       "      <td>0.685497</td>\n",
       "      <td>1.000000</td>\n",
       "      <td>0.366090</td>\n",
       "      <td>0.168803</td>\n",
       "    </tr>\n",
       "    <tr>\n",
       "      <th>%deaths</th>\n",
       "      <td>0.046826</td>\n",
       "      <td>0.061212</td>\n",
       "      <td>0.057830</td>\n",
       "      <td>0.027112</td>\n",
       "      <td>0.029858</td>\n",
       "      <td>0.468634</td>\n",
       "      <td>0.470998</td>\n",
       "      <td>0.478216</td>\n",
       "      <td>0.285042</td>\n",
       "      <td>-0.036336</td>\n",
       "      <td>0.188918</td>\n",
       "      <td>0.271661</td>\n",
       "      <td>0.212454</td>\n",
       "      <td>0.366090</td>\n",
       "      <td>1.000000</td>\n",
       "      <td>0.674519</td>\n",
       "    </tr>\n",
       "    <tr>\n",
       "      <th>%cases</th>\n",
       "      <td>0.029238</td>\n",
       "      <td>0.034560</td>\n",
       "      <td>0.035736</td>\n",
       "      <td>0.001321</td>\n",
       "      <td>0.001173</td>\n",
       "      <td>0.617703</td>\n",
       "      <td>0.570191</td>\n",
       "      <td>0.592483</td>\n",
       "      <td>0.237105</td>\n",
       "      <td>-0.062053</td>\n",
       "      <td>0.210776</td>\n",
       "      <td>0.220168</td>\n",
       "      <td>0.079626</td>\n",
       "      <td>0.168803</td>\n",
       "      <td>0.674519</td>\n",
       "      <td>1.000000</td>\n",
       "    </tr>\n",
       "  </tbody>\n",
       "</table>\n",
       "</div>"
      ],
      "text/plain": [
       "                                     total_vaccinations  people_vaccinated  \\\n",
       "total_vaccinations                             1.000000           0.867850   \n",
       "people_vaccinated                              0.867850           1.000000   \n",
       "people_fully_vaccinated                        0.899933           0.917438   \n",
       "monthly_vaccinations_raw                       0.697500           0.694219   \n",
       "monthly_vaccinations                           0.708465           0.714449   \n",
       "total_vaccinations_per_hundred                 0.200587           0.187652   \n",
       "people_vaccinated_per_hundred                  0.171277           0.204089   \n",
       "people_fully_vaccinated_per_hundred            0.174622           0.186135   \n",
       "monthly_vaccinations_per_million               0.115884           0.131096   \n",
       "population                                     0.560721           0.533888   \n",
       "new_cases                                      0.187839           0.224832   \n",
       "total_cases                                    0.369567           0.469653   \n",
       "new_deaths                                     0.145385           0.196602   \n",
       "total_deaths                                   0.329328           0.423169   \n",
       "%deaths                                        0.046826           0.061212   \n",
       "%cases                                         0.029238           0.034560   \n",
       "\n",
       "                                     people_fully_vaccinated  \\\n",
       "total_vaccinations                                  0.899933   \n",
       "people_vaccinated                                   0.917438   \n",
       "people_fully_vaccinated                             1.000000   \n",
       "monthly_vaccinations_raw                            0.563485   \n",
       "monthly_vaccinations                                0.579684   \n",
       "total_vaccinations_per_hundred                      0.196520   \n",
       "people_vaccinated_per_hundred                       0.191914   \n",
       "people_fully_vaccinated_per_hundred                 0.202963   \n",
       "monthly_vaccinations_per_million                    0.105302   \n",
       "population                                          0.485957   \n",
       "new_cases                                           0.191561   \n",
       "total_cases                                         0.381918   \n",
       "new_deaths                                          0.142765   \n",
       "total_deaths                                        0.344911   \n",
       "%deaths                                             0.057830   \n",
       "%cases                                              0.035736   \n",
       "\n",
       "                                     monthly_vaccinations_raw  \\\n",
       "total_vaccinations                                   0.697500   \n",
       "people_vaccinated                                    0.694219   \n",
       "people_fully_vaccinated                              0.563485   \n",
       "monthly_vaccinations_raw                             1.000000   \n",
       "monthly_vaccinations                                 0.992573   \n",
       "total_vaccinations_per_hundred                       0.113339   \n",
       "people_vaccinated_per_hundred                        0.111416   \n",
       "people_fully_vaccinated_per_hundred                  0.084997   \n",
       "monthly_vaccinations_per_million                     0.170932   \n",
       "population                                           0.547116   \n",
       "new_cases                                            0.153297   \n",
       "total_cases                                          0.294936   \n",
       "new_deaths                                           0.173914   \n",
       "total_deaths                                         0.281899   \n",
       "%deaths                                              0.027112   \n",
       "%cases                                               0.001321   \n",
       "\n",
       "                                     monthly_vaccinations  \\\n",
       "total_vaccinations                               0.708465   \n",
       "people_vaccinated                                0.714449   \n",
       "people_fully_vaccinated                          0.579684   \n",
       "monthly_vaccinations_raw                         0.992573   \n",
       "monthly_vaccinations                             1.000000   \n",
       "total_vaccinations_per_hundred                   0.125373   \n",
       "people_vaccinated_per_hundred                    0.128227   \n",
       "people_fully_vaccinated_per_hundred              0.098729   \n",
       "monthly_vaccinations_per_million                 0.191082   \n",
       "population                                       0.560942   \n",
       "new_cases                                        0.159826   \n",
       "total_cases                                      0.305796   \n",
       "new_deaths                                       0.177615   \n",
       "total_deaths                                     0.294124   \n",
       "%deaths                                          0.029858   \n",
       "%cases                                           0.001173   \n",
       "\n",
       "                                     total_vaccinations_per_hundred  \\\n",
       "total_vaccinations                                         0.200587   \n",
       "people_vaccinated                                          0.187652   \n",
       "people_fully_vaccinated                                    0.196520   \n",
       "monthly_vaccinations_raw                                   0.113339   \n",
       "monthly_vaccinations                                       0.125373   \n",
       "total_vaccinations_per_hundred                             1.000000   \n",
       "people_vaccinated_per_hundred                              0.948989   \n",
       "people_fully_vaccinated_per_hundred                        0.956530   \n",
       "monthly_vaccinations_per_million                           0.541361   \n",
       "population                                                 0.011445   \n",
       "new_cases                                                  0.194704   \n",
       "total_cases                                                0.228263   \n",
       "new_deaths                                                 0.034934   \n",
       "total_deaths                                               0.192001   \n",
       "%deaths                                                    0.468634   \n",
       "%cases                                                     0.617703   \n",
       "\n",
       "                                     people_vaccinated_per_hundred  \\\n",
       "total_vaccinations                                        0.171277   \n",
       "people_vaccinated                                         0.204089   \n",
       "people_fully_vaccinated                                   0.191914   \n",
       "monthly_vaccinations_raw                                  0.111416   \n",
       "monthly_vaccinations                                      0.128227   \n",
       "total_vaccinations_per_hundred                            0.948989   \n",
       "people_vaccinated_per_hundred                             1.000000   \n",
       "people_fully_vaccinated_per_hundred                       0.958895   \n",
       "monthly_vaccinations_per_million                          0.615124   \n",
       "population                                                0.001346   \n",
       "new_cases                                                 0.175287   \n",
       "total_cases                                               0.233324   \n",
       "new_deaths                                                0.044858   \n",
       "total_deaths                                              0.213626   \n",
       "%deaths                                                   0.470998   \n",
       "%cases                                                    0.570191   \n",
       "\n",
       "                                     people_fully_vaccinated_per_hundred  \\\n",
       "total_vaccinations                                              0.174622   \n",
       "people_vaccinated                                               0.186135   \n",
       "people_fully_vaccinated                                         0.202963   \n",
       "monthly_vaccinations_raw                                        0.084997   \n",
       "monthly_vaccinations                                            0.098729   \n",
       "total_vaccinations_per_hundred                                  0.956530   \n",
       "people_vaccinated_per_hundred                                   0.958895   \n",
       "people_fully_vaccinated_per_hundred                             1.000000   \n",
       "monthly_vaccinations_per_million                                0.489243   \n",
       "population                                                     -0.001606   \n",
       "new_cases                                                       0.178857   \n",
       "total_cases                                                     0.219511   \n",
       "new_deaths                                                      0.030273   \n",
       "total_deaths                                                    0.192643   \n",
       "%deaths                                                         0.478216   \n",
       "%cases                                                          0.592483   \n",
       "\n",
       "                                     monthly_vaccinations_per_million  \\\n",
       "total_vaccinations                                           0.115884   \n",
       "people_vaccinated                                            0.131096   \n",
       "people_fully_vaccinated                                      0.105302   \n",
       "monthly_vaccinations_raw                                     0.170932   \n",
       "monthly_vaccinations                                         0.191082   \n",
       "total_vaccinations_per_hundred                               0.541361   \n",
       "people_vaccinated_per_hundred                                0.615124   \n",
       "people_fully_vaccinated_per_hundred                          0.489243   \n",
       "monthly_vaccinations_per_million                             1.000000   \n",
       "population                                                   0.013610   \n",
       "new_cases                                                    0.082771   \n",
       "total_cases                                                  0.116394   \n",
       "new_deaths                                                   0.055169   \n",
       "total_deaths                                                 0.135444   \n",
       "%deaths                                                      0.285042   \n",
       "%cases                                                       0.237105   \n",
       "\n",
       "                                     population  new_cases  total_cases  \\\n",
       "total_vaccinations                     0.560721   0.187839     0.369567   \n",
       "people_vaccinated                      0.533888   0.224832     0.469653   \n",
       "people_fully_vaccinated                0.485957   0.191561     0.381918   \n",
       "monthly_vaccinations_raw               0.547116   0.153297     0.294936   \n",
       "monthly_vaccinations                   0.560942   0.159826     0.305796   \n",
       "total_vaccinations_per_hundred         0.011445   0.194704     0.228263   \n",
       "people_vaccinated_per_hundred          0.001346   0.175287     0.233324   \n",
       "people_fully_vaccinated_per_hundred   -0.001606   0.178857     0.219511   \n",
       "monthly_vaccinations_per_million       0.013610   0.082771     0.116394   \n",
       "population                             1.000000   0.235741     0.354295   \n",
       "new_cases                              0.235741   1.000000     0.677422   \n",
       "total_cases                            0.354295   0.677422     1.000000   \n",
       "new_deaths                             0.314976   0.623751     0.619681   \n",
       "total_deaths                           0.331419   0.566975     0.915730   \n",
       "%deaths                               -0.036336   0.188918     0.271661   \n",
       "%cases                                -0.062053   0.210776     0.220168   \n",
       "\n",
       "                                     new_deaths  total_deaths   %deaths  \\\n",
       "total_vaccinations                     0.145385      0.329328  0.046826   \n",
       "people_vaccinated                      0.196602      0.423169  0.061212   \n",
       "people_fully_vaccinated                0.142765      0.344911  0.057830   \n",
       "monthly_vaccinations_raw               0.173914      0.281899  0.027112   \n",
       "monthly_vaccinations                   0.177615      0.294124  0.029858   \n",
       "total_vaccinations_per_hundred         0.034934      0.192001  0.468634   \n",
       "people_vaccinated_per_hundred          0.044858      0.213626  0.470998   \n",
       "people_fully_vaccinated_per_hundred    0.030273      0.192643  0.478216   \n",
       "monthly_vaccinations_per_million       0.055169      0.135444  0.285042   \n",
       "population                             0.314976      0.331419 -0.036336   \n",
       "new_cases                              0.623751      0.566975  0.188918   \n",
       "total_cases                            0.619681      0.915730  0.271661   \n",
       "new_deaths                             1.000000      0.685497  0.212454   \n",
       "total_deaths                           0.685497      1.000000  0.366090   \n",
       "%deaths                                0.212454      0.366090  1.000000   \n",
       "%cases                                 0.079626      0.168803  0.674519   \n",
       "\n",
       "                                       %cases  \n",
       "total_vaccinations                   0.029238  \n",
       "people_vaccinated                    0.034560  \n",
       "people_fully_vaccinated              0.035736  \n",
       "monthly_vaccinations_raw             0.001321  \n",
       "monthly_vaccinations                 0.001173  \n",
       "total_vaccinations_per_hundred       0.617703  \n",
       "people_vaccinated_per_hundred        0.570191  \n",
       "people_fully_vaccinated_per_hundred  0.592483  \n",
       "monthly_vaccinations_per_million     0.237105  \n",
       "population                          -0.062053  \n",
       "new_cases                            0.210776  \n",
       "total_cases                          0.220168  \n",
       "new_deaths                           0.079626  \n",
       "total_deaths                         0.168803  \n",
       "%deaths                              0.674519  \n",
       "%cases                               1.000000  "
      ]
     },
     "execution_count": 11,
     "metadata": {},
     "output_type": "execute_result"
    }
   ],
   "source": [
    "# Create a correlation matrix (Question 2)\n",
    "df.corr()\n",
    "# These are the variables (except for all the variables that says \"per_hundred\" or \"per_million\") I will use for my correlation matrix heatmap which I will create with seaborn"
   ]
  },
  {
   "cell_type": "markdown",
   "id": "ae8d2baf",
   "metadata": {},
   "source": [
    "## Correlation Matrix Heatmap (Question 3)"
   ]
  },
  {
   "cell_type": "code",
   "execution_count": 12,
   "id": "0118d602",
   "metadata": {
    "scrolled": true
   },
   "outputs": [],
   "source": [
    "# create a correlation heatmap with seaborn\n",
    "# Create a subset excluding the \"country\", \"month_year\" and \"vaccines\" columns\n",
    "sub_df = df[['population', 'total_vaccinations', 'people_vaccinated', 'people_fully_vaccinated', 'monthly_vaccinations_raw', 'monthly_vaccinations', 'new_cases', 'total_cases', 'new_deaths', 'total_deaths']]"
   ]
  },
  {
   "cell_type": "code",
   "execution_count": 13,
   "id": "8ae86eb8",
   "metadata": {
    "scrolled": true
   },
   "outputs": [
    {
     "data": {
      "text/html": [
       "<div>\n",
       "<style scoped>\n",
       "    .dataframe tbody tr th:only-of-type {\n",
       "        vertical-align: middle;\n",
       "    }\n",
       "\n",
       "    .dataframe tbody tr th {\n",
       "        vertical-align: top;\n",
       "    }\n",
       "\n",
       "    .dataframe thead th {\n",
       "        text-align: right;\n",
       "    }\n",
       "</style>\n",
       "<table border=\"1\" class=\"dataframe\">\n",
       "  <thead>\n",
       "    <tr style=\"text-align: right;\">\n",
       "      <th></th>\n",
       "      <th>population</th>\n",
       "      <th>total_vaccinations</th>\n",
       "      <th>people_vaccinated</th>\n",
       "      <th>people_fully_vaccinated</th>\n",
       "      <th>monthly_vaccinations_raw</th>\n",
       "      <th>monthly_vaccinations</th>\n",
       "      <th>new_cases</th>\n",
       "      <th>total_cases</th>\n",
       "      <th>new_deaths</th>\n",
       "      <th>total_deaths</th>\n",
       "    </tr>\n",
       "  </thead>\n",
       "  <tbody>\n",
       "    <tr>\n",
       "      <th>0</th>\n",
       "      <td>39835428.0</td>\n",
       "      <td>8200.0</td>\n",
       "      <td>8200.0</td>\n",
       "      <td>0.0</td>\n",
       "      <td>0.0</td>\n",
       "      <td>8202.0</td>\n",
       "      <td>691.0</td>\n",
       "      <td>55714.0</td>\n",
       "      <td>43.0</td>\n",
       "      <td>2443.0</td>\n",
       "    </tr>\n",
       "    <tr>\n",
       "      <th>1</th>\n",
       "      <td>39835428.0</td>\n",
       "      <td>54000.0</td>\n",
       "      <td>54000.0</td>\n",
       "      <td>0.0</td>\n",
       "      <td>0.0</td>\n",
       "      <td>85894.0</td>\n",
       "      <td>740.0</td>\n",
       "      <td>56454.0</td>\n",
       "      <td>41.0</td>\n",
       "      <td>2484.0</td>\n",
       "    </tr>\n",
       "    <tr>\n",
       "      <th>2</th>\n",
       "      <td>39835428.0</td>\n",
       "      <td>240000.0</td>\n",
       "      <td>240000.0</td>\n",
       "      <td>0.0</td>\n",
       "      <td>0.0</td>\n",
       "      <td>219606.0</td>\n",
       "      <td>3291.0</td>\n",
       "      <td>59745.0</td>\n",
       "      <td>141.0</td>\n",
       "      <td>2625.0</td>\n",
       "    </tr>\n",
       "    <tr>\n",
       "      <th>3</th>\n",
       "      <td>39835428.0</td>\n",
       "      <td>600152.0</td>\n",
       "      <td>480226.0</td>\n",
       "      <td>119926.0</td>\n",
       "      <td>2859.0</td>\n",
       "      <td>285838.0</td>\n",
       "      <td>12093.0</td>\n",
       "      <td>71838.0</td>\n",
       "      <td>319.0</td>\n",
       "      <td>2944.0</td>\n",
       "    </tr>\n",
       "    <tr>\n",
       "      <th>4</th>\n",
       "      <td>39835428.0</td>\n",
       "      <td>886854.0</td>\n",
       "      <td>699200.0</td>\n",
       "      <td>187654.0</td>\n",
       "      <td>4015.0</td>\n",
       "      <td>242899.0</td>\n",
       "      <td>46821.0</td>\n",
       "      <td>118659.0</td>\n",
       "      <td>1927.0</td>\n",
       "      <td>4871.0</td>\n",
       "    </tr>\n",
       "  </tbody>\n",
       "</table>\n",
       "</div>"
      ],
      "text/plain": [
       "   population  total_vaccinations  people_vaccinated  people_fully_vaccinated  \\\n",
       "0  39835428.0              8200.0             8200.0                      0.0   \n",
       "1  39835428.0             54000.0            54000.0                      0.0   \n",
       "2  39835428.0            240000.0           240000.0                      0.0   \n",
       "3  39835428.0            600152.0           480226.0                 119926.0   \n",
       "4  39835428.0            886854.0           699200.0                 187654.0   \n",
       "\n",
       "   monthly_vaccinations_raw  monthly_vaccinations  new_cases  total_cases  \\\n",
       "0                       0.0                8202.0      691.0      55714.0   \n",
       "1                       0.0               85894.0      740.0      56454.0   \n",
       "2                       0.0              219606.0     3291.0      59745.0   \n",
       "3                    2859.0              285838.0    12093.0      71838.0   \n",
       "4                    4015.0              242899.0    46821.0     118659.0   \n",
       "\n",
       "   new_deaths  total_deaths  \n",
       "0        43.0        2443.0  \n",
       "1        41.0        2484.0  \n",
       "2       141.0        2625.0  \n",
       "3       319.0        2944.0  \n",
       "4      1927.0        4871.0  "
      ]
     },
     "execution_count": 13,
     "metadata": {},
     "output_type": "execute_result"
    }
   ],
   "source": [
    "sub_df.head()"
   ]
  },
  {
   "cell_type": "code",
   "execution_count": 14,
   "id": "945a8e12",
   "metadata": {
    "scrolled": true
   },
   "outputs": [
    {
     "data": {
      "image/png": "[encoded data removed]",
      "text/plain": [
       "<Figure size 720x720 with 2 Axes>"
      ]
     },
     "metadata": {
      "needs_background": "light"
     },
     "output_type": "display_data"
    }
   ],
   "source": [
    "# Create a subplot with matplotlib\n",
    "f,ax = plt.subplots(figsize=(10,10))\n",
    "\n",
    "# Create the correlation heatmap in seaborn\n",
    "corr = sns.heatmap(sub_df.corr(), annot = True, ax = ax)"
   ]
  },
  {
   "cell_type": "markdown",
   "id": "7f3e2a8a",
   "metadata": {},
   "source": [
    "## 2.2 Scatterplots (Question 4)"
   ]
  },
  {
   "cell_type": "code",
   "execution_count": 15,
   "id": "910f0431",
   "metadata": {
    "scrolled": true
   },
   "outputs": [
    {
     "data": {
      "text/plain": [
       "<seaborn.axisgrid.FacetGrid at 0x2d3481b0490>"
      ]
     },
     "execution_count": 15,
     "metadata": {},
     "output_type": "execute_result"
    },
    {
     "data": {
      "image/png": "[encoded data removed]",
      "text/plain": [
       "<Figure size 360x360 with 1 Axes>"
      ]
     },
     "metadata": {
      "needs_background": "light"
     },
     "output_type": "display_data"
    }
   ],
   "source": [
    "# Population & total vaccinations\n",
    "sns.lmplot(x = 'population', y = 'total_vaccinations', data = df)"
   ]
  },
  {
   "cell_type": "markdown",
   "id": "10a95fc4",
   "metadata": {},
   "source": [
    "When looking at this scatterplot, it actually does not look like a linear relationship."
   ]
  },
  {
   "cell_type": "code",
   "execution_count": 16,
   "id": "bf011e3b",
   "metadata": {
    "scrolled": false
   },
   "outputs": [
    {
     "data": {
      "text/plain": [
       "<seaborn.axisgrid.FacetGrid at 0x2d347ab77f0>"
      ]
     },
     "execution_count": 16,
     "metadata": {},
     "output_type": "execute_result"
    },
    {
     "data": {
      "image/png": "[encoded data removed]",
      "text/plain": [
       "<Figure size 360x360 with 1 Axes>"
      ]
     },
     "metadata": {
      "needs_background": "light"
     },
     "output_type": "display_data"
    }
   ],
   "source": [
    "# Population & people vaccinated\n",
    "sns.lmplot(x = 'population', y = 'people_vaccinated', data = df)"
   ]
  },
  {
   "cell_type": "markdown",
   "id": "20e84a6a",
   "metadata": {},
   "source": [
    "Just like the previous scatterplot, this one does also not look like a linear relationship."
   ]
  },
  {
   "cell_type": "code",
   "execution_count": 17,
   "id": "8ba27dc7",
   "metadata": {
    "scrolled": false
   },
   "outputs": [
    {
     "data": {
      "text/plain": [
       "<seaborn.axisgrid.FacetGrid at 0x2d347b53be0>"
      ]
     },
     "execution_count": 17,
     "metadata": {},
     "output_type": "execute_result"
    },
    {
     "data": {
      "image/png": "[encoded data removed]",
      "text/plain": [
       "<Figure size 360x360 with 1 Axes>"
      ]
     },
     "metadata": {
      "needs_background": "light"
     },
     "output_type": "display_data"
    }
   ],
   "source": [
    "# Population & people fully vaccinated\n",
    "sns.lmplot(x = 'population', y = 'people_fully_vaccinated', data = df)"
   ]
  },
  {
   "cell_type": "code",
   "execution_count": 18,
   "id": "735a82ae",
   "metadata": {
    "scrolled": true
   },
   "outputs": [
    {
     "data": {
      "text/plain": [
       "<seaborn.axisgrid.FacetGrid at 0x2d347bc7ee0>"
      ]
     },
     "execution_count": 18,
     "metadata": {},
     "output_type": "execute_result"
    },
    {
     "data": {
      "image/png": "[encoded data removed]",
      "text/plain": [
       "<Figure size 360x360 with 1 Axes>"
      ]
     },
     "metadata": {
      "needs_background": "light"
     },
     "output_type": "display_data"
    }
   ],
   "source": [
    "# total vaccinations & people fully vaccinated\n",
    "sns.lmplot(x = 'total_vaccinations', y = 'people_fully_vaccinated', data = df)"
   ]
  },
  {
   "cell_type": "code",
   "execution_count": 19,
   "id": "f00cb508",
   "metadata": {
    "scrolled": true
   },
   "outputs": [
    {
     "data": {
      "text/plain": [
       "<seaborn.axisgrid.FacetGrid at 0x2d347c2f820>"
      ]
     },
     "execution_count": 19,
     "metadata": {},
     "output_type": "execute_result"
    },
    {
     "data": {
      "image/png": "[encoded data removed]",
      "text/plain": [
       "<Figure size 360x360 with 1 Axes>"
      ]
     },
     "metadata": {
      "needs_background": "light"
     },
     "output_type": "display_data"
    }
   ],
   "source": [
    "# total vaccinations & people fully vaccinated\n",
    "sns.lmplot(x = 'total_vaccinations', y = 'people_vaccinated', data = df)"
   ]
  },
  {
   "cell_type": "markdown",
   "id": "a4a6d07a",
   "metadata": {},
   "source": [
    "## 2.3 Pair Plots (Question 5)"
   ]
  },
  {
   "cell_type": "code",
   "execution_count": 20,
   "id": "59e6f43f",
   "metadata": {
    "scrolled": true
   },
   "outputs": [
    {
     "name": "stdout",
     "output_type": "stream",
     "text": [
      "Error in callback <function flush_figures at 0x000002D346FBCB80> (for post_execute):\n"
     ]
    },
    {
     "ename": "KeyboardInterrupt",
     "evalue": "",
     "output_type": "error",
     "traceback": [
      "\u001b[1;31m---------------------------------------------------------------------------\u001b[0m",
      "\u001b[1;31mKeyboardInterrupt\u001b[0m                         Traceback (most recent call last)",
      "\u001b[1;32m~\\anaconda3\\lib\\site-packages\\matplotlib_inline\\backend_inline.py\u001b[0m in \u001b[0;36mflush_figures\u001b[1;34m()\u001b[0m\n\u001b[0;32m    119\u001b[0m         \u001b[1;31m# ignore the tracking, just draw and close all figures\u001b[0m\u001b[1;33m\u001b[0m\u001b[1;33m\u001b[0m\u001b[0m\n\u001b[0;32m    120\u001b[0m         \u001b[1;32mtry\u001b[0m\u001b[1;33m:\u001b[0m\u001b[1;33m\u001b[0m\u001b[1;33m\u001b[0m\u001b[0m\n\u001b[1;32m--> 121\u001b[1;33m             \u001b[1;32mreturn\u001b[0m \u001b[0mshow\u001b[0m\u001b[1;33m(\u001b[0m\u001b[1;32mTrue\u001b[0m\u001b[1;33m)\u001b[0m\u001b[1;33m\u001b[0m\u001b[1;33m\u001b[0m\u001b[0m\n\u001b[0m\u001b[0;32m    122\u001b[0m         \u001b[1;32mexcept\u001b[0m \u001b[0mException\u001b[0m \u001b[1;32mas\u001b[0m \u001b[0me\u001b[0m\u001b[1;33m:\u001b[0m\u001b[1;33m\u001b[0m\u001b[1;33m\u001b[0m\u001b[0m\n\u001b[0;32m    123\u001b[0m             \u001b[1;31m# safely show traceback if in IPython, else raise\u001b[0m\u001b[1;33m\u001b[0m\u001b[1;33m\u001b[0m\u001b[0m\n",
      "\u001b[1;32m~\\anaconda3\\lib\\site-packages\\matplotlib_inline\\backend_inline.py\u001b[0m in \u001b[0;36mshow\u001b[1;34m(close, block)\u001b[0m\n\u001b[0;32m     39\u001b[0m     \u001b[1;32mtry\u001b[0m\u001b[1;33m:\u001b[0m\u001b[1;33m\u001b[0m\u001b[1;33m\u001b[0m\u001b[0m\n\u001b[0;32m     40\u001b[0m         \u001b[1;32mfor\u001b[0m \u001b[0mfigure_manager\u001b[0m \u001b[1;32min\u001b[0m \u001b[0mGcf\u001b[0m\u001b[1;33m.\u001b[0m\u001b[0mget_all_fig_managers\u001b[0m\u001b[1;33m(\u001b[0m\u001b[1;33m)\u001b[0m\u001b[1;33m:\u001b[0m\u001b[1;33m\u001b[0m\u001b[1;33m\u001b[0m\u001b[0m\n\u001b[1;32m---> 41\u001b[1;33m             display(\n\u001b[0m\u001b[0;32m     42\u001b[0m                 \u001b[0mfigure_manager\u001b[0m\u001b[1;33m.\u001b[0m\u001b[0mcanvas\u001b[0m\u001b[1;33m.\u001b[0m\u001b[0mfigure\u001b[0m\u001b[1;33m,\u001b[0m\u001b[1;33m\u001b[0m\u001b[1;33m\u001b[0m\u001b[0m\n\u001b[0;32m     43\u001b[0m                 \u001b[0mmetadata\u001b[0m\u001b[1;33m=\u001b[0m\u001b[0m_fetch_figure_metadata\u001b[0m\u001b[1;33m(\u001b[0m\u001b[0mfigure_manager\u001b[0m\u001b[1;33m.\u001b[0m\u001b[0mcanvas\u001b[0m\u001b[1;33m.\u001b[0m\u001b[0mfigure\u001b[0m\u001b[1;33m)\u001b[0m\u001b[1;33m\u001b[0m\u001b[1;33m\u001b[0m\u001b[0m\n",
      "\u001b[1;32m~\\anaconda3\\lib\\site-packages\\IPython\\core\\display.py\u001b[0m in \u001b[0;36mdisplay\u001b[1;34m(include, exclude, metadata, transient, display_id, *objs, **kwargs)\u001b[0m\n\u001b[0;32m    318\u001b[0m             \u001b[0mpublish_display_data\u001b[0m\u001b[1;33m(\u001b[0m\u001b[0mdata\u001b[0m\u001b[1;33m=\u001b[0m\u001b[0mobj\u001b[0m\u001b[1;33m,\u001b[0m \u001b[0mmetadata\u001b[0m\u001b[1;33m=\u001b[0m\u001b[0mmetadata\u001b[0m\u001b[1;33m,\u001b[0m \u001b[1;33m**\u001b[0m\u001b[0mkwargs\u001b[0m\u001b[1;33m)\u001b[0m\u001b[1;33m\u001b[0m\u001b[1;33m\u001b[0m\u001b[0m\n\u001b[0;32m    319\u001b[0m         \u001b[1;32melse\u001b[0m\u001b[1;33m:\u001b[0m\u001b[1;33m\u001b[0m\u001b[1;33m\u001b[0m\u001b[0m\n\u001b[1;32m--> 320\u001b[1;33m             \u001b[0mformat_dict\u001b[0m\u001b[1;33m,\u001b[0m \u001b[0mmd_dict\u001b[0m \u001b[1;33m=\u001b[0m \u001b[0mformat\u001b[0m\u001b[1;33m(\u001b[0m\u001b[0mobj\u001b[0m\u001b[1;33m,\u001b[0m \u001b[0minclude\u001b[0m\u001b[1;33m=\u001b[0m\u001b[0minclude\u001b[0m\u001b[1;33m,\u001b[0m \u001b[0mexclude\u001b[0m\u001b[1;33m=\u001b[0m\u001b[0mexclude\u001b[0m\u001b[1;33m)\u001b[0m\u001b[1;33m\u001b[0m\u001b[1;33m\u001b[0m\u001b[0m\n\u001b[0m\u001b[0;32m    321\u001b[0m             \u001b[1;32mif\u001b[0m \u001b[1;32mnot\u001b[0m \u001b[0mformat_dict\u001b[0m\u001b[1;33m:\u001b[0m\u001b[1;33m\u001b[0m\u001b[1;33m\u001b[0m\u001b[0m\n\u001b[0;32m    322\u001b[0m                 \u001b[1;31m# nothing to display (e.g. _ipython_display_ took over)\u001b[0m\u001b[1;33m\u001b[0m\u001b[1;33m\u001b[0m\u001b[0m\n",
      "\u001b[1;32m~\\anaconda3\\lib\\site-packages\\IPython\\core\\formatters.py\u001b[0m in \u001b[0;36mformat\u001b[1;34m(self, obj, include, exclude)\u001b[0m\n\u001b[0;32m    178\u001b[0m             \u001b[0mmd\u001b[0m \u001b[1;33m=\u001b[0m \u001b[1;32mNone\u001b[0m\u001b[1;33m\u001b[0m\u001b[1;33m\u001b[0m\u001b[0m\n\u001b[0;32m    179\u001b[0m             \u001b[1;32mtry\u001b[0m\u001b[1;33m:\u001b[0m\u001b[1;33m\u001b[0m\u001b[1;33m\u001b[0m\u001b[0m\n\u001b[1;32m--> 180\u001b[1;33m                 \u001b[0mdata\u001b[0m \u001b[1;33m=\u001b[0m \u001b[0mformatter\u001b[0m\u001b[1;33m(\u001b[0m\u001b[0mobj\u001b[0m\u001b[1;33m)\u001b[0m\u001b[1;33m\u001b[0m\u001b[1;33m\u001b[0m\u001b[0m\n\u001b[0m\u001b[0;32m    181\u001b[0m             \u001b[1;32mexcept\u001b[0m\u001b[1;33m:\u001b[0m\u001b[1;33m\u001b[0m\u001b[1;33m\u001b[0m\u001b[0m\n\u001b[0;32m    182\u001b[0m                 \u001b[1;31m# FIXME: log the exception\u001b[0m\u001b[1;33m\u001b[0m\u001b[1;33m\u001b[0m\u001b[0m\n",
      "\u001b[1;32m~\\anaconda3\\lib\\site-packages\\decorator.py\u001b[0m in \u001b[0;36mfun\u001b[1;34m(*args, **kw)\u001b[0m\n\u001b[0;32m    230\u001b[0m             \u001b[1;32mif\u001b[0m \u001b[1;32mnot\u001b[0m \u001b[0mkwsyntax\u001b[0m\u001b[1;33m:\u001b[0m\u001b[1;33m\u001b[0m\u001b[1;33m\u001b[0m\u001b[0m\n\u001b[0;32m    231\u001b[0m                 \u001b[0margs\u001b[0m\u001b[1;33m,\u001b[0m \u001b[0mkw\u001b[0m \u001b[1;33m=\u001b[0m \u001b[0mfix\u001b[0m\u001b[1;33m(\u001b[0m\u001b[0margs\u001b[0m\u001b[1;33m,\u001b[0m \u001b[0mkw\u001b[0m\u001b[1;33m,\u001b[0m \u001b[0msig\u001b[0m\u001b[1;33m)\u001b[0m\u001b[1;33m\u001b[0m\u001b[1;33m\u001b[0m\u001b[0m\n\u001b[1;32m--> 232\u001b[1;33m             \u001b[1;32mreturn\u001b[0m \u001b[0mcaller\u001b[0m\u001b[1;33m(\u001b[0m\u001b[0mfunc\u001b[0m\u001b[1;33m,\u001b[0m \u001b[1;33m*\u001b[0m\u001b[1;33m(\u001b[0m\u001b[0mextras\u001b[0m \u001b[1;33m+\u001b[0m \u001b[0margs\u001b[0m\u001b[1;33m)\u001b[0m\u001b[1;33m,\u001b[0m \u001b[1;33m**\u001b[0m\u001b[0mkw\u001b[0m\u001b[1;33m)\u001b[0m\u001b[1;33m\u001b[0m\u001b[1;33m\u001b[0m\u001b[0m\n\u001b[0m\u001b[0;32m    233\u001b[0m     \u001b[0mfun\u001b[0m\u001b[1;33m.\u001b[0m\u001b[0m__name__\u001b[0m \u001b[1;33m=\u001b[0m \u001b[0mfunc\u001b[0m\u001b[1;33m.\u001b[0m\u001b[0m__name__\u001b[0m\u001b[1;33m\u001b[0m\u001b[1;33m\u001b[0m\u001b[0m\n\u001b[0;32m    234\u001b[0m     \u001b[0mfun\u001b[0m\u001b[1;33m.\u001b[0m\u001b[0m__doc__\u001b[0m \u001b[1;33m=\u001b[0m \u001b[0mfunc\u001b[0m\u001b[1;33m.\u001b[0m\u001b[0m__doc__\u001b[0m\u001b[1;33m\u001b[0m\u001b[1;33m\u001b[0m\u001b[0m\n",
      "\u001b[1;32m~\\anaconda3\\lib\\site-packages\\IPython\\core\\formatters.py\u001b[0m in \u001b[0;36mcatch_format_error\u001b[1;34m(method, self, *args, **kwargs)\u001b[0m\n\u001b[0;32m    222\u001b[0m     \u001b[1;34m\"\"\"show traceback on failed format call\"\"\"\u001b[0m\u001b[1;33m\u001b[0m\u001b[1;33m\u001b[0m\u001b[0m\n\u001b[0;32m    223\u001b[0m     \u001b[1;32mtry\u001b[0m\u001b[1;33m:\u001b[0m\u001b[1;33m\u001b[0m\u001b[1;33m\u001b[0m\u001b[0m\n\u001b[1;32m--> 224\u001b[1;33m         \u001b[0mr\u001b[0m \u001b[1;33m=\u001b[0m \u001b[0mmethod\u001b[0m\u001b[1;33m(\u001b[0m\u001b[0mself\u001b[0m\u001b[1;33m,\u001b[0m \u001b[1;33m*\u001b[0m\u001b[0margs\u001b[0m\u001b[1;33m,\u001b[0m \u001b[1;33m**\u001b[0m\u001b[0mkwargs\u001b[0m\u001b[1;33m)\u001b[0m\u001b[1;33m\u001b[0m\u001b[1;33m\u001b[0m\u001b[0m\n\u001b[0m\u001b[0;32m    225\u001b[0m     \u001b[1;32mexcept\u001b[0m \u001b[0mNotImplementedError\u001b[0m\u001b[1;33m:\u001b[0m\u001b[1;33m\u001b[0m\u001b[1;33m\u001b[0m\u001b[0m\n\u001b[0;32m    226\u001b[0m         \u001b[1;31m# don't warn on NotImplementedErrors\u001b[0m\u001b[1;33m\u001b[0m\u001b[1;33m\u001b[0m\u001b[0m\n",
      "\u001b[1;32m~\\anaconda3\\lib\\site-packages\\IPython\\core\\formatters.py\u001b[0m in \u001b[0;36m__call__\u001b[1;34m(self, obj)\u001b[0m\n\u001b[0;32m    339\u001b[0m                 \u001b[1;32mpass\u001b[0m\u001b[1;33m\u001b[0m\u001b[1;33m\u001b[0m\u001b[0m\n\u001b[0;32m    340\u001b[0m             \u001b[1;32melse\u001b[0m\u001b[1;33m:\u001b[0m\u001b[1;33m\u001b[0m\u001b[1;33m\u001b[0m\u001b[0m\n\u001b[1;32m--> 341\u001b[1;33m                 \u001b[1;32mreturn\u001b[0m \u001b[0mprinter\u001b[0m\u001b[1;33m(\u001b[0m\u001b[0mobj\u001b[0m\u001b[1;33m)\u001b[0m\u001b[1;33m\u001b[0m\u001b[1;33m\u001b[0m\u001b[0m\n\u001b[0m\u001b[0;32m    342\u001b[0m             \u001b[1;31m# Finally look for special method names\u001b[0m\u001b[1;33m\u001b[0m\u001b[1;33m\u001b[0m\u001b[0m\n\u001b[0;32m    343\u001b[0m             \u001b[0mmethod\u001b[0m \u001b[1;33m=\u001b[0m \u001b[0mget_real_method\u001b[0m\u001b[1;33m(\u001b[0m\u001b[0mobj\u001b[0m\u001b[1;33m,\u001b[0m \u001b[0mself\u001b[0m\u001b[1;33m.\u001b[0m\u001b[0mprint_method\u001b[0m\u001b[1;33m)\u001b[0m\u001b[1;33m\u001b[0m\u001b[1;33m\u001b[0m\u001b[0m\n",
      "\u001b[1;32m~\\anaconda3\\lib\\site-packages\\IPython\\core\\pylabtools.py\u001b[0m in \u001b[0;36mprint_figure\u001b[1;34m(fig, fmt, bbox_inches, base64, **kwargs)\u001b[0m\n\u001b[0;32m    149\u001b[0m         \u001b[0mFigureCanvasBase\u001b[0m\u001b[1;33m(\u001b[0m\u001b[0mfig\u001b[0m\u001b[1;33m)\u001b[0m\u001b[1;33m\u001b[0m\u001b[1;33m\u001b[0m\u001b[0m\n\u001b[0;32m    150\u001b[0m \u001b[1;33m\u001b[0m\u001b[0m\n\u001b[1;32m--> 151\u001b[1;33m     \u001b[0mfig\u001b[0m\u001b[1;33m.\u001b[0m\u001b[0mcanvas\u001b[0m\u001b[1;33m.\u001b[0m\u001b[0mprint_figure\u001b[0m\u001b[1;33m(\u001b[0m\u001b[0mbytes_io\u001b[0m\u001b[1;33m,\u001b[0m \u001b[1;33m**\u001b[0m\u001b[0mkw\u001b[0m\u001b[1;33m)\u001b[0m\u001b[1;33m\u001b[0m\u001b[1;33m\u001b[0m\u001b[0m\n\u001b[0m\u001b[0;32m    152\u001b[0m     \u001b[0mdata\u001b[0m \u001b[1;33m=\u001b[0m \u001b[0mbytes_io\u001b[0m\u001b[1;33m.\u001b[0m\u001b[0mgetvalue\u001b[0m\u001b[1;33m(\u001b[0m\u001b[1;33m)\u001b[0m\u001b[1;33m\u001b[0m\u001b[1;33m\u001b[0m\u001b[0m\n\u001b[0;32m    153\u001b[0m     \u001b[1;32mif\u001b[0m \u001b[0mfmt\u001b[0m \u001b[1;33m==\u001b[0m \u001b[1;34m'svg'\u001b[0m\u001b[1;33m:\u001b[0m\u001b[1;33m\u001b[0m\u001b[1;33m\u001b[0m\u001b[0m\n",
      "\u001b[1;32m~\\anaconda3\\lib\\site-packages\\matplotlib\\backend_bases.py\u001b[0m in \u001b[0;36mprint_figure\u001b[1;34m(self, filename, dpi, facecolor, edgecolor, orientation, format, bbox_inches, pad_inches, bbox_extra_artists, backend, **kwargs)\u001b[0m\n\u001b[0;32m   2232\u001b[0m             \u001b[1;32mif\u001b[0m \u001b[0mbbox_inches\u001b[0m\u001b[1;33m:\u001b[0m\u001b[1;33m\u001b[0m\u001b[1;33m\u001b[0m\u001b[0m\n\u001b[0;32m   2233\u001b[0m                 \u001b[1;32mif\u001b[0m \u001b[0mbbox_inches\u001b[0m \u001b[1;33m==\u001b[0m \u001b[1;34m\"tight\"\u001b[0m\u001b[1;33m:\u001b[0m\u001b[1;33m\u001b[0m\u001b[1;33m\u001b[0m\u001b[0m\n\u001b[1;32m-> 2234\u001b[1;33m                     bbox_inches = self.figure.get_tightbbox(\n\u001b[0m\u001b[0;32m   2235\u001b[0m                         renderer, bbox_extra_artists=bbox_extra_artists)\n\u001b[0;32m   2236\u001b[0m                     \u001b[1;32mif\u001b[0m \u001b[0mpad_inches\u001b[0m \u001b[1;32mis\u001b[0m \u001b[1;32mNone\u001b[0m\u001b[1;33m:\u001b[0m\u001b[1;33m\u001b[0m\u001b[1;33m\u001b[0m\u001b[0m\n",
      "\u001b[1;32m~\\anaconda3\\lib\\site-packages\\matplotlib\\figure.py\u001b[0m in \u001b[0;36mget_tightbbox\u001b[1;34m(self, renderer, bbox_extra_artists)\u001b[0m\n\u001b[0;32m   1637\u001b[0m \u001b[1;33m\u001b[0m\u001b[0m\n\u001b[0;32m   1638\u001b[0m         \u001b[1;32mfor\u001b[0m \u001b[0ma\u001b[0m \u001b[1;32min\u001b[0m \u001b[0martists\u001b[0m\u001b[1;33m:\u001b[0m\u001b[1;33m\u001b[0m\u001b[1;33m\u001b[0m\u001b[0m\n\u001b[1;32m-> 1639\u001b[1;33m             \u001b[0mbbox\u001b[0m \u001b[1;33m=\u001b[0m \u001b[0ma\u001b[0m\u001b[1;33m.\u001b[0m\u001b[0mget_tightbbox\u001b[0m\u001b[1;33m(\u001b[0m\u001b[0mrenderer\u001b[0m\u001b[1;33m)\u001b[0m\u001b[1;33m\u001b[0m\u001b[1;33m\u001b[0m\u001b[0m\n\u001b[0m\u001b[0;32m   1640\u001b[0m             \u001b[1;32mif\u001b[0m \u001b[0mbbox\u001b[0m \u001b[1;32mis\u001b[0m \u001b[1;32mnot\u001b[0m \u001b[1;32mNone\u001b[0m \u001b[1;32mand\u001b[0m \u001b[1;33m(\u001b[0m\u001b[0mbbox\u001b[0m\u001b[1;33m.\u001b[0m\u001b[0mwidth\u001b[0m \u001b[1;33m!=\u001b[0m \u001b[1;36m0\u001b[0m \u001b[1;32mor\u001b[0m \u001b[0mbbox\u001b[0m\u001b[1;33m.\u001b[0m\u001b[0mheight\u001b[0m \u001b[1;33m!=\u001b[0m \u001b[1;36m0\u001b[0m\u001b[1;33m)\u001b[0m\u001b[1;33m:\u001b[0m\u001b[1;33m\u001b[0m\u001b[1;33m\u001b[0m\u001b[0m\n\u001b[0;32m   1641\u001b[0m                 \u001b[0mbb\u001b[0m\u001b[1;33m.\u001b[0m\u001b[0mappend\u001b[0m\u001b[1;33m(\u001b[0m\u001b[0mbbox\u001b[0m\u001b[1;33m)\u001b[0m\u001b[1;33m\u001b[0m\u001b[1;33m\u001b[0m\u001b[0m\n",
      "\u001b[1;32m~\\anaconda3\\lib\\site-packages\\matplotlib\\artist.py\u001b[0m in \u001b[0;36mget_tightbbox\u001b[1;34m(self, renderer)\u001b[0m\n\u001b[0;32m    304\u001b[0m             \u001b[0mThe\u001b[0m \u001b[0menclosing\u001b[0m \u001b[0mbounding\u001b[0m \u001b[0mbox\u001b[0m \u001b[1;33m(\u001b[0m\u001b[1;32min\u001b[0m \u001b[0mfigure\u001b[0m \u001b[0mpixel\u001b[0m \u001b[0mcoordinates\u001b[0m\u001b[1;33m)\u001b[0m\u001b[1;33m.\u001b[0m\u001b[1;33m\u001b[0m\u001b[1;33m\u001b[0m\u001b[0m\n\u001b[0;32m    305\u001b[0m         \"\"\"\n\u001b[1;32m--> 306\u001b[1;33m         \u001b[0mbbox\u001b[0m \u001b[1;33m=\u001b[0m \u001b[0mself\u001b[0m\u001b[1;33m.\u001b[0m\u001b[0mget_window_extent\u001b[0m\u001b[1;33m(\u001b[0m\u001b[0mrenderer\u001b[0m\u001b[1;33m)\u001b[0m\u001b[1;33m\u001b[0m\u001b[1;33m\u001b[0m\u001b[0m\n\u001b[0m\u001b[0;32m    307\u001b[0m         \u001b[1;32mif\u001b[0m \u001b[0mself\u001b[0m\u001b[1;33m.\u001b[0m\u001b[0mget_clip_on\u001b[0m\u001b[1;33m(\u001b[0m\u001b[1;33m)\u001b[0m\u001b[1;33m:\u001b[0m\u001b[1;33m\u001b[0m\u001b[1;33m\u001b[0m\u001b[0m\n\u001b[0;32m    308\u001b[0m             \u001b[0mclip_box\u001b[0m \u001b[1;33m=\u001b[0m \u001b[0mself\u001b[0m\u001b[1;33m.\u001b[0m\u001b[0mget_clip_box\u001b[0m\u001b[1;33m(\u001b[0m\u001b[1;33m)\u001b[0m\u001b[1;33m\u001b[0m\u001b[1;33m\u001b[0m\u001b[0m\n",
      "\u001b[1;32m~\\anaconda3\\lib\\site-packages\\matplotlib\\patches.py\u001b[0m in \u001b[0;36mget_window_extent\u001b[1;34m(self, renderer)\u001b[0m\n\u001b[0;32m    619\u001b[0m \u001b[1;33m\u001b[0m\u001b[0m\n\u001b[0;32m    620\u001b[0m     \u001b[1;32mdef\u001b[0m \u001b[0mget_window_extent\u001b[0m\u001b[1;33m(\u001b[0m\u001b[0mself\u001b[0m\u001b[1;33m,\u001b[0m \u001b[0mrenderer\u001b[0m\u001b[1;33m=\u001b[0m\u001b[1;32mNone\u001b[0m\u001b[1;33m)\u001b[0m\u001b[1;33m:\u001b[0m\u001b[1;33m\u001b[0m\u001b[1;33m\u001b[0m\u001b[0m\n\u001b[1;32m--> 621\u001b[1;33m         \u001b[1;32mreturn\u001b[0m \u001b[0mself\u001b[0m\u001b[1;33m.\u001b[0m\u001b[0mget_path\u001b[0m\u001b[1;33m(\u001b[0m\u001b[1;33m)\u001b[0m\u001b[1;33m.\u001b[0m\u001b[0mget_extents\u001b[0m\u001b[1;33m(\u001b[0m\u001b[0mself\u001b[0m\u001b[1;33m.\u001b[0m\u001b[0mget_transform\u001b[0m\u001b[1;33m(\u001b[0m\u001b[1;33m)\u001b[0m\u001b[1;33m)\u001b[0m\u001b[1;33m\u001b[0m\u001b[1;33m\u001b[0m\u001b[0m\n\u001b[0m\u001b[0;32m    622\u001b[0m \u001b[1;33m\u001b[0m\u001b[0m\n\u001b[0;32m    623\u001b[0m     \u001b[1;32mdef\u001b[0m \u001b[0m_convert_xy_units\u001b[0m\u001b[1;33m(\u001b[0m\u001b[0mself\u001b[0m\u001b[1;33m,\u001b[0m \u001b[0mxy\u001b[0m\u001b[1;33m)\u001b[0m\u001b[1;33m:\u001b[0m\u001b[1;33m\u001b[0m\u001b[1;33m\u001b[0m\u001b[0m\n",
      "\u001b[1;32m~\\anaconda3\\lib\\site-packages\\matplotlib\\path.py\u001b[0m in \u001b[0;36mget_extents\u001b[1;34m(self, transform, **kwargs)\u001b[0m\n\u001b[0;32m    615\u001b[0m         \u001b[1;32mfrom\u001b[0m \u001b[1;33m.\u001b[0m\u001b[0mtransforms\u001b[0m \u001b[1;32mimport\u001b[0m \u001b[0mBbox\u001b[0m\u001b[1;33m\u001b[0m\u001b[1;33m\u001b[0m\u001b[0m\n\u001b[0;32m    616\u001b[0m         \u001b[1;32mif\u001b[0m \u001b[0mtransform\u001b[0m \u001b[1;32mis\u001b[0m \u001b[1;32mnot\u001b[0m \u001b[1;32mNone\u001b[0m\u001b[1;33m:\u001b[0m\u001b[1;33m\u001b[0m\u001b[1;33m\u001b[0m\u001b[0m\n\u001b[1;32m--> 617\u001b[1;33m             \u001b[0mself\u001b[0m \u001b[1;33m=\u001b[0m \u001b[0mtransform\u001b[0m\u001b[1;33m.\u001b[0m\u001b[0mtransform_path\u001b[0m\u001b[1;33m(\u001b[0m\u001b[0mself\u001b[0m\u001b[1;33m)\u001b[0m\u001b[1;33m\u001b[0m\u001b[1;33m\u001b[0m\u001b[0m\n\u001b[0m\u001b[0;32m    618\u001b[0m         \u001b[1;32mif\u001b[0m \u001b[0mself\u001b[0m\u001b[1;33m.\u001b[0m\u001b[0mcodes\u001b[0m \u001b[1;32mis\u001b[0m \u001b[1;32mNone\u001b[0m\u001b[1;33m:\u001b[0m\u001b[1;33m\u001b[0m\u001b[1;33m\u001b[0m\u001b[0m\n\u001b[0;32m    619\u001b[0m             \u001b[0mxys\u001b[0m \u001b[1;33m=\u001b[0m \u001b[0mself\u001b[0m\u001b[1;33m.\u001b[0m\u001b[0mvertices\u001b[0m\u001b[1;33m\u001b[0m\u001b[1;33m\u001b[0m\u001b[0m\n",
      "\u001b[1;32m~\\anaconda3\\lib\\site-packages\\matplotlib\\transforms.py\u001b[0m in \u001b[0;36mtransform_path\u001b[1;34m(self, path)\u001b[0m\n\u001b[0;32m   1573\u001b[0m         \u001b[0mthat\u001b[0m \u001b[0mbegan\u001b[0m \u001b[1;32mas\u001b[0m \u001b[0mline\u001b[0m \u001b[0msegments\u001b[0m\u001b[1;33m.\u001b[0m\u001b[1;33m\u001b[0m\u001b[1;33m\u001b[0m\u001b[0m\n\u001b[0;32m   1574\u001b[0m         \"\"\"\n\u001b[1;32m-> 1575\u001b[1;33m         \u001b[1;32mreturn\u001b[0m \u001b[0mself\u001b[0m\u001b[1;33m.\u001b[0m\u001b[0mtransform_path_affine\u001b[0m\u001b[1;33m(\u001b[0m\u001b[0mself\u001b[0m\u001b[1;33m.\u001b[0m\u001b[0mtransform_path_non_affine\u001b[0m\u001b[1;33m(\u001b[0m\u001b[0mpath\u001b[0m\u001b[1;33m)\u001b[0m\u001b[1;33m)\u001b[0m\u001b[1;33m\u001b[0m\u001b[1;33m\u001b[0m\u001b[0m\n\u001b[0m\u001b[0;32m   1576\u001b[0m \u001b[1;33m\u001b[0m\u001b[0m\n\u001b[0;32m   1577\u001b[0m     \u001b[1;32mdef\u001b[0m \u001b[0mtransform_path_affine\u001b[0m\u001b[1;33m(\u001b[0m\u001b[0mself\u001b[0m\u001b[1;33m,\u001b[0m \u001b[0mpath\u001b[0m\u001b[1;33m)\u001b[0m\u001b[1;33m:\u001b[0m\u001b[1;33m\u001b[0m\u001b[1;33m\u001b[0m\u001b[0m\n",
      "\u001b[1;32m~\\anaconda3\\lib\\site-packages\\matplotlib\\transforms.py\u001b[0m in \u001b[0;36mtransform_path_affine\u001b[1;34m(self, path)\u001b[0m\n\u001b[0;32m   1583\u001b[0m         \u001b[0;31m`\u001b[0m\u001b[0;31m`\u001b[0m\u001b[0mtransform_path_affine\u001b[0m\u001b[1;33m(\u001b[0m\u001b[0mtransform_path_non_affine\u001b[0m\u001b[1;33m(\u001b[0m\u001b[0mvalues\u001b[0m\u001b[1;33m)\u001b[0m\u001b[1;33m)\u001b[0m\u001b[0;31m`\u001b[0m\u001b[0;31m`\u001b[0m\u001b[1;33m.\u001b[0m\u001b[1;33m\u001b[0m\u001b[1;33m\u001b[0m\u001b[0m\n\u001b[0;32m   1584\u001b[0m         \"\"\"\n\u001b[1;32m-> 1585\u001b[1;33m         \u001b[1;32mreturn\u001b[0m \u001b[0mself\u001b[0m\u001b[1;33m.\u001b[0m\u001b[0mget_affine\u001b[0m\u001b[1;33m(\u001b[0m\u001b[1;33m)\u001b[0m\u001b[1;33m.\u001b[0m\u001b[0mtransform_path_affine\u001b[0m\u001b[1;33m(\u001b[0m\u001b[0mpath\u001b[0m\u001b[1;33m)\u001b[0m\u001b[1;33m\u001b[0m\u001b[1;33m\u001b[0m\u001b[0m\n\u001b[0m\u001b[0;32m   1586\u001b[0m \u001b[1;33m\u001b[0m\u001b[0m\n\u001b[0;32m   1587\u001b[0m     \u001b[1;32mdef\u001b[0m \u001b[0mtransform_path_non_affine\u001b[0m\u001b[1;33m(\u001b[0m\u001b[0mself\u001b[0m\u001b[1;33m,\u001b[0m \u001b[0mpath\u001b[0m\u001b[1;33m)\u001b[0m\u001b[1;33m:\u001b[0m\u001b[1;33m\u001b[0m\u001b[1;33m\u001b[0m\u001b[0m\n",
      "\u001b[1;32m~\\anaconda3\\lib\\site-packages\\matplotlib\\transforms.py\u001b[0m in \u001b[0;36mget_affine\u001b[1;34m(self)\u001b[0m\n\u001b[0;32m   2404\u001b[0m             \u001b[1;32mreturn\u001b[0m \u001b[0mself\u001b[0m\u001b[1;33m.\u001b[0m\u001b[0m_b\u001b[0m\u001b[1;33m.\u001b[0m\u001b[0mget_affine\u001b[0m\u001b[1;33m(\u001b[0m\u001b[1;33m)\u001b[0m\u001b[1;33m\u001b[0m\u001b[1;33m\u001b[0m\u001b[0m\n\u001b[0;32m   2405\u001b[0m         \u001b[1;32melse\u001b[0m\u001b[1;33m:\u001b[0m\u001b[1;33m\u001b[0m\u001b[1;33m\u001b[0m\u001b[0m\n\u001b[1;32m-> 2406\u001b[1;33m             return Affine2D(np.dot(self._b.get_affine().get_matrix(),\n\u001b[0m\u001b[0;32m   2407\u001b[0m                                    self._a.get_affine().get_matrix()))\n\u001b[0;32m   2408\u001b[0m \u001b[1;33m\u001b[0m\u001b[0m\n",
      "\u001b[1;32m~\\anaconda3\\lib\\site-packages\\matplotlib\\transforms.py\u001b[0m in \u001b[0;36mget_affine\u001b[1;34m(self)\u001b[0m\n\u001b[0;32m   2404\u001b[0m             \u001b[1;32mreturn\u001b[0m \u001b[0mself\u001b[0m\u001b[1;33m.\u001b[0m\u001b[0m_b\u001b[0m\u001b[1;33m.\u001b[0m\u001b[0mget_affine\u001b[0m\u001b[1;33m(\u001b[0m\u001b[1;33m)\u001b[0m\u001b[1;33m\u001b[0m\u001b[1;33m\u001b[0m\u001b[0m\n\u001b[0;32m   2405\u001b[0m         \u001b[1;32melse\u001b[0m\u001b[1;33m:\u001b[0m\u001b[1;33m\u001b[0m\u001b[1;33m\u001b[0m\u001b[0m\n\u001b[1;32m-> 2406\u001b[1;33m             return Affine2D(np.dot(self._b.get_affine().get_matrix(),\n\u001b[0m\u001b[0;32m   2407\u001b[0m                                    self._a.get_affine().get_matrix()))\n\u001b[0;32m   2408\u001b[0m \u001b[1;33m\u001b[0m\u001b[0m\n",
      "\u001b[1;32m<__array_function__ internals>\u001b[0m in \u001b[0;36mdot\u001b[1;34m(*args, **kwargs)\u001b[0m\n",
      "\u001b[1;31mKeyboardInterrupt\u001b[0m: "
     ]
    }
   ],
   "source": [
    "g = sns.pairplot(df)"
   ]
  },
  {
   "cell_type": "markdown",
   "id": "1a5bc629",
   "metadata": {},
   "source": [
    "## 2.4 Categorical Plots (Question 6)"
   ]
  },
  {
   "cell_type": "code",
   "execution_count": 21,
   "id": "116d3ae4",
   "metadata": {
    "scrolled": true
   },
   "outputs": [
    {
     "data": {
      "image/png": "[encoded data removed]",
      "text/plain": [
       "<Figure size 720x720 with 1 Axes>"
      ]
     },
     "metadata": {
      "needs_background": "light"
     },
     "output_type": "display_data"
    }
   ],
   "source": [
    "f,ax = plt.subplots(figsize=(10,10))\n",
    "ax.ticklabel_format(style='plain', axis='both')\n",
    "g = sns.histplot(df['people_fully_vaccinated'], bins = 20, kde = True, ax=ax).set_yscale('log')\n"
   ]
  },
  {
   "cell_type": "code",
   "execution_count": 22,
   "id": "47d5c72b",
   "metadata": {
    "scrolled": true
   },
   "outputs": [],
   "source": [
    "df.loc[df['people_fully_vaccinated'] < 100000000, 'vaccinated_people_category'] = 'Low range'\n",
    "df.loc[(df['people_fully_vaccinated'] >= 100000000) & (df['people_fully_vaccinated'] < 600000000), 'vaccinated_people_category'] = 'Mid range'\n",
    "df.loc[df['people_fully_vaccinated'] >= 600000000, 'vaccinated_people_category'] = 'High range'"
   ]
  },
  {
   "cell_type": "code",
   "execution_count": 23,
   "id": "685af96d",
   "metadata": {
    "scrolled": true
   },
   "outputs": [
    {
     "data": {
      "text/plain": [
       "Low range     5427\n",
       "Mid range       30\n",
       "High range      11\n",
       "Name: vaccinated_people_category, dtype: int64"
      ]
     },
     "execution_count": 23,
     "metadata": {},
     "output_type": "execute_result"
    }
   ],
   "source": [
    "df['vaccinated_people_category'].value_counts(dropna = False)"
   ]
  },
  {
   "cell_type": "code",
   "execution_count": 24,
   "id": "894dc96e",
   "metadata": {
    "scrolled": true
   },
   "outputs": [],
   "source": [
    "# Extracting month and year from date to group by month and date for time series\n",
    "df['year'] = pd.to_datetime(df['month_year']).dt.to_period('Y')"
   ]
  },
  {
   "cell_type": "code",
   "execution_count": 25,
   "id": "6dfacb99",
   "metadata": {
    "scrolled": false
   },
   "outputs": [
    {
     "data": {
      "text/html": [
       "<div>\n",
       "<style scoped>\n",
       "    .dataframe tbody tr th:only-of-type {\n",
       "        vertical-align: middle;\n",
       "    }\n",
       "\n",
       "    .dataframe tbody tr th {\n",
       "        vertical-align: top;\n",
       "    }\n",
       "\n",
       "    .dataframe thead th {\n",
       "        text-align: right;\n",
       "    }\n",
       "</style>\n",
       "<table border=\"1\" class=\"dataframe\">\n",
       "  <thead>\n",
       "    <tr style=\"text-align: right;\">\n",
       "      <th></th>\n",
       "      <th>country</th>\n",
       "      <th>iso_code</th>\n",
       "      <th>month_year</th>\n",
       "      <th>vaccines</th>\n",
       "      <th>total_vaccinations</th>\n",
       "      <th>people_vaccinated</th>\n",
       "      <th>people_fully_vaccinated</th>\n",
       "      <th>monthly_vaccinations_raw</th>\n",
       "      <th>monthly_vaccinations</th>\n",
       "      <th>total_vaccinations_per_hundred</th>\n",
       "      <th>...</th>\n",
       "      <th>continent</th>\n",
       "      <th>population</th>\n",
       "      <th>new_cases</th>\n",
       "      <th>total_cases</th>\n",
       "      <th>new_deaths</th>\n",
       "      <th>total_deaths</th>\n",
       "      <th>%deaths</th>\n",
       "      <th>%cases</th>\n",
       "      <th>vaccinated_people_category</th>\n",
       "      <th>year</th>\n",
       "    </tr>\n",
       "  </thead>\n",
       "  <tbody>\n",
       "    <tr>\n",
       "      <th>0</th>\n",
       "      <td>Afghanistan</td>\n",
       "      <td>AFG</td>\n",
       "      <td>2021-02</td>\n",
       "      <td>Johnson&amp;Johnson, Oxford/AstraZeneca, Pfizer/Bi...</td>\n",
       "      <td>8200.0</td>\n",
       "      <td>8200.0</td>\n",
       "      <td>0.0</td>\n",
       "      <td>0.0</td>\n",
       "      <td>8202.0</td>\n",
       "      <td>0.02</td>\n",
       "      <td>...</td>\n",
       "      <td>Asia</td>\n",
       "      <td>39835428.0</td>\n",
       "      <td>691.0</td>\n",
       "      <td>55714.0</td>\n",
       "      <td>43.0</td>\n",
       "      <td>2443.0</td>\n",
       "      <td>0.006133</td>\n",
       "      <td>0.139860</td>\n",
       "      <td>Low range</td>\n",
       "      <td>2021</td>\n",
       "    </tr>\n",
       "    <tr>\n",
       "      <th>1</th>\n",
       "      <td>Afghanistan</td>\n",
       "      <td>AFG</td>\n",
       "      <td>2021-03</td>\n",
       "      <td>Johnson&amp;Johnson, Oxford/AstraZeneca, Pfizer/Bi...</td>\n",
       "      <td>54000.0</td>\n",
       "      <td>54000.0</td>\n",
       "      <td>0.0</td>\n",
       "      <td>0.0</td>\n",
       "      <td>85894.0</td>\n",
       "      <td>0.14</td>\n",
       "      <td>...</td>\n",
       "      <td>Asia</td>\n",
       "      <td>39835428.0</td>\n",
       "      <td>740.0</td>\n",
       "      <td>56454.0</td>\n",
       "      <td>41.0</td>\n",
       "      <td>2484.0</td>\n",
       "      <td>0.006236</td>\n",
       "      <td>0.141718</td>\n",
       "      <td>Low range</td>\n",
       "      <td>2021</td>\n",
       "    </tr>\n",
       "    <tr>\n",
       "      <th>2</th>\n",
       "      <td>Afghanistan</td>\n",
       "      <td>AFG</td>\n",
       "      <td>2021-04</td>\n",
       "      <td>Johnson&amp;Johnson, Oxford/AstraZeneca, Pfizer/Bi...</td>\n",
       "      <td>240000.0</td>\n",
       "      <td>240000.0</td>\n",
       "      <td>0.0</td>\n",
       "      <td>0.0</td>\n",
       "      <td>219606.0</td>\n",
       "      <td>0.60</td>\n",
       "      <td>...</td>\n",
       "      <td>Asia</td>\n",
       "      <td>39835428.0</td>\n",
       "      <td>3291.0</td>\n",
       "      <td>59745.0</td>\n",
       "      <td>141.0</td>\n",
       "      <td>2625.0</td>\n",
       "      <td>0.006590</td>\n",
       "      <td>0.149980</td>\n",
       "      <td>Low range</td>\n",
       "      <td>2021</td>\n",
       "    </tr>\n",
       "    <tr>\n",
       "      <th>3</th>\n",
       "      <td>Afghanistan</td>\n",
       "      <td>AFG</td>\n",
       "      <td>2021-05</td>\n",
       "      <td>Johnson&amp;Johnson, Oxford/AstraZeneca, Pfizer/Bi...</td>\n",
       "      <td>600152.0</td>\n",
       "      <td>480226.0</td>\n",
       "      <td>119926.0</td>\n",
       "      <td>2859.0</td>\n",
       "      <td>285838.0</td>\n",
       "      <td>1.51</td>\n",
       "      <td>...</td>\n",
       "      <td>Asia</td>\n",
       "      <td>39835428.0</td>\n",
       "      <td>12093.0</td>\n",
       "      <td>71838.0</td>\n",
       "      <td>319.0</td>\n",
       "      <td>2944.0</td>\n",
       "      <td>0.007390</td>\n",
       "      <td>0.180337</td>\n",
       "      <td>Low range</td>\n",
       "      <td>2021</td>\n",
       "    </tr>\n",
       "    <tr>\n",
       "      <th>4</th>\n",
       "      <td>Afghanistan</td>\n",
       "      <td>AFG</td>\n",
       "      <td>2021-06</td>\n",
       "      <td>Johnson&amp;Johnson, Oxford/AstraZeneca, Pfizer/Bi...</td>\n",
       "      <td>886854.0</td>\n",
       "      <td>699200.0</td>\n",
       "      <td>187654.0</td>\n",
       "      <td>4015.0</td>\n",
       "      <td>242899.0</td>\n",
       "      <td>2.23</td>\n",
       "      <td>...</td>\n",
       "      <td>Asia</td>\n",
       "      <td>39835428.0</td>\n",
       "      <td>46821.0</td>\n",
       "      <td>118659.0</td>\n",
       "      <td>1927.0</td>\n",
       "      <td>4871.0</td>\n",
       "      <td>0.012228</td>\n",
       "      <td>0.297873</td>\n",
       "      <td>Low range</td>\n",
       "      <td>2021</td>\n",
       "    </tr>\n",
       "  </tbody>\n",
       "</table>\n",
       "<p>5 rows × 23 columns</p>\n",
       "</div>"
      ],
      "text/plain": [
       "       country iso_code month_year  \\\n",
       "0  Afghanistan      AFG    2021-02   \n",
       "1  Afghanistan      AFG    2021-03   \n",
       "2  Afghanistan      AFG    2021-04   \n",
       "3  Afghanistan      AFG    2021-05   \n",
       "4  Afghanistan      AFG    2021-06   \n",
       "\n",
       "                                            vaccines  total_vaccinations  \\\n",
       "0  Johnson&Johnson, Oxford/AstraZeneca, Pfizer/Bi...              8200.0   \n",
       "1  Johnson&Johnson, Oxford/AstraZeneca, Pfizer/Bi...             54000.0   \n",
       "2  Johnson&Johnson, Oxford/AstraZeneca, Pfizer/Bi...            240000.0   \n",
       "3  Johnson&Johnson, Oxford/AstraZeneca, Pfizer/Bi...            600152.0   \n",
       "4  Johnson&Johnson, Oxford/AstraZeneca, Pfizer/Bi...            886854.0   \n",
       "\n",
       "   people_vaccinated  people_fully_vaccinated  monthly_vaccinations_raw  \\\n",
       "0             8200.0                      0.0                       0.0   \n",
       "1            54000.0                      0.0                       0.0   \n",
       "2           240000.0                      0.0                       0.0   \n",
       "3           480226.0                 119926.0                    2859.0   \n",
       "4           699200.0                 187654.0                    4015.0   \n",
       "\n",
       "   monthly_vaccinations  total_vaccinations_per_hundred  ...  continent  \\\n",
       "0                8202.0                            0.02  ...       Asia   \n",
       "1               85894.0                            0.14  ...       Asia   \n",
       "2              219606.0                            0.60  ...       Asia   \n",
       "3              285838.0                            1.51  ...       Asia   \n",
       "4              242899.0                            2.23  ...       Asia   \n",
       "\n",
       "   population  new_cases total_cases  new_deaths  total_deaths   %deaths  \\\n",
       "0  39835428.0      691.0     55714.0        43.0        2443.0  0.006133   \n",
       "1  39835428.0      740.0     56454.0        41.0        2484.0  0.006236   \n",
       "2  39835428.0     3291.0     59745.0       141.0        2625.0  0.006590   \n",
       "3  39835428.0    12093.0     71838.0       319.0        2944.0  0.007390   \n",
       "4  39835428.0    46821.0    118659.0      1927.0        4871.0  0.012228   \n",
       "\n",
       "     %cases  vaccinated_people_category  year  \n",
       "0  0.139860                   Low range  2021  \n",
       "1  0.141718                   Low range  2021  \n",
       "2  0.149980                   Low range  2021  \n",
       "3  0.180337                   Low range  2021  \n",
       "4  0.297873                   Low range  2021  \n",
       "\n",
       "[5 rows x 23 columns]"
      ]
     },
     "execution_count": 25,
     "metadata": {},
     "output_type": "execute_result"
    }
   ],
   "source": [
    "df.head()"
   ]
  },
  {
   "cell_type": "code",
   "execution_count": 26,
   "id": "7823991b",
   "metadata": {
    "scrolled": true
   },
   "outputs": [
    {
     "data": {
      "text/plain": [
       "country                                       object\n",
       "iso_code                                      object\n",
       "month_year                                    object\n",
       "vaccines                                      object\n",
       "total_vaccinations                           float64\n",
       "people_vaccinated                            float64\n",
       "people_fully_vaccinated                      float64\n",
       "monthly_vaccinations_raw                     float64\n",
       "monthly_vaccinations                         float64\n",
       "total_vaccinations_per_hundred               float64\n",
       "people_vaccinated_per_hundred                float64\n",
       "people_fully_vaccinated_per_hundred          float64\n",
       "monthly_vaccinations_per_million             float64\n",
       "continent                                     object\n",
       "population                                   float64\n",
       "new_cases                                    float64\n",
       "total_cases                                  float64\n",
       "new_deaths                                   float64\n",
       "total_deaths                                 float64\n",
       "%deaths                                      float64\n",
       "%cases                                       float64\n",
       "vaccinated_people_category                    object\n",
       "year                                   period[A-DEC]\n",
       "dtype: object"
      ]
     },
     "execution_count": 26,
     "metadata": {},
     "output_type": "execute_result"
    }
   ],
   "source": [
    "df.dtypes"
   ]
  },
  {
   "cell_type": "code",
   "execution_count": 27,
   "id": "8d713bb4",
   "metadata": {
    "scrolled": false
   },
   "outputs": [
    {
     "data": {
      "text/plain": [
       "<seaborn.axisgrid.FacetGrid at 0x2d348008bb0>"
      ]
     },
     "execution_count": 27,
     "metadata": {},
     "output_type": "execute_result"
    },
    {
     "data": {
      "image/png": "[encoded data removed]",
      "text/plain": [
       "<Figure size 521.3x360 with 1 Axes>"
      ]
     },
     "metadata": {},
     "output_type": "display_data"
    }
   ],
   "source": [
    "sns.set(style=\"ticks\")\n",
    "cat = sns.catplot(x=\"year\", y=\"total_vaccinations\", hue=\"vaccinated_people_category\", data=df)\n",
    "cat.set(yscale=\"log\")"
   ]
  },
  {
   "cell_type": "code",
   "execution_count": 28,
   "id": "7eb057ca",
   "metadata": {
    "scrolled": true
   },
   "outputs": [
    {
     "data": {
      "text/plain": [
       "<seaborn.axisgrid.FacetGrid at 0x2d47b4848e0>"
      ]
     },
     "execution_count": 28,
     "metadata": {},
     "output_type": "execute_result"
    },
    {
     "data": {
      "image/png": "[encoded data removed]",
      "text/plain": [
       "<Figure size 424.1x360 with 1 Axes>"
      ]
     },
     "metadata": {},
     "output_type": "display_data"
    }
   ],
   "source": [
    "sns.set(style=\"ticks\")\n",
    "cat2 = sns.catplot(y=\"total_vaccinations\", x=\"vaccinated_people_category\", hue=\"year\", data=df)\n",
    "cat2.set(yscale=\"log\")"
   ]
  },
  {
   "cell_type": "code",
   "execution_count": null,
   "id": "56cb29ff",
   "metadata": {
    "scrolled": false
   },
   "outputs": [],
   "source": [
    "# Which countries are using which vaccines?\n",
    "sns.set(style=\"ticks\")\n",
    "bar = sns.catplot(data=df, kind=\"bar\",\n",
    "    x=\"country\", y=\"total_vaccinations\", hue=\"vaccines\",\n",
    "    ci=\"sd\", alpha=.6, height=15)\n",
    "bar.set(yscale=\"log\")\n",
    "plt.xticks(rotation=90, ha='center')"
   ]
  },
  {
   "cell_type": "markdown",
   "id": "31259651",
   "metadata": {},
   "source": [
    "This catplot did not work so well. With over 200 countries, and almost each country uses a different combination of vaccines. I will have to state my question differently. Perhaps something like, \"which countries are using Pfizer-BioNTech?\" Then I can create a flag for those that have the Pfizer/BioNTec vaccine among their list of vaccines, etc."
   ]
  },
  {
   "cell_type": "code",
   "execution_count": null,
   "id": "31f495a4",
   "metadata": {
    "scrolled": true
   },
   "outputs": [],
   "source": [
    "df['use_Pfizer/biontec?'] = \"FALSE\""
   ]
  },
  {
   "cell_type": "code",
   "execution_count": null,
   "id": "c1d63224",
   "metadata": {
    "scrolled": true
   },
   "outputs": [],
   "source": [
    "df.loc[df['vaccines'].str.contains(\"Pfizer/BioNTec\"), 'use_Pfizer/biontec?'] = 'TRUE'"
   ]
  },
  {
   "cell_type": "code",
   "execution_count": null,
   "id": "37aada03",
   "metadata": {
    "scrolled": true
   },
   "outputs": [],
   "source": [
    "df.head()"
   ]
  },
  {
   "cell_type": "code",
   "execution_count": null,
   "id": "e3c29e71",
   "metadata": {
    "scrolled": false
   },
   "outputs": [],
   "source": [
    "df.tail()"
   ]
  },
  {
   "cell_type": "code",
   "execution_count": null,
   "id": "963baa1a",
   "metadata": {
    "scrolled": true
   },
   "outputs": [],
   "source": [
    "# Which countries are using Pfizer/Biontec?\n",
    "sns.set_theme(style=\"darkgrid\")\n",
    "sns.set(style=\"ticks\")\n",
    "bar1 = sns.barplot(data=df,\n",
    "    y=\"country\", x=\"total_vaccinations\", hue=\"use_Pfizer/biontec?\")\n",
    "bar1.set(xscale=\"log\")\n",
    "plt.xticks(rotation=90, ha='center')"
   ]
  },
  {
   "cell_type": "markdown",
   "id": "5305d143",
   "metadata": {},
   "source": [
    "This method also did not work so well. It might make more sense to visualize this question purely by  creating a table. There are simply too many countries to plot on one chart. Or perhaps I need to research this a bit more (or remove the question altogether). I might be able to answer this question in a future exercise when we learn about plotting geographical plots and then add the vaccine combination to each country."
   ]
  },
  {
   "cell_type": "code",
   "execution_count": null,
   "id": "072af463",
   "metadata": {
    "scrolled": true
   },
   "outputs": [],
   "source": [
    "df1 = df.groupby(['country','vaccines', 'use_Pfizer/biontec?'], as_index=False).agg({'total_vaccinations':['max']},  as_index=False)"
   ]
  },
  {
   "cell_type": "code",
   "execution_count": null,
   "id": "41c6b69c",
   "metadata": {
    "scrolled": false
   },
   "outputs": [],
   "source": [
    "df1.head()"
   ]
  },
  {
   "cell_type": "code",
   "execution_count": null,
   "id": "498e346c",
   "metadata": {
    "scrolled": true
   },
   "outputs": [],
   "source": [
    "df1.tail()"
   ]
  },
  {
   "cell_type": "code",
   "execution_count": null,
   "id": "50864977",
   "metadata": {
    "scrolled": true
   },
   "outputs": [],
   "source": [
    "crosstab = pd.crosstab(df1['vaccines'], df1['country'], dropna = False)"
   ]
  },
  {
   "cell_type": "code",
   "execution_count": null,
   "id": "9e3b0715",
   "metadata": {
    "scrolled": true
   },
   "outputs": [],
   "source": [
    "crosstab"
   ]
  },
  {
   "cell_type": "code",
   "execution_count": null,
   "id": "d806885a",
   "metadata": {
    "scrolled": false
   },
   "outputs": [],
   "source": [
    "sns.set(rc={'figure.figsize':(20,20)})\n",
    "sns.set_theme(style=\"darkgrid\")\n",
    "palette = sns.color_palette(\"Blues_d\",n_colors=223)\n",
    "xtab_stacked = crosstab.plot.bar(stacked = True, color=palette)\n",
    "plt.xticks(rotation=90, ha='center')\n",
    "plt.tight_layout()"
   ]
  },
  {
   "cell_type": "code",
   "execution_count": null,
   "id": "1ff8db00",
   "metadata": {
    "scrolled": true
   },
   "outputs": [],
   "source": [
    "sns.set(rc={'figure.figsize':(20,20)})\n",
    "sns.set_theme(style=\"darkgrid\")\n",
    "palette = sns.color_palette(\"Blues_d\",n_colors=223)\n",
    "xtab_stacked = crosstab.plot.bar(stacked = True, color=palette)\n",
    "plt.xticks(rotation=90, ha='center')\n",
    "plt.tight_layout()\n",
    "plt.legend([],[], frameon=False)"
   ]
  },
  {
   "cell_type": "code",
   "execution_count": null,
   "id": "5a4592f6",
   "metadata": {
    "scrolled": true
   },
   "outputs": [],
   "source": [
    "crosstab2 = pd.crosstab(df1['use_Pfizer/biontec?'], df1['country'], dropna = False)"
   ]
  },
  {
   "cell_type": "code",
   "execution_count": null,
   "id": "606052ec",
   "metadata": {
    "scrolled": true
   },
   "outputs": [],
   "source": [
    "crosstab2"
   ]
  },
  {
   "cell_type": "code",
   "execution_count": null,
   "id": "b0c9e0f5",
   "metadata": {
    "scrolled": false
   },
   "outputs": [],
   "source": [
    "palette = sns.color_palette(\"Blues_d\",n_colors=223)\n",
    "sns.set(rc={'figure.figsize':(15,15)})\n",
    "sns.set_theme(style=\"darkgrid\")\n",
    "xtab_stacked2 = crosstab2.plot.bar(stacked = True, color=palette)\n",
    "plt.xticks(rotation=90, ha='center')"
   ]
  },
  {
   "cell_type": "code",
   "execution_count": null,
   "id": "0dc891b2",
   "metadata": {
    "scrolled": true
   },
   "outputs": [],
   "source": [
    "df['month_year'] = df['month_year'].astype('datetime64[ns]')"
   ]
  },
  {
   "cell_type": "code",
   "execution_count": null,
   "id": "74503ab9",
   "metadata": {
    "scrolled": true
   },
   "outputs": [],
   "source": [
    "df.rename(columns = {'month_year' : 'date'}, inplace = True)"
   ]
  },
  {
   "cell_type": "code",
   "execution_count": null,
   "id": "630c23f7",
   "metadata": {
    "scrolled": false
   },
   "outputs": [],
   "source": [
    "# How have the vaccine rollouts been progressing in each country? \n",
    "line = sns.lineplot(data=df, x=\"date\", y=\"total_vaccinations\", hue=\"country\")\n",
    "plt.legend(loc='upper right')\n",
    "line.set(yscale=\"log\")"
   ]
  },
  {
   "cell_type": "code",
   "execution_count": null,
   "id": "d4e398d5",
   "metadata": {
    "scrolled": true
   },
   "outputs": [],
   "source": [
    "# How have the vaccine rollouts been progressing in each country? \n",
    "line1 = sns.lineplot(data=df, x=\"date\", y=\"total_vaccinations_per_hundred\", hue=\"country\")\n",
    "plt.legend(loc='upper left')"
   ]
  },
  {
   "cell_type": "code",
   "execution_count": null,
   "id": "42e7a164",
   "metadata": {
    "scrolled": true
   },
   "outputs": [],
   "source": [
    "# How have the vaccine rollouts been progressing in each country? \n",
    "line2 = sns.lineplot(data=df, x=\"date\", y=\"people_vaccinated\", hue=\"country\")\n",
    "plt.legend(loc='upper left')"
   ]
  },
  {
   "cell_type": "code",
   "execution_count": null,
   "id": "e22dcd3b",
   "metadata": {
    "scrolled": false
   },
   "outputs": [],
   "source": [
    "# How have the vaccine rollouts been progressing in each country? \n",
    "line3 = sns.lineplot(data=df, x=\"date\", y=\"people_vaccinated_per_hundred\", hue=\"country\")\n",
    "plt.legend(loc='upper left')"
   ]
  },
  {
   "cell_type": "code",
   "execution_count": null,
   "id": "fe3acbb7",
   "metadata": {
    "scrolled": false
   },
   "outputs": [],
   "source": [
    "# How have the vaccine rollouts been progressing in each country? \n",
    "line4 = sns.lineplot(data=df, x=\"date\", y=\"people_fully_vaccinated\", hue=\"country\")"
   ]
  },
  {
   "cell_type": "code",
   "execution_count": null,
   "id": "7e4fc0a9",
   "metadata": {
    "scrolled": false
   },
   "outputs": [],
   "source": [
    "# How have the vaccine rollouts been progressing in each country? \n",
    "line5 = sns.lineplot(data=df, x=\"date\", y=\"people_fully_vaccinated_per_hundred\", hue=\"country\")\n",
    "plt.legend(loc='upper right')"
   ]
  },
  {
   "cell_type": "markdown",
   "id": "24a3c1c7",
   "metadata": {},
   "source": [
    "# Question 7"
   ]
  },
  {
   "cell_type": "markdown",
   "id": "3d7bac85",
   "metadata": {},
   "source": [
    "#### Which countries are using which vaccines? \n",
    "Looking at the catplots and bar plots, it is not very easy to see exactly which countries are using which vaccines. I would rather rephrase this question to how many of each vaccine-combination are used? The count of each combination. There are 223 countries and 79 different groups of vaccination and this large amount of categories do not plot well. I might be able to plot this answer better using a geographocal plot (each country would have a different colour which will represent the vaccine combination they are using). I was also able to plot which countries are using Pfizer/BioNTec but again since there are 223 countries it is not easy to see which colour represents which country."
   ]
  },
  {
   "cell_type": "markdown",
   "id": "54c6c786",
   "metadata": {},
   "source": [
    "#### How have the vaccine rollouts been progressing in each country?\n",
    "Most countries had a gradual rollout, a rather linear regression, but it seems China and India (if I am reading the colours correctly) have the a much faster progression in their vaccine rollouts - it seems their total vaccinations have almost increased exponentially each month. It is very important to keep in mind that China and India have extremely large populations, thus looking at vaccination per hundred might be more accurate. When looking at it this way, China is in fact not progressing faster. If I am reading the colors correctly it seems Iceland (or Ireland) is progressing the fastest when looking at people fully vaccinated. The green colour in this chart looks different from the 1st chart."
   ]
  },
  {
   "cell_type": "markdown",
   "id": "ceb3b4de",
   "metadata": {},
   "source": [
    "#### Which countries are more advanced and why?\n",
    "From the visualisations I created, it seems China, Iceland (or Ireland), and New Zealand seem to be most advanced (looking at the final number on the people_fully_vaccinate_per_hundred line chart)."
   ]
  },
  {
   "cell_type": "markdown",
   "id": "08617cc1",
   "metadata": {},
   "source": [
    "#### Which countries had the first batch of vaccines?\n",
    "There are many countries who started in December 2020 with vaccinations. It is not very easy to see on the line chart. I think among them are the US, the UK, India, China, New Zealand, Russia and Germany. I would say the countries where vaccines were developed and first world countries were among the first."
   ]
  },
  {
   "cell_type": "markdown",
   "id": "a1fc9aa7",
   "metadata": {},
   "source": [
    "#### Eventually, I would also want to know what the effect of the vaccines has been on the COVID-19 situation worldwide? \n",
    "This question I will answer once I introduce another dataset (I think one of the future exercises have this requirement to add another dataset)"
   ]
  },
  {
   "cell_type": "markdown",
   "id": "cb13848a",
   "metadata": {},
   "source": [
    "# Question 8"
   ]
  },
  {
   "cell_type": "markdown",
   "id": "373e17b6",
   "metadata": {},
   "source": [
    "#### My hypotheses are: \n",
    "1. \"The bigger a country's population, the more vaccinations they administer per month\"\n",
    "2. \"The more vaccinations are administered, the more people are fully vaccinated\"\n",
    "3. \"The more vaccinations are administered, the less covid-19 deaths there are\" (this is a hypothesis that will be tested later)."
   ]
  },
  {
   "cell_type": "code",
   "execution_count": null,
   "id": "0c80c650",
   "metadata": {},
   "outputs": [],
   "source": []
  }
 ],
 "metadata": {
  "kernelspec": {
   "display_name": "Python 3 (ipykernel)",
   "language": "python",
   "name": "python3"
  },
  "language_info": {
   "codemirror_mode": {
    "name": "ipython",
    "version": 3
   },
   "file_extension": ".py",
   "mimetype": "text/x-python",
   "name": "python",
   "nbconvert_exporter": "python",
   "pygments_lexer": "ipython3",
   "version": "3.9.7"
  }
 },
 "nbformat": 4,
 "nbformat_minor": 5
}
